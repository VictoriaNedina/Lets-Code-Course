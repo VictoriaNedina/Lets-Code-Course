{
 "cells": [
  {
   "cell_type": "markdown",
   "id": "59bff410",
   "metadata": {},
   "source": [
    "## Controle de Fluxo"
   ]
  },
  {
   "cell_type": "markdown",
   "id": "9ede75bc",
   "metadata": {},
   "source": [
    "Faça um programa que leia dois números e informe o maior deles."
   ]
  },
  {
   "cell_type": "code",
   "execution_count": 11,
   "id": "6303f046",
   "metadata": {},
   "outputs": [
    {
     "name": "stdout",
     "output_type": "stream",
     "text": [
      "Insira um número: 2\n",
      "Insira outro número: 2\n",
      "O maior número é: 2.0\n"
     ]
    }
   ],
   "source": [
    "first_number = float(input(\"Insira um número: \"))\n",
    "second_number = float(input(\"Insira outro número: \"))\n",
    "\n",
    "if first_number > second_number:\n",
    "    print(\"O maior número é:\", first_number)\n",
    "else:\n",
    "    print(\"O maior número é:\", second_number)"
   ]
  },
  {
   "cell_type": "markdown",
   "id": "7573e3fe",
   "metadata": {},
   "source": [
    "Faça um código que leia um número e informe se ele é par ou ímpar."
   ]
  },
  {
   "cell_type": "code",
   "execution_count": 19,
   "id": "43ba3d4c",
   "metadata": {},
   "outputs": [
    {
     "name": "stdout",
     "output_type": "stream",
     "text": [
      "Insira um número: 5\n",
      "5 é ímpar\n"
     ]
    }
   ],
   "source": [
    "number = int(input(\"Insira um número: \"))\n",
    "\n",
    "if number % 2 == 0:\n",
    "    print(number, \"é par\")\n",
    "else:\n",
    "    print(number, \"é ímpar\")"
   ]
  },
  {
   "cell_type": "markdown",
   "id": "a22bee43",
   "metadata": {},
   "source": [
    "Faça um programa que receba 3 notas de prova de um aluno, calcule a média e diga se ele foi aprovado ou reprovado. A média para aprovação é de pelo menos 6 (aprovado se média maior ou igual a 6)."
   ]
  },
  {
   "cell_type": "code",
   "execution_count": 27,
   "id": "1e656d81",
   "metadata": {},
   "outputs": [
    {
     "name": "stdout",
     "output_type": "stream",
     "text": [
      "Insira a primeira nota -6\n",
      "Insira a segunda nota -6\n",
      "Insira a terceira nota: -6\n",
      "Reprovado\n"
     ]
    }
   ],
   "source": [
    "first_exam = float(input(\"Insira a primeira nota \"))\n",
    "second_exam = float(input(\"Insira a segunda nota \"))\n",
    "third_exam = float(input(\"Insira a terceira nota: \"))\n",
    "\n",
    "media = (first_exam + second_exam + third_exam)/3\n",
    "\n",
    "if media >= 6:\n",
    "    print (\"Aprovado\")\n",
    "else:\n",
    "    print(\"Reprovado\")"
   ]
  },
  {
   "cell_type": "markdown",
   "id": "77aa8e98",
   "metadata": {},
   "source": [
    "Uma empresa irá aplicar um reajuste nos salários de seus funcionários de acordo com as seguintes regras:\n",
    "\n",
    "Salário até R$2800,00 (incluindo): aumento de 20%;\n",
    "\n",
    "Salários entre R 2800,00 e R$7000,00: aumento de 15%;\n",
    "\n",
    "Salários entre R 7000,00 e R$15000,00: aumento de 10%;\n",
    "\n",
    "Salários de R$15000,00 em diante: aumento de 5%.\n",
    "\n",
    "Dado o salário de um funcionário, informe: o salário antes do reajuste; o percentual de aumento aplicado; o valor do aumento e o novo salário."
   ]
  },
  {
   "cell_type": "code",
   "execution_count": 49,
   "id": "f3df1f06",
   "metadata": {},
   "outputs": [
    {
     "name": "stdout",
     "output_type": "stream",
     "text": [
      "Insira o salário do funcionário em R$ 15000\n",
      "Salário antes do reajuste: R$ 15000.0\n",
      "Percentual de aumento aplicado: 10.0 %\n",
      "Valor do aumento: R$ 1500.0\n",
      "Novo salário: R$ 16500.0\n"
     ]
    }
   ],
   "source": [
    "salary = float(input(\"Insira o salário do funcionário em R$ \"))\n",
    "\n",
    "if salary <= 2800:\n",
    "    percent = 0.2\n",
    "\n",
    "elif salary <= 7000:\n",
    "    percent = 0.15\n",
    "\n",
    "elif salary <= 15000:\n",
    "    percent = 0.10\n",
    "\n",
    "else:\n",
    "    percent = 0.05\n",
    "\n",
    "readjustment = (salary * percent) + salary\n",
    "value = readjustment - salary\n",
    "\n",
    "print(\"Salário antes do reajuste: R$\", salary)\n",
    "print(\"Percentual de aumento aplicado:\", percent*100,\"%\")\n",
    "print(\"Valor do aumento: R$\", value)\n",
    "print(\"Novo salário: R$\", readjustment)"
   ]
  },
  {
   "cell_type": "markdown",
   "id": "daed0654",
   "metadata": {},
   "source": [
    "## While Loop"
   ]
  },
  {
   "cell_type": "markdown",
   "id": "376c7932",
   "metadata": {},
   "source": [
    "Faça um script que peça para um usuário digitar um número e que só finaliza quando o usuário digitar 0."
   ]
  },
  {
   "cell_type": "code",
   "execution_count": 65,
   "id": "f60ae409",
   "metadata": {},
   "outputs": [
    {
     "name": "stdout",
     "output_type": "stream",
     "text": [
      "Digite um número e digite 0 para finalizar: 5\n",
      "Digite um número e digite 0 para finalizar: 5\n",
      "Digite um número e digite 0 para finalizar: 3\n",
      "Digite um número e digite 0 para finalizar: 3\n",
      "Digite um número e digite 0 para finalizar: 3\n",
      "Digite um número e digite 0 para finalizar: 3\n",
      "Digite um número e digite 0 para finalizar: 3\n",
      "Digite um número e digite 0 para finalizar: 3\n",
      "Digite um número e digite 0 para finalizar: 3\n",
      "Digite um número e digite 0 para finalizar: 3\n",
      "Digite um número e digite 0 para finalizar: 3\n",
      "Digite um número e digite 0 para finalizar: 3\n",
      "Digite um número e digite 0 para finalizar: 3\n",
      "Digite um número e digite 0 para finalizar: 3\n",
      "Digite um número e digite 0 para finalizar: 363\n",
      "Digite um número e digite 0 para finalizar: 3\n",
      "Digite um número e digite 0 para finalizar: 3\n",
      "Digite um número e digite 0 para finalizar: 3\n",
      "Digite um número e digite 0 para finalizar: 0\n"
     ]
    }
   ],
   "source": [
    "number = int\n",
    "\n",
    "while number != 0:\n",
    "    number = int(input(\"Digite um número e digite 0 para finalizar: \"))"
   ]
  },
  {
   "cell_type": "markdown",
   "id": "e14a5d3f",
   "metadata": {},
   "source": [
    "Faça um script que peça para o usuário digitar a idade, o salário e o sexo de uma pessoa até que as entradas digitadas sejam válidas.\n",
    "\n",
    "1. Idade: entre 0 e 150;\n",
    "2. Salário: maior que 0;\n",
    "3. Gênero: M, F ou Outro.\n",
    "\n",
    "Por último imprima os dados recebidos do usuário."
   ]
  },
  {
   "cell_type": "code",
   "execution_count": 83,
   "id": "7175afe4",
   "metadata": {},
   "outputs": [
    {
     "name": "stdout",
     "output_type": "stream",
     "text": [
      "Digite a idade: 150\n",
      "Digite o salário: -8\n",
      "Digite seu sexo: l\n",
      "Digite a idade: 5\n",
      "Digite o salário: 65\n",
      "Digite seu sexo: O\n",
      "Idade: 5\n",
      "Salário: 65.0\n",
      "Gênero: O\n"
     ]
    }
   ],
   "source": [
    "age = age = int(input(\"Digite a idade: \"))\n",
    "salary = float(input(\"Digite o salário: \"))\n",
    "gender = (input(\"Digite seu sexo: \"))\n",
    "\n",
    "while age < 0 or age >= 150:\n",
    "    age = int(input(\"Digite a idade: \"))\n",
    "    \n",
    "while salary <= 0:\n",
    "    salary = float(input(\"Digite o salário: \"))\n",
    "\n",
    "while gender != 'M' and gender != 'F' and gender != 'O':\n",
    "    gender = (input(\"Digite seu sexo: \"))\n",
    "    \n",
    "print(\"Idade:\", age)\n",
    "print(\"Salário:\", salary)\n",
    "print(\"Gênero:\", gender)"
   ]
  },
  {
   "cell_type": "markdown",
   "id": "cd6435ed",
   "metadata": {},
   "source": [
    "Faça um script que peça ao usuário para digitar um número n e some todos os números de 1 a n."
   ]
  },
  {
   "cell_type": "code",
   "execution_count": 99,
   "id": "82bc33b9",
   "metadata": {},
   "outputs": [
    {
     "name": "stdout",
     "output_type": "stream",
     "text": [
      "Digite a quantidade de elementos: 10\n",
      "55\n"
     ]
    }
   ],
   "source": [
    "n = int(input(\"Digite a quantidade de elementos: \"))\n",
    "\n",
    "cont = 1\n",
    "result = 0\n",
    "\n",
    "while cont <= n:\n",
    "    result += cont\n",
    "    cont += 1\n",
    "\n",
    "print(result)"
   ]
  },
  {
   "cell_type": "markdown",
   "id": "dba4660e",
   "metadata": {},
   "source": [
    "Faça um script que peça para um usuário digitar um número e que só finaliza quando o usuário digitar 0. Ao final imprima a soma de todos os números digitados."
   ]
  },
  {
   "cell_type": "code",
   "execution_count": 111,
   "id": "373957da",
   "metadata": {},
   "outputs": [
    {
     "name": "stdout",
     "output_type": "stream",
     "text": [
      "Digite um número e digite 0 para finalizar: 10\n",
      "Digite um número e digite 0 para finalizar: 10\n",
      "Digite um número e digite 0 para finalizar: 10\n",
      "Digite um número e digite 0 para finalizar: 10\n",
      "Digite um número e digite 0 para finalizar: 10\n",
      "Digite um número e digite 0 para finalizar: 10\n",
      "Digite um número e digite 0 para finalizar: 2\n",
      "Digite um número e digite 0 para finalizar: 2\n",
      "Digite um número e digite 0 para finalizar: 0\n",
      "64\n"
     ]
    }
   ],
   "source": [
    "result = 0\n",
    "\n",
    "while True:\n",
    "    number = int(input(\"Digite um número e digite 0 para finalizar: \"))\n",
    "    result += number\n",
    "    \n",
    "    if number == 0:\n",
    "        break\n",
    "\n",
    "print(result)"
   ]
  }
 ],
 "metadata": {
  "kernelspec": {
   "display_name": "Python 3 (ipykernel)",
   "language": "python",
   "name": "python3"
  },
  "language_info": {
   "codemirror_mode": {
    "name": "ipython",
    "version": 3
   },
   "file_extension": ".py",
   "mimetype": "text/x-python",
   "name": "python",
   "nbconvert_exporter": "python",
   "pygments_lexer": "ipython3",
   "version": "3.9.7"
  }
 },
 "nbformat": 4,
 "nbformat_minor": 5
}
