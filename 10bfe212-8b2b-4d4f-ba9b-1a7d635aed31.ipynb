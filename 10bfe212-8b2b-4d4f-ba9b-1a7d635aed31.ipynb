{
 "cells": [
  {
   "cell_type": "markdown",
   "id": "supreme-flooring",
   "metadata": {},
   "source": [
    "1 - Crie um programa que cadastre informações de várias pessoas (nome, idade e cpf) e depois coloque em um dicionário. Depois remova todas as pessoas menores de 18 anos do dicionário e coloque em outro dicionário"
   ]
  },
  {
   "cell_type": "code",
   "execution_count": null,
   "id": "worthy-intersection",
   "metadata": {},
   "outputs": [],
   "source": [
    "# Resposta"
   ]
  },
  {
   "cell_type": "markdown",
   "id": "anonymous-mayor",
   "metadata": {},
   "source": [
    "---"
   ]
  },
  {
   "cell_type": "markdown",
   "id": "missing-arthur",
   "metadata": {},
   "source": [
    "2 - Considere um sistema onde os dados são armazenados em dicionários. Nesse sistema existe um dicionario  principal e o dicionário de backup. Cada vez que o dicionário principal atinge tamanho 5, ele imprime os dados na tela e apaga o seu conteúdo. Crie um programa que insira dados em um dicionário, realizando o back up a cada dado e excluindo os dados dodicionário principal quando ele atingir o tamanho 5"
   ]
  },
  {
   "cell_type": "code",
   "execution_count": null,
   "id": "marine-toronto",
   "metadata": {},
   "outputs": [],
   "source": [
    "# Resposta"
   ]
  },
  {
   "cell_type": "markdown",
   "id": "architectural-excitement",
   "metadata": {},
   "source": [
    "---"
   ]
  },
  {
   "cell_type": "markdown",
   "id": "oriented-delight",
   "metadata": {},
   "source": [
    "3 - Crie um dicionário vazio filmes = {}. Utilize o nome de um filme como chave. E, como valor, outro dicionário contendo o vilão e o ano em que o filme foi lançado. Preencha 5 filmes. Crie uma função que irá receber o dicionário e remover um determinado filme pelo nome. Lembre-se de fornecer duas opções para o usuário, opção 1 cadastrar um filme e opção 2 remover um filme."
   ]
  },
  {
   "cell_type": "code",
   "execution_count": 1,
   "id": "dramatic-hearing",
   "metadata": {},
   "outputs": [],
   "source": [
    "# Resposta"
   ]
  },
  {
   "cell_type": "markdown",
   "id": "ongoing-renewal",
   "metadata": {},
   "source": [
    "---"
   ]
  },
  {
   "cell_type": "code",
   "execution_count": null,
   "id": "miniature-carroll",
   "metadata": {},
   "outputs": [],
   "source": []
  }
 ],
 "metadata": {
  "kernelspec": {
   "display_name": "Python 3 (ipykernel)",
   "language": "python",
   "name": "python3"
  },
  "language_info": {
   "codemirror_mode": {
    "name": "ipython",
    "version": 3
   },
   "file_extension": ".py",
   "mimetype": "text/x-python",
   "name": "python",
   "nbconvert_exporter": "python",
   "pygments_lexer": "ipython3",
   "version": "3.9.5"
  },
  "toc": {
   "base_numbering": 1,
   "nav_menu": {},
   "number_sections": false,
   "sideBar": true,
   "skip_h1_title": false,
   "title_cell": "Table of Contents",
   "title_sidebar": "Contents",
   "toc_cell": false,
   "toc_position": {},
   "toc_section_display": true,
   "toc_window_display": false
  }
 },
 "nbformat": 4,
 "nbformat_minor": 5
}
