{
 "cells": [
  {
   "cell_type": "markdown",
   "id": "6d972276",
   "metadata": {},
   "source": [
    "#  Dicionários e Funções\n",
    "\n",
    "![](https://miro.medium.com/max/700/0*eVYBGFGqyAzH8Osf)"
   ]
  },
  {
   "cell_type": "markdown",
   "id": "07080fe1",
   "metadata": {},
   "source": [
    "\n",
    "## [The Zen of Python](https://medium.com/internet-das-coisas/o-zen-do-phyton-235d6aab0b94)"
   ]
  },
  {
   "cell_type": "markdown",
   "id": "c1dfc70d",
   "metadata": {},
   "source": [
    "## Dicionários"
   ]
  },
  {
   "cell_type": "markdown",
   "id": "778c6156",
   "metadata": {},
   "source": [
    "Assim como as listas, os dicionários também são coleções de dados.\n",
    "\n",
    "No entanto, o dicionário possui dois elementos principais: **chave** e **valor**.\n",
    "\n",
    "- Chave é como um index que identifica um elemento\n",
    "- Valor que foi passado para armazenar, podendo ser qualquer tipo.\n",
    "\n",
    "Para definir um dicionário usamos as chaves **{}**."
   ]
  },
  {
   "cell_type": "code",
   "execution_count": 1,
   "id": "8ead4ff6",
   "metadata": {},
   "outputs": [
    {
     "name": "stdout",
     "output_type": "stream",
     "text": [
      "{'nome': 'Joao'}\n"
     ]
    }
   ],
   "source": [
    "cliente = {'nome': 'Joao'}\n",
    "print(cliente)"
   ]
  },
  {
   "cell_type": "code",
   "execution_count": 2,
   "id": "18d9a5a6",
   "metadata": {},
   "outputs": [
    {
     "name": "stdout",
     "output_type": "stream",
     "text": [
      "{'nome': 'Joao', 'salario': 3000.0, 'empregado': True}\n"
     ]
    }
   ],
   "source": [
    "cliente = {\n",
    "    'nome': 'Joao',\n",
    "    'salario': 3000.0,\n",
    "    'empregado': True\n",
    "}\n",
    "\n",
    "print(cliente)"
   ]
  },
  {
   "cell_type": "code",
   "execution_count": 3,
   "id": "e6c8cfcd",
   "metadata": {},
   "outputs": [
    {
     "data": {
      "text/plain": [
       "'Joao'"
      ]
     },
     "execution_count": 3,
     "metadata": {},
     "output_type": "execute_result"
    }
   ],
   "source": [
    "cliente['nome']"
   ]
  },
  {
   "cell_type": "code",
   "execution_count": 4,
   "id": "4fbedb41",
   "metadata": {},
   "outputs": [
    {
     "name": "stdout",
     "output_type": "stream",
     "text": [
      "Digite o nome do cliente: Carlos\n",
      "Digite o salario do cliente: 32000\n",
      "Digite o cargo do clienteAnalista de Dados\n",
      "Digite o nome do cliente: Pedro\n",
      "Digite o salario do cliente: 23000\n",
      "Digite o cargo do clienteDesenvolvedor\n"
     ]
    }
   ],
   "source": [
    "clientes = {}\n",
    "lista_nome = []\n",
    "lista_salario = []\n",
    "lista_cargo = []\n",
    "\n",
    "numero_clientes = 2\n",
    "\n",
    "for cliente in range(numero_clientes):\n",
    "    nome = input('Digite o nome do cliente: ')\n",
    "    salario = float(input('Digite o salario do cliente: '))\n",
    "    cargo = input('Digite o cargo do cliente: ')\n",
    "    \n",
    "    lista_nome.append(nome)\n",
    "    lista_salario.append(salario)\n",
    "    lista_cargo.append(cargo)\n",
    "    \n",
    "clientes['nome'] = lista_nome\n",
    "clientes['salario'] = lista_salario\n",
    "clientes['cargo'] = lista_cargo"
   ]
  },
  {
   "cell_type": "code",
   "execution_count": 5,
   "id": "cda3c403",
   "metadata": {},
   "outputs": [
    {
     "name": "stdout",
     "output_type": "stream",
     "text": [
      "{'nome': ['Carlos', 'Pedro'], 'salario': [32000.0, 23000.0], 'cargo': ['Analista de Dados', 'Desenvolvedor']}\n"
     ]
    }
   ],
   "source": [
    "print(clientes)"
   ]
  },
  {
   "cell_type": "code",
   "execution_count": 6,
   "id": "81fcf2a0",
   "metadata": {},
   "outputs": [
    {
     "name": "stdout",
     "output_type": "stream",
     "text": [
      "Digite o nome do cliente 1: Alexandre\n",
      "Digite o salario do cliente 1: 40000\n",
      "Digite o cargo do cliente 1: Cientista de Dados\n",
      "Digite o nome do cliente 2: Joao\n",
      "Digite o salario do cliente 2: 80000\n",
      "Digite o cargo do cliente 2: Diretor\n"
     ]
    }
   ],
   "source": [
    "#usando uma lista com vários dicionários\n",
    "\n",
    "lista_clientes = []\n",
    "\n",
    "numero_clientes = 2\n",
    "\n",
    "for c in range(numero_clientes):\n",
    "    cliente = {}\n",
    "    \n",
    "    cliente['nome'] = input(f'Digite o nome do cliente {c+1}: ')\n",
    "    cliente['salario'] = float(input(f'Digite o salario do cliente {c+1}: '))\n",
    "    cliente['cargo'] = input(f'Digite o cargo do cliente {c+1}: ')\n",
    "    \n",
    "    lista_clientes.append(cliente)"
   ]
  },
  {
   "cell_type": "code",
   "execution_count": 7,
   "id": "5c5ff0cd",
   "metadata": {},
   "outputs": [
    {
     "name": "stdout",
     "output_type": "stream",
     "text": [
      "[{'nome': 'Alexandre', 'salario': 40000.0, 'cargo': 'Cientista de Dados'}, {'nome': 'Joao', 'salario': 80000.0, 'cargo': 'Diretor'}]\n"
     ]
    }
   ],
   "source": [
    "print(lista_clientes)"
   ]
  },
  {
   "cell_type": "code",
   "execution_count": 10,
   "id": "2013a3a4",
   "metadata": {},
   "outputs": [
    {
     "name": "stdout",
     "output_type": "stream",
     "text": [
      "{'nome': ['Carlos', 'Pedro'], 'salario': [32000.0, 23000.0], 'cargo': ['Analista de Dados', 'Desenvolvedor']}\n"
     ]
    }
   ],
   "source": [
    "print(clientes)"
   ]
  },
  {
   "cell_type": "code",
   "execution_count": 9,
   "id": "194ab871",
   "metadata": {},
   "outputs": [
    {
     "data": {
      "text/plain": [
       "dict"
      ]
     },
     "execution_count": 9,
     "metadata": {},
     "output_type": "execute_result"
    }
   ],
   "source": [
    "type(lista_clientes[0])"
   ]
  },
  {
   "cell_type": "code",
   "execution_count": 21,
   "id": "0dbebde4",
   "metadata": {},
   "outputs": [],
   "source": [
    "#usando lista de dicionários\n",
    "\n",
    "lista_clientes[0]['filhos'] = False"
   ]
  },
  {
   "cell_type": "code",
   "execution_count": 12,
   "id": "41807028",
   "metadata": {},
   "outputs": [
    {
     "data": {
      "text/plain": [
       "{'nome': 'Alexandre',\n",
       " 'salario': 40000.0,\n",
       " 'cargo': 'Cientista de Dados',\n",
       " 'filhos': False}"
      ]
     },
     "execution_count": 12,
     "metadata": {},
     "output_type": "execute_result"
    }
   ],
   "source": [
    "lista_clientes[0]"
   ]
  },
  {
   "cell_type": "code",
   "execution_count": 13,
   "id": "5c68134f",
   "metadata": {},
   "outputs": [
    {
     "name": "stdout",
     "output_type": "stream",
     "text": [
      "[{'nome': 'Alexandre', 'salario': 40000.0, 'cargo': 'Cientista de Dados', 'filhos': False}, {'nome': 'Joao', 'salario': 80000.0, 'cargo': 'Diretor'}]\n"
     ]
    }
   ],
   "source": [
    "print(lista_clientes)"
   ]
  },
  {
   "cell_type": "code",
   "execution_count": 14,
   "id": "7df1d359",
   "metadata": {},
   "outputs": [
    {
     "data": {
      "text/plain": [
       "{'nome': ['Carlos', 'Pedro'],\n",
       " 'salario': [32000.0, 23000.0],\n",
       " 'cargo': ['Analista de Dados', 'Desenvolvedor']}"
      ]
     },
     "execution_count": 14,
     "metadata": {},
     "output_type": "execute_result"
    }
   ],
   "source": [
    "clientes"
   ]
  },
  {
   "cell_type": "code",
   "execution_count": 15,
   "id": "b75c4698",
   "metadata": {},
   "outputs": [],
   "source": [
    "#usando o dicionários de listas\n",
    "clientes['filhos'] = [True, False]"
   ]
  },
  {
   "cell_type": "code",
   "execution_count": 16,
   "id": "7a401f72",
   "metadata": {},
   "outputs": [
    {
     "data": {
      "text/plain": [
       "{'nome': ['Carlos', 'Pedro'],\n",
       " 'salario': [32000.0, 23000.0],\n",
       " 'cargo': ['Analista de Dados', 'Desenvolvedor'],\n",
       " 'filhos': [True, False]}"
      ]
     },
     "execution_count": 16,
     "metadata": {},
     "output_type": "execute_result"
    }
   ],
   "source": [
    "clientes"
   ]
  },
  {
   "cell_type": "code",
   "execution_count": 23,
   "id": "0655fb68",
   "metadata": {},
   "outputs": [],
   "source": [
    "#remover chaves de um dicionário\n",
    "#lista de dicionarios\n",
    "\n",
    "lista_clientes[0].pop('filhos')"
   ]
  },
  {
   "cell_type": "code",
   "execution_count": 22,
   "id": "7cfc6f02",
   "metadata": {},
   "outputs": [
    {
     "data": {
      "text/plain": [
       "[{'nome': 'Alexandre',\n",
       "  'salario': 40000.0,\n",
       "  'cargo': 'Cientista de Dados',\n",
       "  'filhos': False},\n",
       " {'nome': 'Joao', 'salario': 80000.0, 'cargo': 'Diretor'}]"
      ]
     },
     "execution_count": 22,
     "metadata": {},
     "output_type": "execute_result"
    }
   ],
   "source": [
    "lista_clientes"
   ]
  },
  {
   "cell_type": "code",
   "execution_count": 25,
   "id": "d9329da3",
   "metadata": {},
   "outputs": [
    {
     "data": {
      "text/plain": [
       "[True, False]"
      ]
     },
     "execution_count": 25,
     "metadata": {},
     "output_type": "execute_result"
    }
   ],
   "source": [
    "#dicionario de listas\n",
    "clientes.pop('filhos')"
   ]
  },
  {
   "cell_type": "code",
   "execution_count": 26,
   "id": "b8212616",
   "metadata": {},
   "outputs": [
    {
     "data": {
      "text/plain": [
       "{'nome': ['Carlos', 'Pedro'],\n",
       " 'salario': [32000.0, 23000.0],\n",
       " 'cargo': ['Analista de Dados', 'Desenvolvedor']}"
      ]
     },
     "execution_count": 26,
     "metadata": {},
     "output_type": "execute_result"
    }
   ],
   "source": [
    "clientes"
   ]
  },
  {
   "cell_type": "code",
   "execution_count": 33,
   "id": "7ea28b14",
   "metadata": {},
   "outputs": [],
   "source": [
    "#alterando valores de um dicionários\n",
    "\n",
    "clientes['cargo'][0] = 'Gerente'"
   ]
  },
  {
   "cell_type": "code",
   "execution_count": 34,
   "id": "8362851d",
   "metadata": {},
   "outputs": [
    {
     "name": "stdout",
     "output_type": "stream",
     "text": [
      "{'nome': ['Carlos', 'Pedro'], 'salario': [32000.0, 23000.0], 'cargo': ['Gerente', 'Desenvolvedor']}\n"
     ]
    }
   ],
   "source": [
    "print(clientes)"
   ]
  },
  {
   "cell_type": "markdown",
   "id": "93f2a74f",
   "metadata": {},
   "source": [
    "**Iterações com dicionários**"
   ]
  },
  {
   "cell_type": "code",
   "execution_count": 36,
   "id": "0db7cec1",
   "metadata": {},
   "outputs": [
    {
     "name": "stdout",
     "output_type": "stream",
     "text": [
      "nome\n",
      "salario\n",
      "cargo\n"
     ]
    }
   ],
   "source": [
    "for chave in clientes:\n",
    "    print(chave)"
   ]
  },
  {
   "cell_type": "code",
   "execution_count": 37,
   "id": "a1660fee",
   "metadata": {},
   "outputs": [
    {
     "name": "stdout",
     "output_type": "stream",
     "text": [
      "['Carlos', 'Pedro']\n",
      "[32000.0, 23000.0]\n",
      "['Gerente', 'Desenvolvedor']\n"
     ]
    }
   ],
   "source": [
    "for chave in clientes:\n",
    "    print(clientes[chave])"
   ]
  },
  {
   "cell_type": "code",
   "execution_count": 38,
   "id": "b63ce30d",
   "metadata": {},
   "outputs": [
    {
     "data": {
      "text/plain": [
       "dict_values([['Carlos', 'Pedro'], [32000.0, 23000.0], ['Gerente', 'Desenvolvedor']])"
      ]
     },
     "execution_count": 38,
     "metadata": {},
     "output_type": "execute_result"
    }
   ],
   "source": [
    "#.values()\n",
    "clientes.values()"
   ]
  },
  {
   "cell_type": "code",
   "execution_count": 39,
   "id": "e957d0d3",
   "metadata": {},
   "outputs": [],
   "source": [
    "#pegando somente os dados do Carlos\n",
    "\n",
    "dados_carlos = []\n",
    "\n",
    "for valor in clientes.values():\n",
    "    dados_carlos.append(valor[clientes['nome'].index('Carlos')])"
   ]
  },
  {
   "cell_type": "code",
   "execution_count": 43,
   "id": "a31ce55f",
   "metadata": {},
   "outputs": [],
   "source": [
    "dados_carlos = [valor[clientes['nome'].index('Carlos')] for valor in clientes.values()]"
   ]
  },
  {
   "cell_type": "code",
   "execution_count": 44,
   "id": "737e3792",
   "metadata": {},
   "outputs": [
    {
     "data": {
      "text/plain": [
       "['Carlos', 32000.0, 'Gerente']"
      ]
     },
     "execution_count": 44,
     "metadata": {},
     "output_type": "execute_result"
    }
   ],
   "source": [
    "dados_carlos"
   ]
  },
  {
   "cell_type": "markdown",
   "id": "eab7f3c0",
   "metadata": {},
   "source": [
    "Acessando chaves e valores"
   ]
  },
  {
   "cell_type": "code",
   "execution_count": 45,
   "id": "e22d1d1b",
   "metadata": {},
   "outputs": [
    {
     "name": "stdout",
     "output_type": "stream",
     "text": [
      "dict_keys(['nome', 'salario', 'cargo'])\n",
      "dict_values([['Carlos', 'Pedro'], [32000.0, 23000.0], ['Gerente', 'Desenvolvedor']])\n"
     ]
    }
   ],
   "source": [
    "print(clientes.keys())\n",
    "print(clientes.values())"
   ]
  },
  {
   "cell_type": "code",
   "execution_count": 46,
   "id": "a206d296",
   "metadata": {},
   "outputs": [
    {
     "name": "stdout",
     "output_type": "stream",
     "text": [
      "[['Carlos', 'Pedro'], [32000.0, 23000.0], ['Gerente', 'Desenvolvedor']]\n"
     ]
    }
   ],
   "source": [
    "print(list(clientes.values()))"
   ]
  },
  {
   "cell_type": "code",
   "execution_count": 49,
   "id": "9ae99a0c",
   "metadata": {},
   "outputs": [
    {
     "data": {
      "text/plain": [
       "dict_values"
      ]
     },
     "execution_count": 49,
     "metadata": {},
     "output_type": "execute_result"
    }
   ],
   "source": [
    "type(clientes.values())"
   ]
  },
  {
   "cell_type": "markdown",
   "id": "241ce6b6",
   "metadata": {},
   "source": [
    "Verificando se uma chave está em um dicionário"
   ]
  },
  {
   "cell_type": "code",
   "execution_count": 50,
   "id": "ed3ede70",
   "metadata": {},
   "outputs": [],
   "source": [
    "cotacao_dolar = {\n",
    "    'dia_mes': [1, 2, 3],\n",
    "    'dolar': [1.7, 1.8, 2.0]\n",
    "}"
   ]
  },
  {
   "cell_type": "code",
   "execution_count": 51,
   "id": "10203965",
   "metadata": {},
   "outputs": [
    {
     "data": {
      "text/plain": [
       "{'dia_mes': [1, 2, 3], 'dolar': [1.7, 1.8, 2.0]}"
      ]
     },
     "execution_count": 51,
     "metadata": {},
     "output_type": "execute_result"
    }
   ],
   "source": [
    "cotacao_dolar"
   ]
  },
  {
   "cell_type": "code",
   "execution_count": 53,
   "id": "0c23ba7d",
   "metadata": {},
   "outputs": [
    {
     "data": {
      "text/plain": [
       "True"
      ]
     },
     "execution_count": 53,
     "metadata": {},
     "output_type": "execute_result"
    }
   ],
   "source": [
    "'dia_mes' in cotacao_dolar"
   ]
  },
  {
   "cell_type": "code",
   "execution_count": 54,
   "id": "f1f1b5c2",
   "metadata": {},
   "outputs": [
    {
     "data": {
      "text/plain": [
       "False"
      ]
     },
     "execution_count": 54,
     "metadata": {},
     "output_type": "execute_result"
    }
   ],
   "source": [
    "'mes' in cotacao_dolar"
   ]
  },
  {
   "cell_type": "code",
   "execution_count": 55,
   "id": "f2f3b345",
   "metadata": {},
   "outputs": [
    {
     "data": {
      "text/plain": [
       "True"
      ]
     },
     "execution_count": 55,
     "metadata": {},
     "output_type": "execute_result"
    }
   ],
   "source": [
    "1 in cotacao_dolar['dia_mes']"
   ]
  },
  {
   "cell_type": "code",
   "execution_count": 57,
   "id": "f6d0ecfb",
   "metadata": {},
   "outputs": [
    {
     "data": {
      "text/plain": [
       "dict_items([('dia_mes', [1, 2, 3]), ('dolar', [1.7, 1.8, 2.0])])"
      ]
     },
     "execution_count": 57,
     "metadata": {},
     "output_type": "execute_result"
    }
   ],
   "source": [
    "#empilhamento de chaves\n",
    "cotacao_dolar.items()"
   ]
  },
  {
   "cell_type": "markdown",
   "id": "7b171d8b",
   "metadata": {},
   "source": [
    "### Exercício"
   ]
  },
  {
   "cell_type": "markdown",
   "id": "56fa343e",
   "metadata": {},
   "source": [
    "Crie um programa que cadastre informações de várias pessoas (nome, idade e cpf) e depois coloque em um dicionário."
   ]
  },
  {
   "cell_type": "code",
   "execution_count": 58,
   "id": "537ee46e",
   "metadata": {},
   "outputs": [
    {
     "name": "stdout",
     "output_type": "stream",
     "text": [
      "Cadastro Pessoas\n",
      "1 para cadastrar pessoa ou 0 para sair: 1\n",
      "Digite o nome da pessoa: Fulano\n",
      "Digite a idade da pessoa: 32\n",
      "Digite o cpf da pessoa: 123\n",
      "\n",
      "\n",
      "Cadastro Pessoas\n",
      "1 para cadastrar pessoa ou 0 para sair: 1\n",
      "Digite o nome da pessoa: Ze\n",
      "Digite a idade da pessoa: 40\n",
      "Digite o cpf da pessoa: 345\n",
      "\n",
      "\n",
      "Cadastro Pessoas\n",
      "1 para cadastrar pessoa ou 0 para sair: 0\n"
     ]
    }
   ],
   "source": [
    "pessoas = {}\n",
    "codigo_pessoa = 1\n",
    "\n",
    "while True:\n",
    "    print('Cadastro Pessoas')\n",
    "    \n",
    "    opcao = int(input('1 para cadastrar pessoa ou 0 para sair: '))\n",
    "    \n",
    "    if opcao < 1:\n",
    "        break\n",
    "    elif opcao >1:\n",
    "        print('Opcao invalida!')\n",
    "    else:\n",
    "        pessoa = {}\n",
    "        pessoa['nome'] = input('Digite o nome da pessoa: ')\n",
    "        pessoa['idade'] = int(input('Digite a idade da pessoa: '))\n",
    "        pessoa['cpf'] = input('Digite o cpf da pessoa: ')\n",
    "        \n",
    "        pessoas[codigo_pessoa] = pessoa\n",
    "        \n",
    "        codigo_pessoa += 1\n",
    "        \n",
    "        print('\\n')\n",
    "    "
   ]
  },
  {
   "cell_type": "code",
   "execution_count": 59,
   "id": "19e34f81",
   "metadata": {},
   "outputs": [
    {
     "name": "stdout",
     "output_type": "stream",
     "text": [
      "{1: {'nome': 'Fulano', 'idade': 32, 'cpf': '123'}, 2: {'nome': 'Ze', 'idade': 40, 'cpf': '345'}}\n"
     ]
    }
   ],
   "source": [
    "print(pessoas)"
   ]
  },
  {
   "cell_type": "markdown",
   "id": "1cfe9a3f",
   "metadata": {},
   "source": [
    "## Funções"
   ]
  },
  {
   "cell_type": "markdown",
   "id": "dd9f74bd",
   "metadata": {},
   "source": [
    "Ao longo das nossas aulas usamos várias funções. Uma observação importante a se fazer e que cada função executa uma determinada tarefa. Usamos o print() que nos mostra alguma mensagem, o max() que nos retorna o maior valor de uma lista. Esses são apenas alguns exemplos."
   ]
  },
  {
   "cell_type": "markdown",
   "id": "1e4ac08c",
   "metadata": {
    "run_control": {
     "marked": true
    }
   },
   "source": [
    "As funções possuem uma sintaxe bem definida: nome da função seguido de parênteses >> **nome_funcao()**.\n",
    "- O nome da função simplesmente tenta descrever da maneira mais sucinta o que é executado pela mesma\n",
    "- Os parêntese são utilizados para inserirmos **argumentos**. Esses argumentos são valores utilizados dentro da função durante sua execução. No exemplo do print() o argumento é um texto (String), já no max() poderia ser uma lista."
   ]
  },
  {
   "cell_type": "code",
   "execution_count": 60,
   "id": "ceaeca08",
   "metadata": {},
   "outputs": [
    {
     "name": "stdout",
     "output_type": "stream",
     "text": [
      "Texto\n"
     ]
    }
   ],
   "source": [
    "print('Texto')"
   ]
  },
  {
   "cell_type": "code",
   "execution_count": 61,
   "id": "788a3bec",
   "metadata": {},
   "outputs": [
    {
     "data": {
      "text/plain": [
       "3"
      ]
     },
     "execution_count": 61,
     "metadata": {},
     "output_type": "execute_result"
    }
   ],
   "source": [
    "lista = [2, 3]\n",
    "max(lista)"
   ]
  },
  {
   "cell_type": "markdown",
   "id": "f8ce1d4b",
   "metadata": {},
   "source": [
    "Podemos então imaginar as funções como \"caixinhas\" que recebem uma entrada (argumento), realiza algum processamento e retorna algum valor. Isso é extremamente importante quando queremos dividir as tarefas em nossos scripts, deixando o código ainda mais organizado."
   ]
  },
  {
   "cell_type": "markdown",
   "id": "d10892dd",
   "metadata": {},
   "source": [
    "<img src=\"imgs/func.PNG\" width=\"500\"/>"
   ]
  },
  {
   "cell_type": "markdown",
   "id": "0f5dd381",
   "metadata": {},
   "source": [
    "Agora vamos criar as nossas próprias funções!\n",
    "\n",
    "A estrutura de **definição de uma função** é dada por:\n",
    "\n",
    "```python\n",
    "def nome_da_funcao(argumentos):\n",
    "    \n",
    "    instrucoes\n",
    "    \n",
    "    return saida\n",
    "```\n",
    "\n",
    "Vamos ver o que cada parte do código acima segnifica:\n",
    "- **def** é a palavra reservada utilizada para **definir uma função**\n",
    "- Após o def, passamos o nome da função. Lembre-se de sempre usar um nome que descreva bem a sua função\n",
    "- Entre os parênteses () passamos os argumentes, isto é, os valores usados dentro da função\n",
    "- Dentro da função é onde escrevemos as instruções, o que a função vai realizar\n",
    "- O **return** é uma palavra reservada que indica o que será retornado pela função\n",
    "- **E NUNCA SE ESQUEÇA DA IDENTAÇÃO!**"
   ]
  },
  {
   "cell_type": "code",
   "execution_count": 62,
   "id": "342f79e0",
   "metadata": {},
   "outputs": [],
   "source": [
    "def soma_dois_numeros(num1: int, num2: int)->int:\n",
    "    soma = num1 + num2\n",
    "    return soma"
   ]
  },
  {
   "cell_type": "code",
   "execution_count": 64,
   "id": "0707a5ff",
   "metadata": {},
   "outputs": [],
   "source": [
    "resultado = soma_dois_numeros(3,4)"
   ]
  },
  {
   "cell_type": "code",
   "execution_count": 65,
   "id": "ed84cb25",
   "metadata": {},
   "outputs": [
    {
     "data": {
      "text/plain": [
       "7"
      ]
     },
     "execution_count": 65,
     "metadata": {},
     "output_type": "execute_result"
    }
   ],
   "source": [
    "resultado"
   ]
  },
  {
   "cell_type": "code",
   "execution_count": 66,
   "id": "54ca33f0",
   "metadata": {},
   "outputs": [],
   "source": [
    "def soma_dois_numeros(num1, num2):\n",
    "    soma = num1 + num2"
   ]
  },
  {
   "cell_type": "code",
   "execution_count": 67,
   "id": "f8e94059",
   "metadata": {},
   "outputs": [],
   "source": [
    "soma_dois_numeros(3, 4)"
   ]
  },
  {
   "cell_type": "code",
   "execution_count": 69,
   "id": "8993cbce",
   "metadata": {},
   "outputs": [],
   "source": [
    "def soma_dois_numeros(num1, num2):\n",
    "    soma = num1 + num2\n",
    "    print(soma)"
   ]
  },
  {
   "cell_type": "code",
   "execution_count": 71,
   "id": "dc6f3053",
   "metadata": {},
   "outputs": [
    {
     "name": "stdout",
     "output_type": "stream",
     "text": [
      "7\n"
     ]
    }
   ],
   "source": [
    "resultado = soma_dois_numeros(3, 4)"
   ]
  },
  {
   "cell_type": "code",
   "execution_count": 74,
   "id": "ee1b1dbd",
   "metadata": {},
   "outputs": [
    {
     "data": {
      "text/plain": [
       "NoneType"
      ]
     },
     "execution_count": 74,
     "metadata": {},
     "output_type": "execute_result"
    }
   ],
   "source": [
    "type(resultado)"
   ]
  },
  {
   "cell_type": "code",
   "execution_count": 78,
   "id": "8a94da00",
   "metadata": {
    "run_control": {
     "marked": false
    }
   },
   "outputs": [],
   "source": [
    "#com argumentos pré defidos\n",
    "def soma_dois_numeros(num1=3, num2=4):\n",
    "    soma = num1 + num2\n",
    "    print(soma)"
   ]
  },
  {
   "cell_type": "code",
   "execution_count": 79,
   "id": "547f5a41",
   "metadata": {},
   "outputs": [
    {
     "name": "stdout",
     "output_type": "stream",
     "text": [
      "7\n"
     ]
    }
   ],
   "source": [
    "soma_dois_numeros()"
   ]
  },
  {
   "cell_type": "code",
   "execution_count": 80,
   "id": "eeee0c52",
   "metadata": {},
   "outputs": [
    {
     "name": "stdout",
     "output_type": "stream",
     "text": [
      "11\n"
     ]
    }
   ],
   "source": [
    "soma_dois_numeros(5, 6)"
   ]
  },
  {
   "cell_type": "code",
   "execution_count": 81,
   "id": "9a40dace",
   "metadata": {},
   "outputs": [
    {
     "name": "stdout",
     "output_type": "stream",
     "text": [
      "8\n"
     ]
    }
   ],
   "source": [
    "soma_dois_numeros(num2=5)"
   ]
  },
  {
   "cell_type": "code",
   "execution_count": 75,
   "id": "7581d346",
   "metadata": {},
   "outputs": [],
   "source": [
    "def ola_mundo():\n",
    "    print('Ola Mundo!')"
   ]
  },
  {
   "cell_type": "code",
   "execution_count": 77,
   "id": "19a3fa97",
   "metadata": {},
   "outputs": [
    {
     "name": "stdout",
     "output_type": "stream",
     "text": [
      "Ola Mundo!\n"
     ]
    }
   ],
   "source": [
    "ola_mundo()"
   ]
  },
  {
   "cell_type": "markdown",
   "id": "bd53baf4",
   "metadata": {},
   "source": [
    "Exemplo cumprimento pelo horário:"
   ]
  },
  {
   "cell_type": "code",
   "execution_count": 82,
   "id": "bb5376b5",
   "metadata": {},
   "outputs": [],
   "source": [
    "def cumprimenta_horario(nome, hora):\n",
    "    '''\n",
    "    Função que retorna uma string de saudação\n",
    "    \n",
    "    Argumentos:\n",
    "    nome: String\n",
    "    hora: int\n",
    "    \n",
    "    Retorna:\n",
    "    saida: String\n",
    "    '''\n",
    "    \n",
    "    if hora < 12:\n",
    "        saida = 'Bom dia ' + nome\n",
    "    elif hora < 18:\n",
    "        saida = 'Boa tarde ' + nome\n",
    "    elif hora < 24:\n",
    "        saida = 'Boa noite ' + nome\n",
    "    else:\n",
    "        saida = 'Não sei as horas de Jupiter, ' + nome\n",
    "        \n",
    "    return saida"
   ]
  },
  {
   "cell_type": "code",
   "execution_count": 94,
   "id": "8c6937ae",
   "metadata": {},
   "outputs": [
    {
     "data": {
      "text/plain": [
       "'Não sei as horas de Jupiter, Fulano'"
      ]
     },
     "execution_count": 94,
     "metadata": {},
     "output_type": "execute_result"
    }
   ],
   "source": [
    "cumprimenta_horario('Fulano', 784)"
   ]
  },
  {
   "cell_type": "markdown",
   "id": "6e330bec",
   "metadata": {},
   "source": [
    "Calculadora"
   ]
  },
  {
   "cell_type": "code",
   "execution_count": 101,
   "id": "674817f2",
   "metadata": {},
   "outputs": [],
   "source": [
    "def calculadora(num1, num2, operacao):\n",
    "    '''\n",
    "    realiza a operação entre dois números\n",
    "    operacao: str [+,-,*,/]\n",
    "    '''\n",
    "    \n",
    "    if operacao == '+':\n",
    "        return num1 + num2\n",
    "    \n",
    "    elif operacao == '-':\n",
    "        return num1 - num2\n",
    "    \n",
    "    elif operacao == '*':\n",
    "        return num1 * num2\n",
    "    \n",
    "    elif operacao == '/':\n",
    "        return num1 / num2\n",
    "    \n",
    "    else:\n",
    "        print('Não entendi')"
   ]
  },
  {
   "cell_type": "code",
   "execution_count": 105,
   "id": "f562fe58",
   "metadata": {},
   "outputs": [],
   "source": [
    "resultado = calculadora(3, 4, '/')"
   ]
  },
  {
   "cell_type": "code",
   "execution_count": 106,
   "id": "a1553d33",
   "metadata": {},
   "outputs": [
    {
     "data": {
      "text/plain": [
       "0.75"
      ]
     },
     "execution_count": 106,
     "metadata": {},
     "output_type": "execute_result"
    }
   ],
   "source": [
    "resultado"
   ]
  },
  {
   "cell_type": "code",
   "execution_count": 107,
   "id": "c10ed3ab",
   "metadata": {},
   "outputs": [
    {
     "name": "stdout",
     "output_type": "stream",
     "text": [
      "Não entendi\n"
     ]
    }
   ],
   "source": [
    "calculadora(3, 4, 'a')"
   ]
  },
  {
   "cell_type": "markdown",
   "id": "1fa59c46",
   "metadata": {},
   "source": [
    "Funções dentro de funções"
   ]
  },
  {
   "cell_type": "code",
   "execution_count": 108,
   "id": "53672bb8",
   "metadata": {},
   "outputs": [],
   "source": [
    "def soma(n1, n2):\n",
    "    return n1+n2\n",
    "\n",
    "def subtracao(n1, n2):\n",
    "    return n1-n2\n",
    "\n",
    "def multiplicacao(n1, n2):\n",
    "    return n1*n2\n",
    "\n",
    "def divisao(n1, n2):\n",
    "    return n1/n2"
   ]
  },
  {
   "cell_type": "code",
   "execution_count": 109,
   "id": "a64782f9",
   "metadata": {},
   "outputs": [],
   "source": [
    "def calculadora(num1, num2, operacao):\n",
    "    '''\n",
    "    realiza a operação entre dois números\n",
    "    operacao: str [+,-,*,/]\n",
    "    '''\n",
    "    \n",
    "    if operacao == '+':\n",
    "        return soma(num1, num2)\n",
    "    \n",
    "    elif operacao == '-':\n",
    "        return subtracao(num1, num2)\n",
    "    \n",
    "    elif operacao == '*':\n",
    "        return multiplicacao(num1, num2)\n",
    "    \n",
    "    elif operacao == '/':\n",
    "        return divisao(num1, num2)\n",
    "    \n",
    "    else:\n",
    "        print('Não entendi')"
   ]
  },
  {
   "cell_type": "code",
   "execution_count": 110,
   "id": "507a9f8f",
   "metadata": {},
   "outputs": [
    {
     "data": {
      "text/plain": [
       "0.75"
      ]
     },
     "execution_count": 110,
     "metadata": {},
     "output_type": "execute_result"
    }
   ],
   "source": [
    "resultado = calculadora(3, 4, '/')\n",
    "resultado"
   ]
  },
  {
   "cell_type": "code",
   "execution_count": 111,
   "id": "1dbcc7f1",
   "metadata": {},
   "outputs": [],
   "source": [
    "def executa_calc():\n",
    "    num1 = float(input('Digite o numero 1: '))\n",
    "    num2 = float(input('Digite o numero 2: '))\n",
    "    operacao = input('Digite a operacao: [+,-,*,/] ')\n",
    "    resultado = calculadora(num1, num2, operacao)\n",
    "    print(resultado)"
   ]
  },
  {
   "cell_type": "markdown",
   "id": "dfb6ffe9",
   "metadata": {},
   "source": [
    "**Recursividade**"
   ]
  },
  {
   "cell_type": "markdown",
   "id": "3a2bdadc",
   "metadata": {},
   "source": [
    "Existem problemas que são naturalmente recursivos, como, por exemplo, fatorial:\n",
    "\n",
    "5! = 5\\*4! = 5\\*4\\*3! = 5\\*4\\*3\\*2! = 5\\*4\\*3\\*2\\*1!"
   ]
  },
  {
   "cell_type": "code",
   "execution_count": 114,
   "id": "eac25494",
   "metadata": {},
   "outputs": [],
   "source": [
    "def fatorial(n):\n",
    "    if n >= 1:\n",
    "        return n*fatorial(n-1)\n",
    "    elif n == 0:\n",
    "        return 1"
   ]
  },
  {
   "cell_type": "code",
   "execution_count": 119,
   "id": "d1b89b94",
   "metadata": {},
   "outputs": [
    {
     "data": {
      "text/plain": [
       "24"
      ]
     },
     "execution_count": 119,
     "metadata": {},
     "output_type": "execute_result"
    }
   ],
   "source": [
    "fatorial(4)"
   ]
  },
  {
   "cell_type": "markdown",
   "id": "5c4bd9c7",
   "metadata": {},
   "source": [
    "Visualizando o return de cada execução da função:\n",
    "\n",
    "- fatorial(4)\n",
    "- 4 * fatorial(3)\n",
    "- 4 * (3 * fatorial(2))\n",
    "- 4 * (3 * (2 * fatorial(1)))\n",
    "- 4 * (3 * (2 * 1))\n",
    "\n",
    "Assim, o resultado final é:\n",
    "\n",
    "4 * 3 * 2 * 1"
   ]
  },
  {
   "cell_type": "markdown",
   "id": "aea3974b",
   "metadata": {},
   "source": [
    "Apesar de **elegantes**, funções recursivas são **pouco eficientes** (pois demandam mais memória), e de leitura mais difícil"
   ]
  },
  {
   "cell_type": "markdown",
   "id": "e6538b24",
   "metadata": {},
   "source": [
    "No python temos um recurso onde passamos **\\*args** como parâmetro e a função pode receber uma série de parâmetros sem definí-los explicitamente"
   ]
  },
  {
   "cell_type": "code",
   "execution_count": 120,
   "id": "718d4b12",
   "metadata": {},
   "outputs": [],
   "source": [
    "def mostra_resultados(*args):\n",
    "    print('Resultados: ', args)"
   ]
  },
  {
   "cell_type": "code",
   "execution_count": 121,
   "id": "cab08016",
   "metadata": {},
   "outputs": [
    {
     "name": "stdout",
     "output_type": "stream",
     "text": [
      "Resultados:  ('Fulano', 42, True)\n"
     ]
    }
   ],
   "source": [
    "mostra_resultados('Fulano', 42, True)"
   ]
  },
  {
   "cell_type": "code",
   "execution_count": 122,
   "id": "bd6d10eb",
   "metadata": {},
   "outputs": [],
   "source": [
    "def somatorio(*args):\n",
    "    print(sum(args))"
   ]
  },
  {
   "cell_type": "code",
   "execution_count": 124,
   "id": "9aa67d10",
   "metadata": {},
   "outputs": [
    {
     "ename": "TypeError",
     "evalue": "unsupported operand type(s) for +: 'int' and 'str'",
     "output_type": "error",
     "traceback": [
      "\u001b[1;31m---------------------------------------------------------------------------\u001b[0m",
      "\u001b[1;31mTypeError\u001b[0m                                 Traceback (most recent call last)",
      "\u001b[1;32m~\\AppData\\Local\\Temp/ipykernel_14180/3986871273.py\u001b[0m in \u001b[0;36m<module>\u001b[1;34m\u001b[0m\n\u001b[1;32m----> 1\u001b[1;33m \u001b[0msomatorio\u001b[0m\u001b[1;33m(\u001b[0m\u001b[1;36m1\u001b[0m\u001b[1;33m,\u001b[0m\u001b[1;36m2\u001b[0m\u001b[1;33m,\u001b[0m\u001b[1;36m3\u001b[0m\u001b[1;33m,\u001b[0m\u001b[1;36m4\u001b[0m\u001b[1;33m,\u001b[0m\u001b[1;34m'5'\u001b[0m\u001b[1;33m)\u001b[0m\u001b[1;33m\u001b[0m\u001b[1;33m\u001b[0m\u001b[0m\n\u001b[0m",
      "\u001b[1;32m~\\AppData\\Local\\Temp/ipykernel_14180/1160421676.py\u001b[0m in \u001b[0;36msomatorio\u001b[1;34m(*args)\u001b[0m\n\u001b[0;32m      1\u001b[0m \u001b[1;32mdef\u001b[0m \u001b[0msomatorio\u001b[0m\u001b[1;33m(\u001b[0m\u001b[1;33m*\u001b[0m\u001b[0margs\u001b[0m\u001b[1;33m)\u001b[0m\u001b[1;33m:\u001b[0m\u001b[1;33m\u001b[0m\u001b[1;33m\u001b[0m\u001b[0m\n\u001b[1;32m----> 2\u001b[1;33m     \u001b[0mprint\u001b[0m\u001b[1;33m(\u001b[0m\u001b[0msum\u001b[0m\u001b[1;33m(\u001b[0m\u001b[0margs\u001b[0m\u001b[1;33m)\u001b[0m\u001b[1;33m)\u001b[0m\u001b[1;33m\u001b[0m\u001b[1;33m\u001b[0m\u001b[0m\n\u001b[0m",
      "\u001b[1;31mTypeError\u001b[0m: unsupported operand type(s) for +: 'int' and 'str'"
     ]
    }
   ],
   "source": [
    "somatorio(1,2,3,4,5)"
   ]
  },
  {
   "cell_type": "code",
   "execution_count": 125,
   "id": "34ce4a08",
   "metadata": {},
   "outputs": [],
   "source": [
    "def imprime_arg(*args):\n",
    "    for arg in args:\n",
    "        print(arg)"
   ]
  },
  {
   "cell_type": "code",
   "execution_count": null,
   "id": "1cf5538c",
   "metadata": {},
   "outputs": [],
   "source": []
  },
  {
   "cell_type": "code",
   "execution_count": 126,
   "id": "5404f384",
   "metadata": {},
   "outputs": [
    {
     "name": "stdout",
     "output_type": "stream",
     "text": [
      "1\n",
      "2\n",
      "3\n",
      "4\n",
      "5\n"
     ]
    }
   ],
   "source": [
    "imprime_arg(1,2,3,4,5)"
   ]
  },
  {
   "cell_type": "code",
   "execution_count": 129,
   "id": "a5e3a7c5",
   "metadata": {},
   "outputs": [],
   "source": [
    "def retorna_args(*args):\n",
    "    return args"
   ]
  },
  {
   "cell_type": "code",
   "execution_count": 130,
   "id": "215bb05f",
   "metadata": {},
   "outputs": [],
   "source": [
    "numeros = retorna_args(1,2,3,4,5)"
   ]
  },
  {
   "cell_type": "code",
   "execution_count": 132,
   "id": "02f95f41",
   "metadata": {},
   "outputs": [
    {
     "data": {
      "text/plain": [
       "tuple"
      ]
     },
     "execution_count": 132,
     "metadata": {},
     "output_type": "execute_result"
    }
   ],
   "source": [
    "type(numeros)"
   ]
  },
  {
   "cell_type": "markdown",
   "id": "93ff2d21",
   "metadata": {},
   "source": [
    "### Exercício"
   ]
  },
  {
   "cell_type": "markdown",
   "id": "1928cee6",
   "metadata": {},
   "source": [
    "Faça um programa que fique pedindo uma resposta do usuário, \n",
    "entre 1, 2 e 3. Se o usuário digitar 1, o programa deve cadastrar um novo usuário\n",
    "e guardar esse cadastro num dicionário cuja chave será o CPF da pessoa. \n",
    "Quando o usuário digitar 2, o programa deve imprimir os usuários cadastrados; \n",
    "e se o usuário digitar 3, o programa deve fechar.\n"
   ]
  },
  {
   "cell_type": "code",
   "execution_count": null,
   "id": "311d5327",
   "metadata": {},
   "outputs": [],
   "source": []
  },
  {
   "cell_type": "code",
   "execution_count": null,
   "id": "aa944f38",
   "metadata": {},
   "outputs": [],
   "source": []
  },
  {
   "cell_type": "code",
   "execution_count": null,
   "id": "2cd23842",
   "metadata": {},
   "outputs": [],
   "source": []
  },
  {
   "cell_type": "code",
   "execution_count": null,
   "id": "61cfa1ce",
   "metadata": {},
   "outputs": [],
   "source": []
  },
  {
   "cell_type": "code",
   "execution_count": null,
   "id": "e62f7a0d",
   "metadata": {},
   "outputs": [],
   "source": []
  },
  {
   "cell_type": "code",
   "execution_count": null,
   "id": "09d26765",
   "metadata": {},
   "outputs": [],
   "source": []
  },
  {
   "cell_type": "code",
   "execution_count": null,
   "id": "398840f3",
   "metadata": {},
   "outputs": [],
   "source": []
  },
  {
   "cell_type": "code",
   "execution_count": null,
   "id": "fbe8651c",
   "metadata": {},
   "outputs": [],
   "source": []
  },
  {
   "cell_type": "code",
   "execution_count": null,
   "id": "4bd93afe",
   "metadata": {},
   "outputs": [],
   "source": []
  },
  {
   "cell_type": "code",
   "execution_count": null,
   "id": "d3125700",
   "metadata": {},
   "outputs": [],
   "source": []
  },
  {
   "cell_type": "code",
   "execution_count": null,
   "id": "e3488ea3",
   "metadata": {},
   "outputs": [],
   "source": []
  },
  {
   "cell_type": "code",
   "execution_count": null,
   "id": "2c47de1c",
   "metadata": {},
   "outputs": [],
   "source": []
  },
  {
   "cell_type": "code",
   "execution_count": null,
   "id": "480ea74e",
   "metadata": {},
   "outputs": [],
   "source": []
  },
  {
   "cell_type": "code",
   "execution_count": null,
   "id": "56ca43d6",
   "metadata": {},
   "outputs": [],
   "source": []
  },
  {
   "cell_type": "code",
   "execution_count": null,
   "id": "4ff86538",
   "metadata": {},
   "outputs": [],
   "source": []
  },
  {
   "cell_type": "code",
   "execution_count": null,
   "id": "d3bc5626",
   "metadata": {},
   "outputs": [],
   "source": []
  },
  {
   "cell_type": "markdown",
   "id": "9108e67c",
   "metadata": {},
   "source": [
    "## Bibliotecas"
   ]
  },
  {
   "cell_type": "markdown",
   "id": "1fa4fc72",
   "metadata": {},
   "source": [
    "Tivemos acesso a vários funções ao longo do módulo. Algumas delas como input(), len(), max() e várias outras. Essas funções são chamadas de built-in funciton, isso significa que elas já estão implementadas dentro do python. No entanto algumas podem ser acessa externamente, como é o caso da random().\n",
    "\n",
    "Para isso devemos usar a palavra reservada **import** para importar essas funções"
   ]
  },
  {
   "cell_type": "code",
   "execution_count": 72,
   "id": "fae52c8f",
   "metadata": {},
   "outputs": [],
   "source": [
    "import random"
   ]
  },
  {
   "cell_type": "code",
   "execution_count": 73,
   "id": "5dbe7fd8",
   "metadata": {},
   "outputs": [
    {
     "data": {
      "text/plain": [
       "3"
      ]
     },
     "execution_count": 73,
     "metadata": {},
     "output_type": "execute_result"
    }
   ],
   "source": [
    "random.randint(1, 10)"
   ]
  },
  {
   "cell_type": "markdown",
   "id": "94911c27",
   "metadata": {},
   "source": [
    "Veja que usamos a função randint. O que seria então o random? **O random é uma bilbioteca (ou módulo). Ela possui a implementação de várias funções relacionadas a geração de números aleatórios. Podemos imaginar a random como um arquivo .py onde essas funções estão escritas**.\n",
    "\n",
    "Perceberam agora outra vantagem de se utilizar funções? Podemos isolar nossas funções em diferentes arquivos de maneira que nossas aplicações fiquem modularizadas. Isso traz maior organização, fácil compreensão e escalabilidade para nossas aplicações."
   ]
  },
  {
   "cell_type": "markdown",
   "id": "5d765d40",
   "metadata": {},
   "source": [
    "Outra maneira de importar bibliotecas seria como:\n",
    "\n",
    "```python\n",
    "import nome_da_biblioteca as apelido_da_biblioteca\n",
    "```"
   ]
  },
  {
   "cell_type": "code",
   "execution_count": null,
   "id": "35554dc1",
   "metadata": {},
   "outputs": [],
   "source": []
  },
  {
   "cell_type": "code",
   "execution_count": null,
   "id": "5364ca4a",
   "metadata": {},
   "outputs": [],
   "source": []
  },
  {
   "cell_type": "code",
   "execution_count": null,
   "id": "ffe05d00",
   "metadata": {},
   "outputs": [],
   "source": []
  },
  {
   "cell_type": "markdown",
   "id": "94ddc716",
   "metadata": {
    "heading_collapsed": true
   },
   "source": [
    "### Dicas"
   ]
  },
  {
   "cell_type": "markdown",
   "id": "3a64731f",
   "metadata": {
    "hidden": true
   },
   "source": [
    "Algumas bibliotecas precisam ser instaladas antes de serem um utilizadas em nossas aplicações. Para instalar essas bibliotecas, usamos o gerenciador de módulos do python chamado **pip**.\n",
    "\n",
    "Basta abrirmos o **terminal** e digitar \n",
    "\n",
    "```pip install nome_da_biblioteca```\n",
    "\n",
    "ou\n",
    "\n",
    "```conda install nome_da_biblioteca```\n",
    "\n",
    "\n",
    "Se quisermos uma versão específica,\n",
    "\n",
    "```pip install nume_da_biblioteca==numero_da_versao```"
   ]
  },
  {
   "cell_type": "markdown",
   "id": "04a5b800",
   "metadata": {
    "hidden": true
   },
   "source": [
    "Um ótimo site para referência de bibliotecas em Python: https://pypi.org/"
   ]
  }
 ],
 "metadata": {
  "kernelspec": {
   "display_name": "Python 3 (ipykernel)",
   "language": "python",
   "name": "python3"
  },
  "language_info": {
   "codemirror_mode": {
    "name": "ipython",
    "version": 3
   },
   "file_extension": ".py",
   "mimetype": "text/x-python",
   "name": "python",
   "nbconvert_exporter": "python",
   "pygments_lexer": "ipython3",
   "version": "3.9.5"
  },
  "toc": {
   "base_numbering": 1,
   "nav_menu": {},
   "number_sections": false,
   "sideBar": true,
   "skip_h1_title": false,
   "title_cell": "Table of Contents",
   "title_sidebar": "Contents",
   "toc_cell": false,
   "toc_position": {
    "height": "calc(100% - 180px)",
    "left": "10px",
    "top": "150px",
    "width": "349.091px"
   },
   "toc_section_display": true,
   "toc_window_display": false
  }
 },
 "nbformat": 4,
 "nbformat_minor": 5
}
