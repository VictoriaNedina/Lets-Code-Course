{
 "cells": [
  {
   "cell_type": "markdown",
   "id": "9d706917",
   "metadata": {
    "id": "9d706917"
   },
   "source": [
    "# Bem vindos a Let's Code!\n",
    "Parabéns por este passo dado em direção seu futuro.<br>\n",
    "Vamos programar?<br><br>\n",
    "<div>\n",
    "<img src=\"https://cio.com.br/wp-content/uploads/2020/10/linguagem-programacao-python-1024x576.jpg\" width=\"500\"/>\n",
    "</div>"
   ]
  },
  {
   "cell_type": "markdown",
   "id": "142e3a11",
   "metadata": {
    "id": "142e3a11"
   },
   "source": [
    "## 👨‍🏫 Os Professores 👨‍🏫"
   ]
  },
  {
   "cell_type": "markdown",
   "id": "dddd44b9",
   "metadata": {
    "id": "dddd44b9"
   },
   "source": [
    "#### Andrey Gustavo de Souza\n",
    "- Formação:\n",
    "    - Graduado de Engenharia Elétrica - IFMG Campus Formiga <br />\n",
    "    - Especialista em Ciência de Dados - ITA <br />\n",
    "    - Mestre em Engenharia de Sistemas e Automação - UFLA <br />\n",
    "- Professor na Let's Code\n",
    "- Cientista de Dados Sênior na Picpay\n",
    "- E-mail: andreygsouza@gmail.com <br />\n",
    "- WhatsApp: (37) 99843-1992<br />\n",
    "\n",
    "\n",
    "\n",
    "#### Fernanda Furukita\n",
    "- Formação:\n",
    "    - Estudante de Engenharia de Computação  - POLI - USP<br />\n",
    "- Professora na Let's Code\n",
    "- E-mail:  fernanda.namie@usp.br  <br />\n",
    "- WhatsApp: (19) 99865-5490  <br />\n",
    "\n",
    "---"
   ]
  },
  {
   "cell_type": "markdown",
   "id": "11f0cf0a",
   "metadata": {
    "id": "11f0cf0a"
   },
   "source": [
    "### Formato Curso\n",
    "\n",
    "- Class tem toda a ementa do que veremos\n",
    "- Nota: Exercícios (70%) + Projeto final (30%) (**NÃO TEREMOS PROVA!**)\n",
    "- Vamos focar na lógica básica de programação\n",
    "---"
   ]
  },
  {
   "cell_type": "markdown",
   "id": "7933494e",
   "metadata": {
    "id": "7933494e"
   },
   "source": [
    "## 💻🎓  Primeiros passos: Seu computador sabe Python? 💻🎓 <a class=\"anchor\" id=\"um\"></a>\n",
    "<br>"
   ]
  },
  {
   "cell_type": "markdown",
   "id": "832691c3",
   "metadata": {
    "id": "832691c3"
   },
   "source": [
    "<div align=\"justify\">\n",
    "&emsp; Antes de aprendermos Python nosso computador precisa entender Python, se você usa Linux ou MacOS seu computador já entende, mas se usa Windows não tema! Iremos ensinar nosso computador.<br>\n",
    "    \n",
    "### Python \"Puro\"\n",
    "    \n",
    "&emsp; Podemos instalar o Python, mas ele não é um programa normal que você abre e \"roda\", ele serve apenas para seu computador entender o que escrevermos na linguagem. Para isso vamos nesse link: <a href=\"https://www.python.org\">Instalador Python</a>, e na aba de <i>downloads</i> clicar na opçao mais a direita que aparecer.<br>\n",
    "&emsp; Basta iniciarmos o instalador baixado, mas <strong>cuidado</strong>, você <strong>deve</strong> marcar a opção de adicionar o Python no seu PATH do Windows para que funcione!<br>\n",
    "</div>\n",
    "\n",
    "<img src=\"https://phoenixnap.com/kb/wp-content/uploads/2021/04/python-setup.png\" width=\"500\"/><br>\n",
    "\n",
    "<div align=\"justify\">\n",
    "&emsp; Em seguida podemos seguir sem grandes novidades e perigos 😁<br><br>\n",
    "&emsp; Para conferir a instalação devemos abrir o terminal do nosso computador. Em Windows devemos usar: <b>Windows + R</b> escrever <b>\"cmd\"</b> e pressionar <b>Enter</b>; No Linux usamos <b>Ctrl + Alt + T</b>; E no MacOS apertaremos <b>Control + Espaço</b> e procuraremos por <b>Terminal</b> na barra do <i>Spotlight</i>. E dentro do terminal escreveremos <b>\"python --version\"</b> ou <b>\"python3 --version\"</b>, a saida esperada é algo como <b>\"Python 3.9.5\"</b>, ou seja, nossa nova linguagem do coração seguida da versão que instalamos dela!\n",
    "</div>"
   ]
  },
  {
   "cell_type": "markdown",
   "id": "d161f9f0",
   "metadata": {
    "id": "d161f9f0"
   },
   "source": [
    "### Instalação do Anaconda:\n",
    "O Anaconda é uma distribuição das linguagens Python e R para a computação científica, sendo amplamente utilizada no mundo de Data Science (mas não se restringindo apenas a isso). Para instalá-la, baixe a versão mais recente na [página de downloads](https://www.anaconda.com/distribution/) do site. Essa distribuição já contém grande parte dos módulos (bibliotecas) Python que usaremos em aula.\n",
    "\n",
    "O curso também pode ser seguido instalando cada biblioteca manualmente com o `pip`.\n",
    "\n",
    "### Instalação do Miniconda\n",
    "O [Miniconda](https://docs.conda.io/en/latest/miniconda.html) é uma distribuição reduzida do Anaconda, que é essencialmente um instalador para um ambiente conda vazio, contendo apenas o Conda, suas dependências e Python. F\n",
    "Depois que o Conda estiver instalado, você poderá instalar o pacote que precisar do zero, juntamente com qualquer versão desejada do Python.\n",
    "\n",
    "Escolha Anaconda se você:\n",
    "\n",
    "- São novos no conda ou Python\n",
    "- Como a conveniência de ter o Python e mais de 150 pacotes científicos instalados automaticamente de uma só vez\n",
    "- Tenha tempo e espaço em disco (alguns minutos e 3 GB) e / ou\n",
    "- Não deseja instalar cada um dos pacotes que deseja usar individualmente.\n",
    "\n",
    "Escolha Miniconda se você:\n",
    "\n",
    "- Não se importe de instalar cada um dos pacotes que você deseja usar individualmente.\n",
    "- Não há tempo ou espaço em disco para instalar mais de 150 pacotes de uma só vez e / ou\n",
    "- Apenas deseja acesso rápido ao Python e aos comandos conda e deseje resolver os outros programas posteriormente.\n",
    "\n",
    "**Nesse curso não importa muito qual opção você escolha, dados que lidaremos basicamente com Python em seu estado mais puro.**"
   ]
  },
  {
   "cell_type": "markdown",
   "id": "84f97b23",
   "metadata": {
    "id": "84f97b23"
   },
   "source": [
    "## 🔧 Ambiente de desenvolvimento: O que são? Qual usar? 🔧<a class=\"anchor\" id=\"dois\"></a>"
   ]
  },
  {
   "cell_type": "markdown",
   "id": "31903e2b",
   "metadata": {
    "id": "31903e2b"
   },
   "source": [
    "&emsp; Ambientes de Desenvolvimentos, ou IDEs, são nosso campo de batalha, é onde a criança chora e a mãe não vê! É aqui que vamos escrever nossos códigos, inclusive, se você está lendo isso no seu computador, é por quê já está em uma IDE: o _Jupyter Notebook_ (ou qualquer leitor de _notebooks_ de Python como o _Google Colab_). <br>\n",
    "&emsp; No curso usarei principalmente o _Jupyter Notebook_ por ter a capacidade de desenvolver esses materiais com muuuuito carinho para vocês, onde texto, imagens e códigos podem ser misturados, além de ter a capacidade de rodar pequenos trechos de códigos um por vez o que nos ajuda a entender o que está acontecendo e manter a organização, mas não me limitarei a ele e também usarei o _Visual Studio Code_ por ser uma ferramenta mais robusta que conta com ferramentas que facilitam nosso desenvolvimento (como o _debug_ que veremos mais a frente!).<br>\n",
    "&emsp; Qual IDE usar vai depender muito de suas necessidades, mas recomendo que todos usem um leitor de _notebooks_ no curso para que vocês possam acompanhar o material fornecido e também consiguirem rodar pequenos pedaços isolados de código sem ter que criar um arquivo novo para cada um.<br>\n",
    "\n",
    "### Instalação do _Jupyter Notebook_\n",
    "&emsp; Para instalar o _Jupyter Notebook_ devemos abrir nosso terminal e escrever **\"pip install notebook\"**, o **pip** é um amigo nosso que servirá para instalar complementos para o Python. Após a instalação ser completa basta escrever **\"jupyter notebook\"** e seu navegador padrão será aberto rodando o _Jupyter_, note que você não pode fechar o terminal que usou para abrir, se não sua IDE não irá funcionar.<br>\n",
    "&emsp; Na tela inicial do _Jupyter_ temos o **_new_** e o **_upload_**, no _new_ podemos iniciar um _notebook_ novo na opção Python3, e no _upload_ adicionar um que baixamos, por exemplo. Vamos tentar com este que estou usando?<br>\n",
    "&emsp; Agora dentro de um _notebook_ podemos brincar com os blocos de _markdown_ onde escrevemos textos (desde texto puro até o uso de HTML para estilizar nosso conteúdo, nesse link vocês podem consultar muitas funcionalidades: <a href=\"https://medium.com/analytics-vidhya/the-ultimate-markdown-guide-for-jupyter-notebook-d5e5abf728fd\">Tutorial de Markdown</a>), e os blocos de código onde programaremos e iremos rodar usando os botões estilo multimídia na barra superior. Não se preocupem com o resto, aprenderemos com o tempo.<br>\n",
    "\n",
    "### Instalação do _Visual Studio Code_\n",
    "&emsp; Para instalar o _Visual Studio Code_ basta baixarmos no site: <a href=\"https://code.visualstudio.com\">Visual Studio Code</a>, e seguir a instalação, apenas percebam que na última tela devemos marcar tudo como na foto abaixo: <br>\n",
    "<img src=\"https://s3-sa-east-1.amazonaws.com/lcpi/627ae5e6-7486-400b-adcf-fe1f7fe71d0e.png\" width=\"500\"/><br>\n",
    "&emsp; E para finalmente rodarmos Python precisaremos de algumas gracinhas que nos ajudarão muito: as extensões. Elas podem ser fácilmente baixadas clicando aqui:<br>\n",
    "\n",
    "<img src=\"https://image.ibb.co/nqiKtd/Screenshot_32.png\" width=\"500\"/><br>\n",
    "\n",
    "&emsp; Em seguida podemos clicar em _file_ criar um arquivo com terminação _\".py\"_ e ser feliz! 😄<br>"
   ]
  },
  {
   "cell_type": "markdown",
   "id": "40f5849e",
   "metadata": {},
   "source": [
    "## Liguagens de Programação"
   ]
  },
  {
   "cell_type": "markdown",
   "id": "0ae6040a",
   "metadata": {},
   "source": [
    "### A primeira linguagem de programação\n",
    "\n",
    "O próximo \"estágio\" da programação é o nível 1 ou nível de micro programação. Os computadores agora entendiam uma linguagem muito simples, esta linguagem contava com dois caracteres que indicavam o estado de um circuito (0 como baixa ou nenhuma presença de energia e 1 como presença de energia) e podendo a partir disto, realizar pequenas tarefas pré-programadas. Esta linguagem por ser a única que os computadores realmente entendem ficou conhecida como linguagem de máquina.\n",
    "\n",
    "### As gerações seguintes das linguagens de programação\n",
    "\n",
    "A geração seguinte de computadores contavam com interpretadores. O interpretador recebe instruções menos específicas e mais simples e como seu nome sugere, as interpreta pelo computador. Executando assim as ações equivalentes ao nível de máquina. Os interpretadores foram um grande facilitador para o surgimento de novas linguagens de programação e também dos sistemas operacionais. A partir daqui, as linguagens são identificadas como de baixo nível ou de alto nível. Quanto mais próxima do nível da máquina, mais explicitas precisam ser as instruções. E quanto mais próxima do nível de usuário, mais abstratas e simples estas instruções podem ser.\n",
    "\n",
    "### Linguagens de baixo nível\n",
    "Podemos entender então linguagens de programação de baixo nível como aquelas muito próximas do nível de máquina. Estas linguagens têm a característica de serem muito específicas, tornando-as mais difíceis por necessitarem de instruções detalhadas sobre o que será feito e como será feito, estas linguagens não são indicadas para quem está começando agora a ter contato com o mundo da programação.\n",
    "\n",
    "### Linguagens de alto nível\n",
    "As linguagens de alto nível são abstratas, facilitando o desenvolvimento de quem as utiliza. Estas linguagens \"rodam\" a um nível mais próximo do usuário do que da máquina. Isto quer dizer que é mais fácil para o usuário entender e desenvolver com ela, mas ela precisa passar por algumas etapas antes de ser levada ao hardware e este possa ter instruções do que deve ser executado.\n",
    "\n",
    "Existem várias linguagens de programação diversas com propósitos diferentes. Algumas linguagens precisam ter seu código traduzido para linguagem de máquina para que possam ser executados, estas linguagens são conhecidas como linguagens compiladas, entenderemos melhor mais a frente. Existem também outras linguagens de programação que precisam apenas ser lidas sem a necessidade da etapa de tradução, chamamos estas de linguagens interpretadas.\n",
    "\n",
    "\n",
    "<img src=\"https://i.imgur.com/TIvXRp9.png\" width=\"700\"/><br>"
   ]
  },
  {
   "cell_type": "markdown",
   "id": "53cf74ff",
   "metadata": {
    "id": "53cf74ff"
   },
   "source": [
    "##  📔 Introdução ao Python e Jupyter Notebook  📔"
   ]
  },
  {
   "cell_type": "markdown",
   "id": "3b5f821e",
   "metadata": {
    "id": "3b5f821e"
   },
   "source": [
    "O python é uma linguagem de programação desenvolvida por Guido van Rossum em 1991. Muito conhecido por ser aplicada em diferentes áreas e também pela sua **simplicidade (alto nível)**. É uma linguagem **interpretada e fracamente tipada** (veremos isso mais a frente). Também é multiplataforma, isso é, podemos criar aplicações para desktop, web e até mesmo mobile. É  mantida pela Python Software Foundation. Seus princípios podem ser encontrados no \"The Zen of Python\".\n",
    "\n",
    "### The Zen of Python\n",
    "Beautiful is better than ugly.\n",
    "\n",
    "Explicit is better than implicit.\n",
    "\n",
    "**Simple is better than complex**.\n",
    "\n",
    "Complex is better than complicated.\n",
    "\n",
    "Flat is better than nested.\n",
    "\n",
    "Sparse is better than dense.\n",
    "\n",
    "**Readability counts**.\n",
    "\n",
    "Special cases aren't special enough to break the rules.\n",
    "\n",
    "Although practicality beats purity.\n",
    "\n",
    "Errors should never pass silently.\n",
    "\n",
    "Unless explicitly silenced.\n",
    "\n",
    "In the face of ambiguity, refuse the temptation to guess.\n",
    "\n",
    "There should be one-- and preferably only one --obvious way to do it.\n",
    "\n",
    "Although that way may not be obvious at first unless you're Dutch.\n",
    "\n",
    "Now is better than never.\n",
    "\n",
    "Although never is often better than *right* now.\n",
    "\n",
    "**If the implementation is hard to explain, it's a bad idea.**\n",
    "\n",
    "**If the implementation is easy to explain, it may be a good idea.**\n",
    "\n",
    "Namespaces are one honking great idea -- let's do more of those!"
   ]
  },
  {
   "cell_type": "code",
   "execution_count": 1,
   "id": "6fad52f8",
   "metadata": {},
   "outputs": [
    {
     "name": "stdout",
     "output_type": "stream",
     "text": [
      "The Zen of Python, by Tim Peters\n",
      "\n",
      "Beautiful is better than ugly.\n",
      "Explicit is better than implicit.\n",
      "Simple is better than complex.\n",
      "Complex is better than complicated.\n",
      "Flat is better than nested.\n",
      "Sparse is better than dense.\n",
      "Readability counts.\n",
      "Special cases aren't special enough to break the rules.\n",
      "Although practicality beats purity.\n",
      "Errors should never pass silently.\n",
      "Unless explicitly silenced.\n",
      "In the face of ambiguity, refuse the temptation to guess.\n",
      "There should be one-- and preferably only one --obvious way to do it.\n",
      "Although that way may not be obvious at first unless you're Dutch.\n",
      "Now is better than never.\n",
      "Although never is often better than *right* now.\n",
      "If the implementation is hard to explain, it's a bad idea.\n",
      "If the implementation is easy to explain, it may be a good idea.\n",
      "Namespaces are one honking great idea -- let's do more of those!\n"
     ]
    }
   ],
   "source": [
    "import this"
   ]
  },
  {
   "cell_type": "markdown",
   "id": "59df9664",
   "metadata": {
    "id": "59df9664"
   },
   "source": [
    "### Alguns atalhos\n",
    "\n",
    "Pra usar o Jupyter de forma fluida e rápida, é importante utilizarmos alguns atalhos do teclado.\n",
    "\n",
    "Existem muitos atalhos (eles podem ser consultados no menu acima, em **Help >> Keyboard Shortcuts**), mas os pricipais utilizados são:\n",
    "\n",
    "- CTRL + ENTER ou SHIFT + ENTER ou ALT+ENTER: executa a célula;\n",
    "- ESC: deixa a célula em modo de comando (azul);\n",
    "- ESC e depois M: transforma a célula em célula de texto (markdown);\n",
    "- ESC e depois Y: transforma a célula em célula de código;\n",
    "- ESC e depois DD: apaga a célula;\n",
    "- ESC e depois A: (ABOVE) - cria uma célula acima da célula atual;\n",
    "- ESC e depois B: (BELOW) - cria uma célula abaixo da célula atual;"
   ]
  },
  {
   "cell_type": "code",
   "execution_count": 62,
   "id": "b519018f",
   "metadata": {},
   "outputs": [
    {
     "name": "stdout",
     "output_type": "stream",
     "text": [
      "Ola\n"
     ]
    }
   ],
   "source": [
    "print('Ola')"
   ]
  },
  {
   "cell_type": "code",
   "execution_count": null,
   "id": "d0f3ebf9",
   "metadata": {},
   "outputs": [],
   "source": []
  },
  {
   "cell_type": "code",
   "execution_count": null,
   "id": "f24deb58",
   "metadata": {},
   "outputs": [],
   "source": []
  },
  {
   "cell_type": "markdown",
   "id": "f493b01e",
   "metadata": {
    "id": "f493b01e"
   },
   "source": [
    "## O que é um algoritmo?"
   ]
  },
  {
   "cell_type": "markdown",
   "id": "8cb688b5",
   "metadata": {
    "id": "8cb688b5"
   },
   "source": [
    "- Instruções fornecidas para as máquinas em uma ordem lógica\n",
    "- Entrada -> Processamento -> Saída\n",
    "- Fluxograma descreve as instruções e a execução do algoritmo\n",
    "\n",
    "<img src=\"imgs/fluxograma.png\" width=\"350\"/>"
   ]
  },
  {
   "cell_type": "markdown",
   "id": "4d9c9bca",
   "metadata": {
    "id": "4d9c9bca"
   },
   "source": [
    "## Primeira prática com python"
   ]
  },
  {
   "cell_type": "code",
   "execution_count": 2,
   "id": "5b38f1e9",
   "metadata": {
    "id": "5b38f1e9",
    "outputId": "389b54bf-7aaa-4a00-a529-f6838439480d"
   },
   "outputs": [
    {
     "name": "stdout",
     "output_type": "stream",
     "text": [
      "Olá Mundo!\n"
     ]
    }
   ],
   "source": [
    "print('Olá Mundo!')"
   ]
  },
  {
   "cell_type": "markdown",
   "id": "4d466a3a",
   "metadata": {
    "id": "4d466a3a"
   },
   "source": [
    "Apesar de ser um script simples e produzir uma saída pequena, o python executa uma grande quantidade de coisas por trás.\n",
    "\n",
    "Quando nossa célula é executada, o interpretador lê cada palavra do script. Por exemplo, quando o interpretador lê a palavra \"print\" seguida de parêntesis \"()\", ele entende que isso é um comando para apresentar algum texto na tela. Após isso o interpretador vai verificar o texto que está dentro do parêntesis para mostrar na tela.\n",
    "\n",
    "Outro detalhe interessante que podemos observar em nossos scripts é que algumas palavras possuem cores diferentes. O python faz isso para que possamos identificar diferentes partes do script. Por exemplo, sabemos que o \"print\" é uma função e a frase \"Olá Jupyter Notebook\" é o conteúdo passado nessa função, portanto ambas possuem cores diferentes. Essa \"feature\" é conhecida como ***syntax highlighting*** e está presente em todas as linguagens de programação e IDEs."
   ]
  },
  {
   "cell_type": "markdown",
   "id": "0ba818e9",
   "metadata": {
    "id": "0ba818e9"
   },
   "source": [
    "## Variáveis"
   ]
  },
  {
   "cell_type": "markdown",
   "id": "e7eae69d",
   "metadata": {
    "id": "e7eae69d"
   },
   "source": [
    "Uma variável é um espaço na memória do nosso computador reservado para armazenar algum valor temporário. Na construção de um algoritmo existem diversas operações como, fazer alguma soma ou apresentar algum texto na tela. Para que seja possível trabalhar com esses valores, precisamos ter um espaço na memória reservado para eles, e fazemos isso na declaração de variáveis."
   ]
  },
  {
   "cell_type": "code",
   "execution_count": 3,
   "id": "84e9b797",
   "metadata": {
    "id": "84e9b797",
    "outputId": "523f6eb3-6497-4612-c0ee-62d3b3661351"
   },
   "outputs": [
    {
     "name": "stdout",
     "output_type": "stream",
     "text": [
      "Beltrano\n"
     ]
    }
   ],
   "source": [
    "nome = 'Beltrano'\n",
    "print(nome)"
   ]
  },
  {
   "cell_type": "code",
   "execution_count": 5,
   "id": "4fa5085c",
   "metadata": {},
   "outputs": [
    {
     "name": "stdout",
     "output_type": "stream",
     "text": [
      "Olá  Beltrano\n"
     ]
    }
   ],
   "source": [
    "print('Olá ', nome)"
   ]
  },
  {
   "cell_type": "markdown",
   "id": "27ef7006",
   "metadata": {
    "id": "27ef7006"
   },
   "source": [
    "Temos então um nome para a variável e um valor associado a ela. Acima, nossa variável \"nome\" está com o valor associado \"Beltrano\". Portanto, na primeira linha, o **interpretador vai disponibilizar um espaço na memória associado ao nome da variável e armazenar o valor \"Beltrano\".** Na segunda linha, usamos a função print para apresentar algo na tela e passamos apenas o nome da variável. Como o valor \"Beltrano\" está associado a variável \"nome\", será apresentado na tela o seu valor.\n",
    "\n",
    "**Mas qual é a melhor maneira? Sem declarar a variável ou declarando a variável**\n",
    "Isso vai depender do tipo de tarefa que precisamos desempenhar. Na maioria das vezes precisamos armazenar esses valores. Uma vantagem de se declarar uma variável e que o seu código pode se tornar mais legível. **Se você atribuir um nome que descreva bem o valor que a variável está armazenando, outras pessoas não vão ter maiores dificuldades de entender.**\n",
    "\n",
    "__IMPORTANTE (dica): O sinal \"=\" é lido como \"recebe\", pois o que estamos fazendo é guardando o valor da operação matemática no pedacinho de memória com o nome da variável, então o pedacinho de memória recebe o valor indicado depois do sinal de \"=\"__"
   ]
  },
  {
   "cell_type": "markdown",
   "id": "e5ac3f8a",
   "metadata": {
    "id": "e5ac3f8a"
   },
   "source": [
    "**Ordem de atribuição para uma mesma variável. Qual valor será apresentado quando executarmos a célula abaixo? E por quê?**"
   ]
  },
  {
   "cell_type": "code",
   "execution_count": 6,
   "id": "ca7a4a50",
   "metadata": {
    "id": "ca7a4a50",
    "outputId": "1b845c1d-ec94-47b3-9a95-cbc7beb9ccf7"
   },
   "outputs": [
    {
     "name": "stdout",
     "output_type": "stream",
     "text": [
      "Fulano\n"
     ]
    }
   ],
   "source": [
    "nome = 'Beltrano'\n",
    "nome = 'Fulano'\n",
    "print(nome)"
   ]
  },
  {
   "cell_type": "code",
   "execution_count": null,
   "id": "40400696",
   "metadata": {
    "id": "40400696"
   },
   "outputs": [],
   "source": []
  },
  {
   "cell_type": "markdown",
   "id": "1Ac7X-7SqBQR",
   "metadata": {
    "id": "1Ac7X-7SqBQR"
   },
   "source": [
    " O jupyter nos permite também examinar o valor de uma expressão sem a necessidade de usar o `print()`\n",
    " Mas note que logo abaixo do código, aparece um `Out[]`, o que não acontece quando usamos a função `print()`\n",
    " Esse é um jeito de \"espiar\" o output das operações do Python de forma direta!"
   ]
  },
  {
   "cell_type": "code",
   "execution_count": 9,
   "id": "3b43d53e",
   "metadata": {
    "id": "3b43d53e",
    "outputId": "38e8bc66-7f80-47e4-8baa-a660c9c24383",
    "run_control": {
     "marked": false
    }
   },
   "outputs": [
    {
     "data": {
      "text/plain": [
       "'Fulano'"
      ]
     },
     "execution_count": 9,
     "metadata": {},
     "output_type": "execute_result"
    }
   ],
   "source": [
    "nome"
   ]
  },
  {
   "cell_type": "code",
   "execution_count": 10,
   "id": "650e6493",
   "metadata": {},
   "outputs": [
    {
     "data": {
      "text/plain": [
       "26"
      ]
     },
     "execution_count": 10,
     "metadata": {},
     "output_type": "execute_result"
    }
   ],
   "source": [
    "idade = 26\n",
    "idade"
   ]
  },
  {
   "cell_type": "markdown",
   "id": "HqPxUOy1qQvc",
   "metadata": {
    "id": "HqPxUOy1qQvc"
   },
   "source": [
    " Outra coisa importante é que o Jupyter só permite examinar o valor da última expressão no código:"
   ]
  },
  {
   "cell_type": "code",
   "execution_count": 11,
   "id": "zMhUPo6vqVMF",
   "metadata": {
    "colab": {
     "base_uri": "https://localhost:8080/"
    },
    "executionInfo": {
     "elapsed": 245,
     "status": "ok",
     "timestamp": 1634212607788,
     "user": {
      "displayName": "Andrey Gustavo Souza",
      "photoUrl": "https://lh3.googleusercontent.com/a-/AOh14GhyPBh6DyPlF_eMISV_CcDM6yfQxmYqOhAG5izNlg=s64",
      "userId": "14504674311560135656"
     },
     "user_tz": 180
    },
    "id": "zMhUPo6vqVMF",
    "outputId": "e9ad7801-4dc1-4863-c5df-747716503e06"
   },
   "outputs": [
    {
     "data": {
      "text/plain": [
       "32"
      ]
     },
     "execution_count": 11,
     "metadata": {},
     "output_type": "execute_result"
    }
   ],
   "source": [
    "2-1\n",
    "3*7\n",
    "4*8"
   ]
  },
  {
   "cell_type": "code",
   "execution_count": 12,
   "id": "fb2ba4f1",
   "metadata": {},
   "outputs": [
    {
     "name": "stdout",
     "output_type": "stream",
     "text": [
      "1\n",
      "21\n",
      "32\n"
     ]
    }
   ],
   "source": [
    "print(2-1)\n",
    "print(3*7)\n",
    "print(4*8)"
   ]
  },
  {
   "cell_type": "markdown",
   "id": "af334553",
   "metadata": {
    "id": "af334553"
   },
   "source": [
    "Um ponto importante sobre as variáveis é que existem **regras ao definir seus nomes**. Toda linguagem de programação possui  regras para definição de nomes em variáveis. **Essas são algumas regras do python**:\n",
    "- Nomes de variáveis podem conter apenas, letras, números e \"_\"\n",
    "- Os nomes podem começar com letras ou \"_\" mas nunca com números\n",
    "    - var_1, var_2, _var3\n",
    "- Não podemos usar espaço no nome das variáveis. No lugar de espaço usamos o \"_\"\n",
    "- Evite usar palavras reservadas do python!\n",
    "- Os nomes devem descrever bem o que a variável está armazenando\n",
    "    - numero_telefone (BOM)\n",
    "    - n_tel (RUIM)"
   ]
  },
  {
   "cell_type": "markdown",
   "id": "a2a7944a",
   "metadata": {
    "id": "a2a7944a"
   },
   "source": [
    "**Como deixar o código ainda mais legível? COMENTÁRIOS!**"
   ]
  },
  {
   "cell_type": "code",
   "execution_count": 13,
   "id": "e89d4bc2",
   "metadata": {
    "id": "e89d4bc2"
   },
   "outputs": [],
   "source": [
    "# Esse é um comentário\n",
    "# E esse também é um comentário"
   ]
  },
  {
   "cell_type": "code",
   "execution_count": null,
   "id": "1ee58704",
   "metadata": {
    "id": "1ee58704"
   },
   "outputs": [],
   "source": [
    "salario = 5000 # Essa variável armazena o salário do cliente"
   ]
  },
  {
   "cell_type": "markdown",
   "id": "68a95120",
   "metadata": {
    "id": "68a95120"
   },
   "source": [
    "### Tipos de variáveis\n",
    "Perceba que nas variáveis acima armazenamos um texto (nome) e um número (idade). E também que as duas foram declaradas de maneiras diferentes. Na linguagem python existem tipos diferentes de variáveis para armazenar tipos diferentes de valores. É importante entender isso já que o tipo da variável influencia nas operações que podemos realizar com as mesmas."
   ]
  },
  {
   "cell_type": "markdown",
   "id": "a7f0dc6c",
   "metadata": {
    "id": "a7f0dc6c"
   },
   "source": [
    "**Alguns tipos existentes:**\n",
    "- **int**: números inteiros\n",
    "- **float**: ponto flutuante (números reais com mais casas decimais)\n",
    "- **str**: Strings (textos)"
   ]
  },
  {
   "cell_type": "code",
   "execution_count": 14,
   "id": "5d7346f2",
   "metadata": {
    "id": "5d7346f2",
    "outputId": "ac72cc00-002d-4021-853d-9c452d5d1802"
   },
   "outputs": [
    {
     "data": {
      "text/plain": [
       "str"
      ]
     },
     "execution_count": 14,
     "metadata": {},
     "output_type": "execute_result"
    }
   ],
   "source": [
    "type(nome)"
   ]
  },
  {
   "cell_type": "code",
   "execution_count": 15,
   "id": "ef83fd8a",
   "metadata": {
    "id": "ef83fd8a",
    "outputId": "1fbb1b6c-b55f-4fae-82d3-419ad7810888"
   },
   "outputs": [
    {
     "data": {
      "text/plain": [
       "int"
      ]
     },
     "execution_count": 15,
     "metadata": {},
     "output_type": "execute_result"
    }
   ],
   "source": [
    "type(idade)"
   ]
  },
  {
   "cell_type": "code",
   "execution_count": 16,
   "id": "6e083cf1",
   "metadata": {
    "id": "6e083cf1"
   },
   "outputs": [],
   "source": [
    "altura = 1.8"
   ]
  },
  {
   "cell_type": "code",
   "execution_count": 17,
   "id": "e53d41c2",
   "metadata": {},
   "outputs": [
    {
     "data": {
      "text/plain": [
       "float"
      ]
     },
     "execution_count": 17,
     "metadata": {},
     "output_type": "execute_result"
    }
   ],
   "source": [
    "type(altura)"
   ]
  },
  {
   "cell_type": "code",
   "execution_count": null,
   "id": "b08851fa",
   "metadata": {
    "id": "b08851fa",
    "outputId": "e10f7364-8edd-4387-9b2b-d3e011fa87b9"
   },
   "outputs": [],
   "source": []
  },
  {
   "cell_type": "markdown",
   "id": "516793a7",
   "metadata": {
    "id": "516793a7"
   },
   "source": [
    "Os tipos podem ser explicitados usando :**tipo_dado** depois do nome da variável o que chamamos de [type hint](https://diogommartins.medium.com/python-3-e-type-hints-40e80a9e8214), além disso podemos fazer o _cast_ (mudança de tipo) usando _tipo_dado(dado)_ entre variaveis de diferentes tipos, mas note que isso pode gerar problemas se feito deliberadamente:"
   ]
  },
  {
   "cell_type": "code",
   "execution_count": 20,
   "id": "2ba0411d",
   "metadata": {
    "id": "2ba0411d"
   },
   "outputs": [],
   "source": [
    "a:int = 4 \n",
    "b:float = float(a)\n",
    "c:str = str(a)"
   ]
  },
  {
   "cell_type": "code",
   "execution_count": 21,
   "id": "a0657258",
   "metadata": {},
   "outputs": [
    {
     "data": {
      "text/plain": [
       "4"
      ]
     },
     "execution_count": 21,
     "metadata": {},
     "output_type": "execute_result"
    }
   ],
   "source": [
    "a"
   ]
  },
  {
   "cell_type": "code",
   "execution_count": 23,
   "id": "e548eff4",
   "metadata": {},
   "outputs": [
    {
     "data": {
      "text/plain": [
       "4.0"
      ]
     },
     "execution_count": 23,
     "metadata": {},
     "output_type": "execute_result"
    }
   ],
   "source": [
    "b"
   ]
  },
  {
   "cell_type": "code",
   "execution_count": 24,
   "id": "5b6fcb2c",
   "metadata": {},
   "outputs": [
    {
     "data": {
      "text/plain": [
       "'4'"
      ]
     },
     "execution_count": 24,
     "metadata": {},
     "output_type": "execute_result"
    }
   ],
   "source": [
    "c"
   ]
  },
  {
   "cell_type": "code",
   "execution_count": 19,
   "id": "9d12a948",
   "metadata": {},
   "outputs": [
    {
     "data": {
      "text/plain": [
       "str"
      ]
     },
     "execution_count": 19,
     "metadata": {},
     "output_type": "execute_result"
    }
   ],
   "source": [
    "type(a)"
   ]
  },
  {
   "cell_type": "markdown",
   "id": "bbf5dba6",
   "metadata": {
    "id": "bbf5dba6",
    "run_control": {
     "marked": false
    }
   },
   "source": [
    "Uma outra feature interessante do python é a atribuição multipla"
   ]
  },
  {
   "cell_type": "code",
   "execution_count": 25,
   "id": "8540d94a",
   "metadata": {
    "id": "8540d94a"
   },
   "outputs": [],
   "source": [
    "nome, altura, idade = 'Fulano', 1.80, 27"
   ]
  },
  {
   "cell_type": "code",
   "execution_count": 26,
   "id": "1351fc63",
   "metadata": {},
   "outputs": [
    {
     "name": "stdout",
     "output_type": "stream",
     "text": [
      "Fulano\n",
      "1.8\n",
      "27\n"
     ]
    }
   ],
   "source": [
    "print(nome)\n",
    "print(altura)\n",
    "print(idade)"
   ]
  },
  {
   "cell_type": "code",
   "execution_count": null,
   "id": "359a851c",
   "metadata": {
    "id": "359a851c",
    "outputId": "e6ee6adb-9020-44ab-b846-0abeb5fedec0"
   },
   "outputs": [],
   "source": []
  },
  {
   "cell_type": "markdown",
   "id": "0568c1ef",
   "metadata": {
    "id": "0568c1ef"
   },
   "source": [
    "**Constantes**\n",
    "\n",
    "Uma constante é um valor que não deve ser modificado durante a execução. O python não possui uma forma de tratar esse tipo de valor, no entanto por convenção utilizamos os nomes de variáveis em maiúsculo para indicar que se trata de uma constante."
   ]
  },
  {
   "cell_type": "code",
   "execution_count": 27,
   "id": "ae8b1a38",
   "metadata": {
    "id": "ae8b1a38"
   },
   "outputs": [],
   "source": [
    "NUMERO_MUNICIPIOS_MG = 853"
   ]
  },
  {
   "cell_type": "code",
   "execution_count": 28,
   "id": "3193274a",
   "metadata": {},
   "outputs": [
    {
     "data": {
      "text/plain": [
       "853"
      ]
     },
     "execution_count": 28,
     "metadata": {},
     "output_type": "execute_result"
    }
   ],
   "source": [
    "NUMERO_MUNICIPIOS_MG"
   ]
  },
  {
   "cell_type": "code",
   "execution_count": null,
   "id": "ec1afaca",
   "metadata": {
    "id": "ec1afaca",
    "outputId": "68ec01dd-9058-427d-bea0-f06188ff7314"
   },
   "outputs": [],
   "source": []
  },
  {
   "cell_type": "markdown",
   "id": "cb99bf9d",
   "metadata": {
    "id": "cb99bf9d"
   },
   "source": [
    "**Dica:** Uma feature interessante disponível a partir do python 3.6. Podemos separar os número usando **_**, o que facilita na leitura. O python ignora o **_** na hora de processar"
   ]
  },
  {
   "cell_type": "code",
   "execution_count": 29,
   "id": "13a37dfb",
   "metadata": {
    "id": "13a37dfb",
    "outputId": "ded7f789-9ece-4862-d5d6-c096d9dc2e30"
   },
   "outputs": [
    {
     "data": {
      "text/plain": [
       "14000000000"
      ]
     },
     "execution_count": 29,
     "metadata": {},
     "output_type": "execute_result"
    }
   ],
   "source": [
    "numero = 14_000_000_000\n",
    "numero"
   ]
  },
  {
   "cell_type": "code",
   "execution_count": 30,
   "id": "268ab433",
   "metadata": {},
   "outputs": [
    {
     "data": {
      "text/plain": [
       "14000000000.0"
      ]
     },
     "execution_count": 30,
     "metadata": {},
     "output_type": "execute_result"
    }
   ],
   "source": [
    "#Notação científica\n",
    "numero = 14e9\n",
    "numero"
   ]
  },
  {
   "cell_type": "markdown",
   "id": "3232bb4c",
   "metadata": {
    "id": "3232bb4c"
   },
   "source": [
    "## Operadores Matemáticos"
   ]
  },
  {
   "cell_type": "markdown",
   "id": "d9077bf7",
   "metadata": {
    "id": "d9077bf7"
   },
   "source": [
    "&emsp; O Python faz operações matemáticas entre variáveis e dados puros, a seguir temos uma tabela com os operadores e suas funções:<br>\n",
    "\n",
    "| Operador | Função           |\n",
    "|----------|------------------|\n",
    "| +        | Adição           |\n",
    "| -        | Subtração        |\n",
    "| *        | Multiplicação    |\n",
    "| /        | Divisão          |\n",
    "| %        | Resto de divisão |\n",
    "| **       | Potênciação      |\n",
    "| //       | Divisão Inteira  |\n",
    "\n",
    "&emsp; Além disso, fazemos uso de parênteses para definir ordem de contas assim como na matemática.<br>"
   ]
  },
  {
   "cell_type": "code",
   "execution_count": 31,
   "id": "5a0d1fb6",
   "metadata": {
    "id": "5a0d1fb6"
   },
   "outputs": [
    {
     "data": {
      "text/plain": [
       "3.2"
      ]
     },
     "execution_count": 31,
     "metadata": {},
     "output_type": "execute_result"
    }
   ],
   "source": [
    "a = ((3+2)-1)*8/10\n",
    "a"
   ]
  },
  {
   "cell_type": "code",
   "execution_count": 32,
   "id": "acdcd0d9",
   "metadata": {
    "id": "acdcd0d9"
   },
   "outputs": [
    {
     "data": {
      "text/plain": [
       "27"
      ]
     },
     "execution_count": 32,
     "metadata": {},
     "output_type": "execute_result"
    }
   ],
   "source": [
    "b = 3**3\n",
    "b"
   ]
  },
  {
   "cell_type": "code",
   "execution_count": 33,
   "id": "392ca405",
   "metadata": {},
   "outputs": [
    {
     "data": {
      "text/plain": [
       "4"
      ]
     },
     "execution_count": 33,
     "metadata": {},
     "output_type": "execute_result"
    }
   ],
   "source": [
    "c = 39%5\n",
    "c"
   ]
  },
  {
   "cell_type": "code",
   "execution_count": 34,
   "id": "0173a002",
   "metadata": {},
   "outputs": [
    {
     "data": {
      "text/plain": [
       "7"
      ]
     },
     "execution_count": 34,
     "metadata": {},
     "output_type": "execute_result"
    }
   ],
   "source": [
    "d = 39//5\n",
    "d"
   ]
  },
  {
   "cell_type": "markdown",
   "id": "706eff70",
   "metadata": {},
   "source": [
    "#### Iterar em uma variável"
   ]
  },
  {
   "cell_type": "code",
   "execution_count": 35,
   "id": "55078ac8",
   "metadata": {},
   "outputs": [],
   "source": [
    "a = 10\n",
    "a = a+1"
   ]
  },
  {
   "cell_type": "code",
   "execution_count": 36,
   "id": "4bdc798c",
   "metadata": {},
   "outputs": [
    {
     "data": {
      "text/plain": [
       "11"
      ]
     },
     "execution_count": 36,
     "metadata": {},
     "output_type": "execute_result"
    }
   ],
   "source": [
    "a"
   ]
  },
  {
   "cell_type": "code",
   "execution_count": 37,
   "id": "7e2e7b63",
   "metadata": {},
   "outputs": [
    {
     "data": {
      "text/plain": [
       "11"
      ]
     },
     "execution_count": 37,
     "metadata": {},
     "output_type": "execute_result"
    }
   ],
   "source": [
    "#Soma\n",
    "a = 10\n",
    "a += 1\n",
    "a"
   ]
  },
  {
   "cell_type": "code",
   "execution_count": 38,
   "id": "a914a2fe",
   "metadata": {},
   "outputs": [
    {
     "data": {
      "text/plain": [
       "10"
      ]
     },
     "execution_count": 38,
     "metadata": {},
     "output_type": "execute_result"
    }
   ],
   "source": [
    "#Subtração\n",
    "a = 11\n",
    "a -= 1\n",
    "a"
   ]
  },
  {
   "cell_type": "code",
   "execution_count": null,
   "id": "65cc4514",
   "metadata": {},
   "outputs": [],
   "source": [
    "pi = 3.14"
   ]
  },
  {
   "cell_type": "code",
   "execution_count": 65,
   "id": "b345cd08",
   "metadata": {},
   "outputs": [],
   "source": [
    "#Como deletar uma variável\n",
    "del pi"
   ]
  },
  {
   "cell_type": "code",
   "execution_count": 66,
   "id": "d6891885",
   "metadata": {},
   "outputs": [
    {
     "ename": "NameError",
     "evalue": "name 'pi' is not defined",
     "output_type": "error",
     "traceback": [
      "\u001b[1;31m---------------------------------------------------------------------------\u001b[0m",
      "\u001b[1;31mNameError\u001b[0m                                 Traceback (most recent call last)",
      "\u001b[1;32m~\\AppData\\Local\\Temp/ipykernel_8904/3440806613.py\u001b[0m in \u001b[0;36m<module>\u001b[1;34m\u001b[0m\n\u001b[1;32m----> 1\u001b[1;33m \u001b[0mpi\u001b[0m\u001b[1;33m\u001b[0m\u001b[1;33m\u001b[0m\u001b[0m\n\u001b[0m",
      "\u001b[1;31mNameError\u001b[0m: name 'pi' is not defined"
     ]
    }
   ],
   "source": [
    "pi"
   ]
  },
  {
   "cell_type": "markdown",
   "id": "bc70d3e0",
   "metadata": {
    "id": "bc70d3e0"
   },
   "source": [
    "## Input e Output"
   ]
  },
  {
   "cell_type": "markdown",
   "id": "34e6aea4",
   "metadata": {
    "id": "34e6aea4"
   },
   "source": [
    "A forma mais básica de escrever um script é usando a estrutura sequencial. Dado uma entrada (input), processamos essa entrada e geramos uma saída (output).\n",
    "\n",
    "- A funcão `input()` irá ler uma entrada de usuário em formato de _string_ (portanto se você espera outro tipo de dado deverá fazer o _cast_), e podemos colocar outra _string_ dentro dos parênteses que será a pergunta feita ao usuário.\n",
    "- A funcão `print()` irá imprimir algo para o usuário, e receberá o que ela deve imprimir dentro dos parênteses, podendo ser variáveis, textos e a mistura dos dois."
   ]
  },
  {
   "cell_type": "code",
   "execution_count": 39,
   "id": "892fee13",
   "metadata": {
    "id": "892fee13",
    "outputId": "b9cb6bd0-86db-412f-d4d6-3089ed0c0ebe"
   },
   "outputs": [
    {
     "name": "stdout",
     "output_type": "stream",
     "text": [
      "Seu nome: Andrey\n"
     ]
    },
    {
     "data": {
      "text/plain": [
       "'Andrey'"
      ]
     },
     "execution_count": 39,
     "metadata": {},
     "output_type": "execute_result"
    }
   ],
   "source": [
    "input('Seu nome: ')"
   ]
  },
  {
   "cell_type": "code",
   "execution_count": 41,
   "id": "f6918230",
   "metadata": {},
   "outputs": [
    {
     "name": "stdout",
     "output_type": "stream",
     "text": [
      "Seu nome: Fulano\n"
     ]
    }
   ],
   "source": [
    "nome = input('Seu nome: ')"
   ]
  },
  {
   "cell_type": "code",
   "execution_count": 42,
   "id": "d8f576fa",
   "metadata": {},
   "outputs": [
    {
     "data": {
      "text/plain": [
       "'Fulano'"
      ]
     },
     "execution_count": 42,
     "metadata": {},
     "output_type": "execute_result"
    }
   ],
   "source": [
    "nome"
   ]
  },
  {
   "cell_type": "code",
   "execution_count": 43,
   "id": "bb877251",
   "metadata": {},
   "outputs": [
    {
     "name": "stdout",
     "output_type": "stream",
     "text": [
      "Sua idade: 15\n"
     ]
    }
   ],
   "source": [
    "idade = input('Sua idade: ')"
   ]
  },
  {
   "cell_type": "code",
   "execution_count": 44,
   "id": "b84468c4",
   "metadata": {},
   "outputs": [
    {
     "data": {
      "text/plain": [
       "'15'"
      ]
     },
     "execution_count": 44,
     "metadata": {},
     "output_type": "execute_result"
    }
   ],
   "source": [
    "idade"
   ]
  },
  {
   "cell_type": "code",
   "execution_count": 45,
   "id": "e83df8d9",
   "metadata": {
    "id": "e83df8d9",
    "outputId": "472a367d-228d-44df-8331-ccdf18b2a2a9"
   },
   "outputs": [
    {
     "data": {
      "text/plain": [
       "str"
      ]
     },
     "execution_count": 45,
     "metadata": {},
     "output_type": "execute_result"
    }
   ],
   "source": [
    "type(idade)"
   ]
  },
  {
   "cell_type": "code",
   "execution_count": 46,
   "id": "e92ce987",
   "metadata": {
    "id": "e92ce987",
    "outputId": "65b1caf3-9f07-451b-d51b-0cc60504320d"
   },
   "outputs": [
    {
     "name": "stdout",
     "output_type": "stream",
     "text": [
      "Sua Idade: 15\n"
     ]
    }
   ],
   "source": [
    "idade = int(input('Sua Idade: '))"
   ]
  },
  {
   "cell_type": "code",
   "execution_count": 47,
   "id": "e2140709",
   "metadata": {},
   "outputs": [
    {
     "data": {
      "text/plain": [
       "15"
      ]
     },
     "execution_count": 47,
     "metadata": {},
     "output_type": "execute_result"
    }
   ],
   "source": [
    "idade"
   ]
  },
  {
   "cell_type": "code",
   "execution_count": 48,
   "id": "4f89cb3c",
   "metadata": {
    "id": "4f89cb3c",
    "outputId": "a3f946cc-50b4-403e-e836-d0a7b814d4d5"
   },
   "outputs": [
    {
     "data": {
      "text/plain": [
       "int"
      ]
     },
     "execution_count": 48,
     "metadata": {},
     "output_type": "execute_result"
    }
   ],
   "source": [
    "type(idade)"
   ]
  },
  {
   "cell_type": "code",
   "execution_count": 49,
   "id": "e153275a",
   "metadata": {
    "id": "e153275a",
    "outputId": "64f1cbfb-6a94-4640-df77-f70d8cb500b0"
   },
   "outputs": [
    {
     "name": "stdout",
     "output_type": "stream",
     "text": [
      "Sua Idade: quinze\n"
     ]
    },
    {
     "ename": "ValueError",
     "evalue": "invalid literal for int() with base 10: 'quinze'",
     "output_type": "error",
     "traceback": [
      "\u001b[1;31m---------------------------------------------------------------------------\u001b[0m",
      "\u001b[1;31mValueError\u001b[0m                                Traceback (most recent call last)",
      "\u001b[1;32m~\\AppData\\Local\\Temp/ipykernel_8904/2425665940.py\u001b[0m in \u001b[0;36m<module>\u001b[1;34m\u001b[0m\n\u001b[1;32m----> 1\u001b[1;33m \u001b[0mint\u001b[0m\u001b[1;33m(\u001b[0m\u001b[0minput\u001b[0m\u001b[1;33m(\u001b[0m\u001b[1;34m'Sua Idade: '\u001b[0m\u001b[1;33m)\u001b[0m\u001b[1;33m)\u001b[0m\u001b[1;33m\u001b[0m\u001b[1;33m\u001b[0m\u001b[0m\n\u001b[0m",
      "\u001b[1;31mValueError\u001b[0m: invalid literal for int() with base 10: 'quinze'"
     ]
    }
   ],
   "source": [
    "int(input('Sua Idade: '))"
   ]
  },
  {
   "cell_type": "code",
   "execution_count": 50,
   "id": "2170734f",
   "metadata": {},
   "outputs": [
    {
     "ename": "NameError",
     "evalue": "name 'bla' is not defined",
     "output_type": "error",
     "traceback": [
      "\u001b[1;31m---------------------------------------------------------------------------\u001b[0m",
      "\u001b[1;31mNameError\u001b[0m                                 Traceback (most recent call last)",
      "\u001b[1;32m~\\AppData\\Local\\Temp/ipykernel_8904/2351278404.py\u001b[0m in \u001b[0;36m<module>\u001b[1;34m\u001b[0m\n\u001b[1;32m----> 1\u001b[1;33m \u001b[0mbla\u001b[0m\u001b[1;33m\u001b[0m\u001b[1;33m\u001b[0m\u001b[0m\n\u001b[0m",
      "\u001b[1;31mNameError\u001b[0m: name 'bla' is not defined"
     ]
    }
   ],
   "source": [
    "bla"
   ]
  },
  {
   "cell_type": "code",
   "execution_count": 51,
   "id": "2cf88f71",
   "metadata": {
    "id": "2cf88f71",
    "outputId": "c7643b7c-ab25-44ec-d16a-943fe12760fd"
   },
   "outputs": [
    {
     "name": "stdout",
     "output_type": "stream",
     "text": [
      "Digite numero 1: 3\n",
      "Digite numero 2: 5\n"
     ]
    }
   ],
   "source": [
    "num1 = input('Digite numero 1: ')\n",
    "num2 = input('Digite numero 2: ')\n"
   ]
  },
  {
   "cell_type": "code",
   "execution_count": 52,
   "id": "24a023cb",
   "metadata": {},
   "outputs": [
    {
     "data": {
      "text/plain": [
       "'35'"
      ]
     },
     "execution_count": 52,
     "metadata": {},
     "output_type": "execute_result"
    }
   ],
   "source": [
    "num1+num2"
   ]
  },
  {
   "cell_type": "markdown",
   "id": "90f76c52",
   "metadata": {
    "id": "90f76c52"
   },
   "source": [
    "A soma não foi realizada. Qual o motivo?\n",
    "\n",
    "Para reverter isso podemos usar a função do python `int()`"
   ]
  },
  {
   "cell_type": "code",
   "execution_count": 54,
   "id": "c20471b2",
   "metadata": {
    "id": "c20471b2",
    "outputId": "e101aeec-bf6f-41bd-b2c1-3c58acab6ffe"
   },
   "outputs": [
    {
     "name": "stdout",
     "output_type": "stream",
     "text": [
      "Digite numero 1: 3\n",
      "Digite numero 2: 5\n"
     ]
    }
   ],
   "source": [
    "num1 = int(input('Digite numero 1: '))\n",
    "num2 = int(input('Digite numero 2: '))"
   ]
  },
  {
   "cell_type": "code",
   "execution_count": null,
   "id": "e94ce9ad",
   "metadata": {},
   "outputs": [],
   "source": []
  },
  {
   "cell_type": "code",
   "execution_count": 55,
   "id": "edb94f9a",
   "metadata": {
    "id": "d08d1103",
    "outputId": "c9f7351d-e3f9-4841-d998-eeeb72038638"
   },
   "outputs": [
    {
     "data": {
      "text/plain": [
       "8"
      ]
     },
     "execution_count": 55,
     "metadata": {},
     "output_type": "execute_result"
    }
   ],
   "source": [
    "num1+num2"
   ]
  },
  {
   "cell_type": "code",
   "execution_count": 56,
   "id": "79ac2332",
   "metadata": {},
   "outputs": [
    {
     "name": "stdout",
     "output_type": "stream",
     "text": [
      "Digite numero 1: 3\n",
      "Digite numero 2: 5\n"
     ]
    }
   ],
   "source": [
    "#Atribuição múltipla com input\n",
    "num1, num2 = int(input('Digite numero 1: ')), int(input('Digite numero 2: '))"
   ]
  },
  {
   "cell_type": "code",
   "execution_count": 57,
   "id": "1d437dd7",
   "metadata": {},
   "outputs": [
    {
     "data": {
      "text/plain": [
       "8"
      ]
     },
     "execution_count": 57,
     "metadata": {},
     "output_type": "execute_result"
    }
   ],
   "source": [
    "num1+num2"
   ]
  },
  {
   "cell_type": "markdown",
   "id": "6446ab5a",
   "metadata": {
    "id": "6446ab5a"
   },
   "source": [
    "## Exercícios"
   ]
  },
  {
   "cell_type": "markdown",
   "id": "c32dc805",
   "metadata": {
    "id": "c32dc805"
   },
   "source": [
    "#### 1 - Imprima na tela a mensagem \"Coding Tank #825\"\n",
    "#### 2 - Peça ao usuário para informar o salário de 5 clientes. Apresente os valores\n",
    "#### 3 - Calcule a média desses salários e apresente o valor\n",
    "#### 4 - Peça ao usuário para inserir (input) um valor em metros. Transforme esse valor em centímetros e apresente na tela\n",
    "#### 5 - Peça ao usuário para inserir a temperature em farenheit. Calcule e apresente o valor em celsius\n",
    " \n",
    "$$ C = \\frac{5 * (F-32)}{9} $$\n",
    "#### 6 - Peça ao usuário que informe valor/hora e horas trabalhadas. Apresente as seguintes informações:\n",
    "    - Salário Bruto: valor/hora * horas trabalhadas\n",
    "    - Imposto de renda: Salário Bruto * 0.11\n",
    "    - INSS = Salário Bruto * 0.08\n",
    "    - Sindicato = Salário Bruto * 0.05\n",
    "    - Salário Líquido = Salário Bruto - Imposto de Renda - INSS - Sindicato"
   ]
  },
  {
   "cell_type": "markdown",
   "id": "ce2966ad",
   "metadata": {},
   "source": [
    "### Resoluções"
   ]
  },
  {
   "cell_type": "code",
   "execution_count": 67,
   "id": "3a039784",
   "metadata": {},
   "outputs": [
    {
     "name": "stdout",
     "output_type": "stream",
     "text": [
      "Conding Tank #825\n"
     ]
    }
   ],
   "source": [
    "#1\n",
    "print('Conding Tank #825')"
   ]
  },
  {
   "cell_type": "code",
   "execution_count": 68,
   "id": "3d84b487",
   "metadata": {},
   "outputs": [
    {
     "name": "stdout",
     "output_type": "stream",
     "text": [
      "Informe o salário 1: 1000\n",
      "Informe o salário 2: 2000\n",
      "Informe o salário 3: 2500\n",
      "Informe o salário 4: 3000\n",
      "Informe o salário 5: 3500\n",
      "1000.0\n",
      "2000.0\n",
      "2500.0\n",
      "3000.0\n",
      "3500.0\n"
     ]
    }
   ],
   "source": [
    "#2 - Peça ao usuário para informar o salário de 5 clientes. Apresente os valores\n",
    "salario_1 = float(input('Informe o salário 1: '))\n",
    "salario_2 = float(input('Informe o salário 2: '))\n",
    "salario_3 = float(input('Informe o salário 3: '))\n",
    "salario_4 = float(input('Informe o salário 4: '))\n",
    "salario_5 = float(input('Informe o salário 5: '))\n",
    "\n",
    "#Imprime Valores\n",
    "print(salario_1)\n",
    "print(salario_2)\n",
    "print(salario_3)\n",
    "print(salario_4)\n",
    "print(salario_5)"
   ]
  },
  {
   "cell_type": "code",
   "execution_count": 70,
   "id": "71c5f2d8",
   "metadata": {},
   "outputs": [
    {
     "name": "stdout",
     "output_type": "stream",
     "text": [
      "2400.0\n"
     ]
    }
   ],
   "source": [
    "# 3 - Calcule a média desses salários e apresente o valor\n",
    "media = (salario_1+salario_2+salario_3+salario_4+salario_5)/5\n",
    "print(media)"
   ]
  },
  {
   "cell_type": "code",
   "execution_count": 71,
   "id": "a6b91112",
   "metadata": {},
   "outputs": [
    {
     "name": "stdout",
     "output_type": "stream",
     "text": [
      "Digite o valor em metros: 1.65\n",
      "Valor em Centímetros 165.0\n"
     ]
    }
   ],
   "source": [
    "# 4 - Peça ao usuário para inserir (input) um valor em metros. Transforme esse valor em centímetros e apresente na tela\n",
    "\n",
    "val_metros = float(input('Digite o valor em metros: '))\n",
    "val_centimetros = val_metros*100\n",
    "print('Valor em Centímetros', val_centimetros)"
   ]
  },
  {
   "cell_type": "code",
   "execution_count": 74,
   "id": "e20608fb",
   "metadata": {},
   "outputs": [
    {
     "name": "stdout",
     "output_type": "stream",
     "text": [
      "Digite a temperatura em farenheit: 212\n",
      "Temperatura em Celcius:  100.0\n"
     ]
    }
   ],
   "source": [
    "# 5 - Peça ao usuário para inserir a temperature em farenheit. Calcule e apresente o valor em celsius\n",
    "# C = 5 * (F-32)/9\n",
    "farenheit = float(input('Digite a temperatura em farenheit: '))\n",
    "celcius = 5*(farenheit-32)/9\n",
    "print('Temperatura em Celcius: ', celcius)"
   ]
  },
  {
   "cell_type": "code",
   "execution_count": null,
   "id": "dc6cae12",
   "metadata": {},
   "outputs": [],
   "source": []
  },
  {
   "cell_type": "code",
   "execution_count": 75,
   "id": "849da30c",
   "metadata": {},
   "outputs": [
    {
     "name": "stdout",
     "output_type": "stream",
     "text": [
      "Digite o valor por hora trabalhada: 60\n",
      "Digite a quantidade de horas trabalhadas: 160\n",
      "\n",
      "    Salário Bruto: R$9600.0\n",
      "    Imposto de Renda: R$1056.0\n",
      "    INSS: R$768.0\n",
      "    Sindicato: R$480.0\n",
      "    Salário Líquido: R$7296.0\n",
      "\n"
     ]
    }
   ],
   "source": [
    "# 6 - Peça ao usuário que informe valor/hora e horas trabalhadas. Apresente as seguintes informações:\n",
    "#     - Salário Bruto: valor/hora * horas trabalhadas\n",
    "#     - Imposto de renda: Salário Bruto * 0.11\n",
    "#     - INSS = Salário Bruto * 0.08\n",
    "#     - Sindicato = Salário Bruto * 0.05\n",
    "#     - Salário Líquido = Salário Bruto - Imposto de Renda - INSS - Sindicato\n",
    "\n",
    "valor_hora = float(input('Digite o valor por hora trabalhada: '))\n",
    "horas_trabalhadas = float(input('Digite a quantidade de horas trabalhadas: '))\n",
    "\n",
    "salario_bruto = valor_hora*horas_trabalhadas\n",
    "imposto_renda = salario_bruto*0.11\n",
    "inss = salario_bruto*0.08\n",
    "sindicato = salario_bruto*0.05\n",
    "salario_liquido = salario_bruto-imposto_renda-inss-sindicato\n",
    "\n",
    "#dica sobre f-string\n",
    "print(\n",
    "f'''\n",
    "    Salário Bruto: R${salario_bruto}\n",
    "    Imposto de Renda: R${imposto_renda}\n",
    "    INSS: R${inss}\n",
    "    Sindicato: R${sindicato}\n",
    "    Salário Líquido: R${salario_liquido}\n",
    "''')\n",
    "\n"
   ]
  },
  {
   "cell_type": "code",
   "execution_count": 77,
   "id": "d17eafd3",
   "metadata": {},
   "outputs": [
    {
     "name": "stdout",
     "output_type": "stream",
     "text": [
      "Digite o valor por hora trabalhada: 57.82\n",
      "Digite a quantidade de horas trabalhadas: 152.5\n",
      "\n",
      "    Salário Bruto: R$8817.55\n",
      "    Imposto de Renda: R$969.93\n",
      "    INSS: R$705.40\n",
      "    Sindicato: R$440.88\n",
      "    Salário Líquido: R$6701.34\n",
      "\n"
     ]
    }
   ],
   "source": [
    "#BONUS: duas casas decimais\n",
    "# 6 - Peça ao usuário que informe valor/hora e horas trabalhadas. Apresente as seguintes informações:\n",
    "#     - Salário Bruto: valor/hora * horas trabalhadas\n",
    "#     - Imposto de renda: Salário Bruto * 0.11\n",
    "#     - INSS = Salário Bruto * 0.08\n",
    "#     - Sindicato = Salário Bruto * 0.05\n",
    "#     - Salário Líquido = Salário Bruto - Imposto de Renda - INSS - Sindicato\n",
    "\n",
    "valor_hora = float(input('Digite o valor por hora trabalhada: '))\n",
    "horas_trabalhadas = float(input('Digite a quantidade de horas trabalhadas: '))\n",
    "\n",
    "salario_bruto = valor_hora*horas_trabalhadas\n",
    "imposto_renda = salario_bruto*0.11\n",
    "inss = salario_bruto*0.08\n",
    "sindicato = salario_bruto*0.05\n",
    "salario_liquido = salario_bruto-imposto_renda-inss-sindicato\n",
    "\n",
    "#dica sobre f-string\n",
    "print(\n",
    "f'''\n",
    "    Salário Bruto: R${salario_bruto:.2f}\n",
    "    Imposto de Renda: R${imposto_renda:.2f}\n",
    "    INSS: R${inss:.2f}\n",
    "    Sindicato: R${sindicato:.2f}\n",
    "    Salário Líquido: R${salario_liquido:.2f}\n",
    "''')\n",
    "\n"
   ]
  },
  {
   "cell_type": "code",
   "execution_count": null,
   "id": "f92925e7",
   "metadata": {},
   "outputs": [],
   "source": []
  }
 ],
 "metadata": {
  "colab": {
   "collapsed_sections": [],
   "name": "Aula 0 - introdução, jupyter e variáveis.ipynb",
   "provenance": []
  },
  "kernelspec": {
   "display_name": "Python 3 (ipykernel)",
   "language": "python",
   "name": "python3"
  },
  "language_info": {
   "codemirror_mode": {
    "name": "ipython",
    "version": 3
   },
   "file_extension": ".py",
   "mimetype": "text/x-python",
   "name": "python",
   "nbconvert_exporter": "python",
   "pygments_lexer": "ipython3",
   "version": "3.9.5"
  },
  "toc": {
   "base_numbering": 1,
   "nav_menu": {},
   "number_sections": false,
   "sideBar": true,
   "skip_h1_title": false,
   "title_cell": "Table of Contents",
   "title_sidebar": "Contents",
   "toc_cell": false,
   "toc_position": {
    "height": "calc(100% - 180px)",
    "left": "10px",
    "top": "150px",
    "width": "349.091px"
   },
   "toc_section_display": true,
   "toc_window_display": false
  }
 },
 "nbformat": 4,
 "nbformat_minor": 5
}
