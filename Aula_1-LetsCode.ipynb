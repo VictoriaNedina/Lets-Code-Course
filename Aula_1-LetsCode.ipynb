{
 "cells": [
  {
   "cell_type": "markdown",
   "id": "91bc01f9",
   "metadata": {},
   "source": [
    "# Aula 02 - Estruturas Condicionais e Laços de Repetição While\n",
    "\n",
    "![](https://peopletweaker.com/hcr-blog/wp-content/uploads/2019/03/10-step-path-to-happiness.png)"
   ]
  },
  {
   "cell_type": "markdown",
   "id": "8c7033b2",
   "metadata": {},
   "source": [
    "<hr style=\"border:2px solid gray\"> </hr>"
   ]
  },
  {
   "cell_type": "markdown",
   "id": "6110b712",
   "metadata": {},
   "source": [
    "## Estruturas Sequenciais (Revisão rápida)"
   ]
  },
  {
   "cell_type": "markdown",
   "id": "4a93c864",
   "metadata": {},
   "source": [
    "Uma estrutura sequencial segue o seguinte fluxo: input -> processamento -> output. Como já vimos, podemos obter uma entrada de dados através do teclado do usuário usando a função input do python. Fazemos os processamentos necessário e apresentamos o resultado, por exemplo, com um print (output)."
   ]
  },
  {
   "cell_type": "code",
   "execution_count": 1,
   "id": "f0b27f4c",
   "metadata": {},
   "outputs": [
    {
     "name": "stdout",
     "output_type": "stream",
     "text": [
      "Digite seu nome: Andrey\n",
      "Olá  Andrey\n"
     ]
    }
   ],
   "source": [
    "nome = input('Digite seu nome: ')\n",
    "print('Olá ', nome)"
   ]
  },
  {
   "cell_type": "code",
   "execution_count": 2,
   "id": "ab4f36d0",
   "metadata": {},
   "outputs": [
    {
     "name": "stdout",
     "output_type": "stream",
     "text": [
      "Qual sua idade? 27\n"
     ]
    }
   ],
   "source": [
    "idade = int(input('Qual sua idade? '))"
   ]
  },
  {
   "cell_type": "code",
   "execution_count": 3,
   "id": "3fef336b",
   "metadata": {},
   "outputs": [
    {
     "data": {
      "text/plain": [
       "27"
      ]
     },
     "execution_count": 3,
     "metadata": {},
     "output_type": "execute_result"
    }
   ],
   "source": [
    "idade"
   ]
  },
  {
   "cell_type": "code",
   "execution_count": 4,
   "id": "104c79eb",
   "metadata": {},
   "outputs": [
    {
     "data": {
      "text/plain": [
       "int"
      ]
     },
     "execution_count": 4,
     "metadata": {},
     "output_type": "execute_result"
    }
   ],
   "source": [
    "type(idade)"
   ]
  },
  {
   "cell_type": "markdown",
   "id": "2114b884",
   "metadata": {},
   "source": [
    "<hr style=\"border:2px solid gray\"> </hr>"
   ]
  },
  {
   "cell_type": "markdown",
   "id": "7b83df78",
   "metadata": {},
   "source": [
    "## Estruturas condicionais"
   ]
  },
  {
   "cell_type": "markdown",
   "id": "a315c0d7",
   "metadata": {},
   "source": [
    "<img src=\"imgs/fluxograma.png\" width=\"350\"/>"
   ]
  },
  {
   "cell_type": "markdown",
   "id": "be8aa360",
   "metadata": {},
   "source": [
    "Vamos supor que precisamos construir o algoritmo acima. Observe que em determinado momento devemos fazer algumas perguntas, como \"Possui dívida?\" e  \"Renda abaixo de R$1200?\". Com a estrutura sequencial que estávamos utilizando anteriormente isso se torna impraticável. Precisamos então de encontrar alguma maneira de realizar verificações em nossos algoritmos."
   ]
  },
  {
   "cell_type": "markdown",
   "id": "1438a583",
   "metadata": {},
   "source": [
    "### Operadores de comparação"
   ]
  },
  {
   "cell_type": "markdown",
   "id": "76b918cd",
   "metadata": {},
   "source": [
    "No python, e também na maioria das linguagens de programação, existem os **operadores de comparação**, que nos permite fazer verificações. Esses operadores são:\n",
    "- Maior que: >\n",
    "- Maior ou igual: >=\n",
    "- Menor que: <\n",
    "- Menor ou igual: <=\n",
    "- Igual: ==\n",
    "- Diferente: !=\n",
    "\n",
    "Com a utilização desses operadores podemos \"simular\" perguntas dentro dos nossos scripts, como essas acima: \"Renda abaixo de R$1200?\". **O resultado de uma verificação sempre irá nos retornar um valor booleano, True (Verdadeiro) ou False (Falso)**. Vamos ver um exemplo"
   ]
  },
  {
   "cell_type": "code",
   "execution_count": 5,
   "id": "bf2f789b",
   "metadata": {},
   "outputs": [],
   "source": [
    "renda = 1500"
   ]
  },
  {
   "cell_type": "code",
   "execution_count": 6,
   "id": "a3d33b2a",
   "metadata": {},
   "outputs": [
    {
     "data": {
      "text/plain": [
       "False"
      ]
     },
     "execution_count": 6,
     "metadata": {},
     "output_type": "execute_result"
    }
   ],
   "source": [
    "renda<1200"
   ]
  },
  {
   "cell_type": "markdown",
   "id": "7ae6969f",
   "metadata": {},
   "source": [
    "No jupyter notebook  os operadores booleanos são destacados com a cor roxa."
   ]
  },
  {
   "cell_type": "code",
   "execution_count": 7,
   "id": "b3980eca",
   "metadata": {},
   "outputs": [
    {
     "data": {
      "text/plain": [
       "True"
      ]
     },
     "execution_count": 7,
     "metadata": {},
     "output_type": "execute_result"
    }
   ],
   "source": [
    "renda>1200"
   ]
  },
  {
   "cell_type": "code",
   "execution_count": 8,
   "id": "ed670c87",
   "metadata": {},
   "outputs": [
    {
     "data": {
      "text/plain": [
       "True"
      ]
     },
     "execution_count": 8,
     "metadata": {},
     "output_type": "execute_result"
    }
   ],
   "source": [
    "renda==1500"
   ]
  },
  {
   "cell_type": "code",
   "execution_count": 9,
   "id": "1d635848",
   "metadata": {},
   "outputs": [
    {
     "data": {
      "text/plain": [
       "False"
      ]
     },
     "execution_count": 9,
     "metadata": {},
     "output_type": "execute_result"
    }
   ],
   "source": [
    "renda==1600"
   ]
  },
  {
   "cell_type": "code",
   "execution_count": 10,
   "id": "89b52a69",
   "metadata": {},
   "outputs": [
    {
     "data": {
      "text/plain": [
       "False"
      ]
     },
     "execution_count": 10,
     "metadata": {},
     "output_type": "execute_result"
    }
   ],
   "source": [
    "renda!=1500"
   ]
  },
  {
   "cell_type": "code",
   "execution_count": 11,
   "id": "0a315f0d",
   "metadata": {},
   "outputs": [
    {
     "data": {
      "text/plain": [
       "True"
      ]
     },
     "execution_count": 11,
     "metadata": {},
     "output_type": "execute_result"
    }
   ],
   "source": [
    "renda >= 1500"
   ]
  },
  {
   "cell_type": "code",
   "execution_count": 12,
   "id": "3cbaad3e",
   "metadata": {},
   "outputs": [
    {
     "data": {
      "text/plain": [
       "False"
      ]
     },
     "execution_count": 12,
     "metadata": {},
     "output_type": "execute_result"
    }
   ],
   "source": [
    "1200>1500"
   ]
  },
  {
   "cell_type": "markdown",
   "id": "49a498c0",
   "metadata": {},
   "source": [
    "Comparando entre duas variáveis. Como uma variável faz referência a algum valor, podemos comparar usando variáveis"
   ]
  },
  {
   "cell_type": "code",
   "execution_count": 13,
   "id": "92eaf648",
   "metadata": {},
   "outputs": [],
   "source": [
    "renda_minima = 1200"
   ]
  },
  {
   "cell_type": "code",
   "execution_count": 14,
   "id": "e9fb9d4b",
   "metadata": {},
   "outputs": [
    {
     "data": {
      "text/plain": [
       "True"
      ]
     },
     "execution_count": 14,
     "metadata": {},
     "output_type": "execute_result"
    }
   ],
   "source": [
    "renda >= renda_minima"
   ]
  },
  {
   "cell_type": "markdown",
   "id": "0e55db0f",
   "metadata": {},
   "source": [
    "Podemos comparar até mesmo Texto!"
   ]
  },
  {
   "cell_type": "code",
   "execution_count": 15,
   "id": "1605dcb3",
   "metadata": {},
   "outputs": [],
   "source": [
    "tipo_servico = 'emprestimo'"
   ]
  },
  {
   "cell_type": "code",
   "execution_count": 16,
   "id": "3fa5312e",
   "metadata": {},
   "outputs": [
    {
     "data": {
      "text/plain": [
       "True"
      ]
     },
     "execution_count": 16,
     "metadata": {},
     "output_type": "execute_result"
    }
   ],
   "source": [
    "tipo_servico == 'emprestimo'"
   ]
  },
  {
   "cell_type": "code",
   "execution_count": 17,
   "id": "823e0127",
   "metadata": {},
   "outputs": [
    {
     "data": {
      "text/plain": [
       "False"
      ]
     },
     "execution_count": 17,
     "metadata": {},
     "output_type": "execute_result"
    }
   ],
   "source": [
    "tipo_servico=='consorcio'"
   ]
  },
  {
   "cell_type": "markdown",
   "id": "5cac0c3a",
   "metadata": {},
   "source": [
    "Os operadores >, >=, <, <= atuam comparando **ordem alfabética** quando aplicados a strings."
   ]
  },
  {
   "cell_type": "code",
   "execution_count": 18,
   "id": "50889b62",
   "metadata": {},
   "outputs": [
    {
     "data": {
      "text/plain": [
       "False"
      ]
     },
     "execution_count": 18,
     "metadata": {},
     "output_type": "execute_result"
    }
   ],
   "source": [
    "'andrey'>'joao'"
   ]
  },
  {
   "cell_type": "code",
   "execution_count": 21,
   "id": "b4eae276",
   "metadata": {},
   "outputs": [
    {
     "data": {
      "text/plain": [
       "False"
      ]
     },
     "execution_count": 21,
     "metadata": {},
     "output_type": "execute_result"
    }
   ],
   "source": [
    "'A'>'a'"
   ]
  },
  {
   "cell_type": "code",
   "execution_count": 24,
   "id": "8b61db40",
   "metadata": {
    "run_control": {
     "marked": false
    }
   },
   "outputs": [
    {
     "data": {
      "text/plain": [
       "2420038299184"
      ]
     },
     "execution_count": 24,
     "metadata": {},
     "output_type": "execute_result"
    }
   ],
   "source": [
    "id(renda)"
   ]
  },
  {
   "cell_type": "code",
   "execution_count": 25,
   "id": "3252c101",
   "metadata": {},
   "outputs": [
    {
     "data": {
      "text/plain": [
       "2420038299184"
      ]
     },
     "execution_count": 25,
     "metadata": {},
     "output_type": "execute_result"
    }
   ],
   "source": [
    "renda2=renda\n",
    "id(renda2)"
   ]
  },
  {
   "cell_type": "code",
   "execution_count": 27,
   "id": "07cf2aa0",
   "metadata": {},
   "outputs": [],
   "source": [
    "id_renda2 = id(renda2)"
   ]
  },
  {
   "cell_type": "code",
   "execution_count": 29,
   "id": "33329f2c",
   "metadata": {},
   "outputs": [
    {
     "data": {
      "text/plain": [
       "int"
      ]
     },
     "execution_count": 29,
     "metadata": {},
     "output_type": "execute_result"
    }
   ],
   "source": [
    "type(id_renda2)"
   ]
  },
  {
   "cell_type": "code",
   "execution_count": 26,
   "id": "b18e57ff",
   "metadata": {},
   "outputs": [
    {
     "data": {
      "text/plain": [
       "1500"
      ]
     },
     "execution_count": 26,
     "metadata": {},
     "output_type": "execute_result"
    }
   ],
   "source": [
    "renda = 1700\n",
    "renda2"
   ]
  },
  {
   "cell_type": "markdown",
   "id": "d652e371",
   "metadata": {},
   "source": [
    "Beleza, mas como isso é feito? O computador não entende apenas números? Exato! Para que seja possível realizar esse tipo de operação, nossa máquina utiliza a conhecida **TABELA ASCII**. A tabela ASCII faz o mapeamento de cada caractere a um número inteiro positivo, dessa maneira permitindo vários tipos de operações com texto."
   ]
  },
  {
   "cell_type": "markdown",
   "id": "befb155d",
   "metadata": {},
   "source": [
    "O método **`ord()` nos apresente o seu correspondente numérico da tabela**"
   ]
  },
  {
   "cell_type": "code",
   "execution_count": 20,
   "id": "7ac1438d",
   "metadata": {},
   "outputs": [
    {
     "name": "stdout",
     "output_type": "stream",
     "text": [
      "97\n",
      "98\n"
     ]
    }
   ],
   "source": [
    "print(ord('a'))\n",
    "print(ord('b'))"
   ]
  },
  {
   "cell_type": "markdown",
   "id": "41cc3163",
   "metadata": {},
   "source": [
    "O métod **`chr()` apresenta o caractere correspondente ao valor numérico**"
   ]
  },
  {
   "cell_type": "code",
   "execution_count": 31,
   "id": "8140cea4",
   "metadata": {},
   "outputs": [
    {
     "name": "stdout",
     "output_type": "stream",
     "text": [
      "a\n"
     ]
    }
   ],
   "source": [
    "print(chr(97))"
   ]
  },
  {
   "cell_type": "markdown",
   "id": "df8f905b",
   "metadata": {},
   "source": [
    "Comparações entre dois tipos de valores numéricos também é permitido"
   ]
  },
  {
   "cell_type": "code",
   "execution_count": 32,
   "id": "c9b8276b",
   "metadata": {
    "run_control": {
     "marked": false
    }
   },
   "outputs": [
    {
     "data": {
      "text/plain": [
       "True"
      ]
     },
     "execution_count": 32,
     "metadata": {},
     "output_type": "execute_result"
    }
   ],
   "source": [
    "num1=5\n",
    "num2=5.1\n",
    "num2>num1"
   ]
  },
  {
   "cell_type": "code",
   "execution_count": 33,
   "id": "fa53c1af",
   "metadata": {},
   "outputs": [
    {
     "name": "stdout",
     "output_type": "stream",
     "text": [
      "False\n",
      "True\n"
     ]
    }
   ],
   "source": [
    "print(num1>num2)\n",
    "print(num1!=num2)"
   ]
  },
  {
   "cell_type": "code",
   "execution_count": null,
   "id": "86bad9d2",
   "metadata": {},
   "outputs": [],
   "source": []
  },
  {
   "cell_type": "code",
   "execution_count": null,
   "id": "f4752688",
   "metadata": {},
   "outputs": [],
   "source": []
  },
  {
   "cell_type": "markdown",
   "id": "1d1c6825",
   "metadata": {},
   "source": [
    "**Já com tipos diferentes de dados, usamos apenas == ou !=**"
   ]
  },
  {
   "cell_type": "code",
   "execution_count": 34,
   "id": "fd3ccd2a",
   "metadata": {},
   "outputs": [],
   "source": [
    "texto = 'texto qqr'\n",
    "num=5"
   ]
  },
  {
   "cell_type": "code",
   "execution_count": 35,
   "id": "58b37768",
   "metadata": {},
   "outputs": [
    {
     "data": {
      "text/plain": [
       "True"
      ]
     },
     "execution_count": 35,
     "metadata": {},
     "output_type": "execute_result"
    }
   ],
   "source": [
    "texto!=num"
   ]
  },
  {
   "cell_type": "code",
   "execution_count": 36,
   "id": "d242d5ce",
   "metadata": {},
   "outputs": [
    {
     "data": {
      "text/plain": [
       "False"
      ]
     },
     "execution_count": 36,
     "metadata": {},
     "output_type": "execute_result"
    }
   ],
   "source": [
    "texto==num"
   ]
  },
  {
   "cell_type": "code",
   "execution_count": 37,
   "id": "0551038c",
   "metadata": {},
   "outputs": [
    {
     "ename": "TypeError",
     "evalue": "'<=' not supported between instances of 'str' and 'int'",
     "output_type": "error",
     "traceback": [
      "\u001b[1;31m---------------------------------------------------------------------------\u001b[0m",
      "\u001b[1;31mTypeError\u001b[0m                                 Traceback (most recent call last)",
      "\u001b[1;32m~\\AppData\\Local\\Temp/ipykernel_6928/3150746638.py\u001b[0m in \u001b[0;36m<module>\u001b[1;34m\u001b[0m\n\u001b[1;32m----> 1\u001b[1;33m \u001b[0mtexto\u001b[0m\u001b[1;33m<=\u001b[0m\u001b[0mnum\u001b[0m\u001b[1;33m\u001b[0m\u001b[1;33m\u001b[0m\u001b[0m\n\u001b[0m",
      "\u001b[1;31mTypeError\u001b[0m: '<=' not supported between instances of 'str' and 'int'"
     ]
    }
   ],
   "source": [
    "texto<=num"
   ]
  },
  {
   "cell_type": "code",
   "execution_count": null,
   "id": "bac78a37",
   "metadata": {},
   "outputs": [],
   "source": []
  },
  {
   "cell_type": "markdown",
   "id": "53fcd579",
   "metadata": {},
   "source": [
    "O python não permite esse tipo de operação para nos forçar a escrever códigos que sejam consistentes"
   ]
  },
  {
   "cell_type": "markdown",
   "id": "cf7b71ae",
   "metadata": {},
   "source": [
    "### Valores booleanos"
   ]
  },
  {
   "cell_type": "markdown",
   "id": "f2ed7d4b",
   "metadata": {},
   "source": [
    "Uma outra característica do python é que podemos **armazenar os valores booleanos em uma variável**"
   ]
  },
  {
   "cell_type": "code",
   "execution_count": 38,
   "id": "7266e18e",
   "metadata": {},
   "outputs": [],
   "source": [
    "var1 = True\n",
    "var2 = False"
   ]
  },
  {
   "cell_type": "code",
   "execution_count": 39,
   "id": "e23e778a",
   "metadata": {},
   "outputs": [
    {
     "name": "stdout",
     "output_type": "stream",
     "text": [
      "True\n",
      "False\n"
     ]
    }
   ],
   "source": [
    "print(var1)\n",
    "print(var2)"
   ]
  },
  {
   "cell_type": "code",
   "execution_count": 40,
   "id": "2a5728be",
   "metadata": {},
   "outputs": [
    {
     "data": {
      "text/plain": [
       "False"
      ]
     },
     "execution_count": 40,
     "metadata": {},
     "output_type": "execute_result"
    }
   ],
   "source": [
    "var1==var2"
   ]
  },
  {
   "cell_type": "code",
   "execution_count": 41,
   "id": "4a2d4194",
   "metadata": {},
   "outputs": [
    {
     "data": {
      "text/plain": [
       "True"
      ]
     },
     "execution_count": 41,
     "metadata": {},
     "output_type": "execute_result"
    }
   ],
   "source": [
    "True==1"
   ]
  },
  {
   "cell_type": "code",
   "execution_count": 42,
   "id": "241b98cf",
   "metadata": {},
   "outputs": [
    {
     "data": {
      "text/plain": [
       "1"
      ]
     },
     "execution_count": 42,
     "metadata": {},
     "output_type": "execute_result"
    }
   ],
   "source": [
    "int(True)"
   ]
  },
  {
   "cell_type": "code",
   "execution_count": 45,
   "id": "f7abaf2d",
   "metadata": {},
   "outputs": [
    {
     "data": {
      "text/plain": [
       "True"
      ]
     },
     "execution_count": 45,
     "metadata": {},
     "output_type": "execute_result"
    }
   ],
   "source": [
    "bool(-1)"
   ]
  },
  {
   "cell_type": "markdown",
   "id": "09c1e39b",
   "metadata": {},
   "source": [
    "Podemos então **fazer uma verificação e armazenar o resultado da mesma em uma variável**"
   ]
  },
  {
   "cell_type": "markdown",
   "id": "b60c297a",
   "metadata": {},
   "source": [
    "Vamos fazer uma simulação para conceder um empréstimo"
   ]
  },
  {
   "cell_type": "markdown",
   "id": "bd435f2f",
   "metadata": {},
   "source": [
    "**Exemplo usando input**"
   ]
  },
  {
   "cell_type": "code",
   "execution_count": 46,
   "id": "b02efd2f",
   "metadata": {},
   "outputs": [],
   "source": [
    "nome = 'Fulano'\n",
    "valor_emprestimo = 10_000\n",
    "renda = 2_500"
   ]
  },
  {
   "cell_type": "code",
   "execution_count": 48,
   "id": "30d43ca0",
   "metadata": {},
   "outputs": [],
   "source": [
    "conceder = renda>valor_emprestimo*0.3"
   ]
  },
  {
   "cell_type": "code",
   "execution_count": 49,
   "id": "43f67565",
   "metadata": {},
   "outputs": [
    {
     "name": "stdout",
     "output_type": "stream",
     "text": [
      "\n",
      "    Cliente Fulano solicitou um empréstimo de 10000. Conceder? False\n",
      "\n"
     ]
    }
   ],
   "source": [
    "print(f'''\n",
    "    Cliente {nome} solicitou um empréstimo de {valor_emprestimo}. Conceder? {conceder}\n",
    "''')"
   ]
  },
  {
   "cell_type": "markdown",
   "id": "4d60f3fe",
   "metadata": {},
   "source": [
    "### Operadores lógicos"
   ]
  },
  {
   "cell_type": "markdown",
   "id": "a0e947fe",
   "metadata": {},
   "source": [
    "Além dos operadores lógicos de comparação, também temos os **operadores lógicos de conjunção**, que são utilizados pra fazer uma **combinação** entre comparações. \n",
    "\n",
    "Os operadores de conjunção são: **and** e **or**, e eles seguem a seguinte regra:\n",
    "\n",
    "- **and** só é True se **ambas** as comparações forem True:\n",
    "    - False and True resulta em \"False\"\n",
    "    - False and False resulta em \"False\"\n",
    "    - True and True resulta em \"True\"\n",
    "- **or** é True se **pelo menos uma** das comparações for True:\n",
    "    - False or True resulta em \"True\"\n",
    "    - True or True resulta em \"True\"\n",
    "    - False or False resulta em \"False\"\n",
    "\n",
    "Os operadores de conjunção são destacados em **verde escuro** no Jupyter"
   ]
  },
  {
   "cell_type": "code",
   "execution_count": 51,
   "id": "253af6e1",
   "metadata": {},
   "outputs": [
    {
     "name": "stdout",
     "output_type": "stream",
     "text": [
      "True\n",
      "False\n"
     ]
    }
   ],
   "source": [
    "print(True and True)\n",
    "print(True and False)"
   ]
  },
  {
   "cell_type": "markdown",
   "id": "33851f21",
   "metadata": {},
   "source": [
    "Podemos fazer verificações mais complexas"
   ]
  },
  {
   "cell_type": "code",
   "execution_count": 52,
   "id": "4b0d5c87",
   "metadata": {},
   "outputs": [
    {
     "data": {
      "text/plain": [
       "True"
      ]
     },
     "execution_count": 52,
     "metadata": {},
     "output_type": "execute_result"
    }
   ],
   "source": [
    "10<100 and 3>1\n",
    "#TRUE AND TRUE = TRUE"
   ]
  },
  {
   "cell_type": "code",
   "execution_count": 55,
   "id": "c548168b",
   "metadata": {},
   "outputs": [
    {
     "data": {
      "text/plain": [
       "True"
      ]
     },
     "execution_count": 55,
     "metadata": {},
     "output_type": "execute_result"
    }
   ],
   "source": [
    "2>3 or 3>1\n",
    "#FALSE OR TRUE = TRUE"
   ]
  },
  {
   "cell_type": "code",
   "execution_count": 56,
   "id": "23328a36",
   "metadata": {},
   "outputs": [
    {
     "data": {
      "text/plain": [
       "True"
      ]
     },
     "execution_count": 56,
     "metadata": {},
     "output_type": "execute_result"
    }
   ],
   "source": [
    "(10!=2) or (10<2)"
   ]
  },
  {
   "cell_type": "code",
   "execution_count": null,
   "id": "d3453c84",
   "metadata": {},
   "outputs": [],
   "source": [
    "(10!=2) or (10<2) "
   ]
  },
  {
   "cell_type": "code",
   "execution_count": null,
   "id": "c72f45a0",
   "metadata": {},
   "outputs": [],
   "source": []
  },
  {
   "cell_type": "code",
   "execution_count": null,
   "id": "12fdd07e",
   "metadata": {},
   "outputs": [],
   "source": []
  },
  {
   "cell_type": "code",
   "execution_count": null,
   "id": "f2fe0bfc",
   "metadata": {},
   "outputs": [],
   "source": []
  },
  {
   "cell_type": "markdown",
   "id": "10e15c17",
   "metadata": {},
   "source": [
    "Se tivermos mais de duas comparações pra fazer conjunção, é melhor usarmos parênteses.\n",
    "\n",
    "Primeiro a conjunção entre parênteses é feita, e depois o resultado é usado pra avaliar a conjunção total"
   ]
  },
  {
   "cell_type": "code",
   "execution_count": 59,
   "id": "559fdbbd",
   "metadata": {},
   "outputs": [
    {
     "data": {
      "text/plain": [
       "True"
      ]
     },
     "execution_count": 59,
     "metadata": {},
     "output_type": "execute_result"
    }
   ],
   "source": [
    "(True and False) or True"
   ]
  },
  {
   "cell_type": "code",
   "execution_count": 60,
   "id": "3b279fe6",
   "metadata": {},
   "outputs": [
    {
     "data": {
      "text/plain": [
       "False"
      ]
     },
     "execution_count": 60,
     "metadata": {},
     "output_type": "execute_result"
    }
   ],
   "source": [
    "False and (False or True)"
   ]
  },
  {
   "cell_type": "code",
   "execution_count": 61,
   "id": "b7cd61f1",
   "metadata": {},
   "outputs": [
    {
     "data": {
      "text/plain": [
       "True"
      ]
     },
     "execution_count": 61,
     "metadata": {},
     "output_type": "execute_result"
    }
   ],
   "source": [
    "not(False and (False or True))"
   ]
  },
  {
   "cell_type": "code",
   "execution_count": 64,
   "id": "2c7f801a",
   "metadata": {},
   "outputs": [
    {
     "data": {
      "text/plain": [
       "True"
      ]
     },
     "execution_count": 64,
     "metadata": {},
     "output_type": "execute_result"
    }
   ],
   "source": [
    "True | False # Também usado como OR"
   ]
  },
  {
   "cell_type": "code",
   "execution_count": 65,
   "id": "f0f5a6da",
   "metadata": {},
   "outputs": [
    {
     "data": {
      "text/plain": [
       "False"
      ]
     },
     "execution_count": 65,
     "metadata": {},
     "output_type": "execute_result"
    }
   ],
   "source": [
    "True & False # Também usado como AND"
   ]
  },
  {
   "cell_type": "markdown",
   "id": "7d64ad60",
   "metadata": {},
   "source": [
    "**Exercício**: Dado duas entradas inputs, uma de usuario e uma de senha, checar se o usuário e senha dados sejam respectivamente \"admin\" e \"senha123\""
   ]
  },
  {
   "cell_type": "code",
   "execution_count": 75,
   "id": "2e455349",
   "metadata": {},
   "outputs": [
    {
     "name": "stdout",
     "output_type": "stream",
     "text": [
      "Digite o login: admin\n",
      "Digite a senha: senha123\n",
      "True True\n"
     ]
    }
   ],
   "source": [
    "usuario = input('Digite o login: ')\n",
    "senha = input('Digite a senha: ')\n",
    "print(usuario=='admin', senha=='senha123')"
   ]
  },
  {
   "cell_type": "markdown",
   "id": "670e93ce",
   "metadata": {},
   "source": [
    "### Estruturas condicionais em Python\n",
    "\n",
    "O principal uso dos operadores lógicos é em **estruturas condicionais**\n",
    "\n",
    "Esse tipo de estrutura é utilizada para tratar casos diferentes dentro do código\n",
    "\n",
    "Os **operadores condicionais** são: **if**, **elif** e **else**\n",
    "\n",
    "- **if**: Se uma condição for verdadeira, faça determinada operação.\n",
    "- **elif**: Se a condição acima for falsa, avalie uma próxima condição, e se essa for verdadeira, faça outra operação\n",
    "- **else**: Se nenhuma das condições acima for verdadeira, faça outra coisa\n",
    "\n",
    "O uso de elif e else **não** é obrigatório! (Mas é muitas vezes conveniente!)\n",
    "\n",
    "As estruturas de repetição aparecem em **blocos identados (com \"tab\") após dois pontos**, na seguinte estrutura:\n",
    "\n",
    "```python\n",
    "if (condicao é True):\n",
    "    operacoes\n",
    "elif (condicao é True):\n",
    "    operacoes\n",
    "else:\n",
    "    operacoes\n",
    "```\n",
    "\n",
    "- Se alguma condição no if ou elif for verdadeira, todo o resto é ignorado!\n",
    "- Por isso, as condições no if e os diferentes elifs sempre são **excludentes**\n",
    "\n",
    "Os operadores condicionais são destacados em **verde escuro** no Jupyter\n"
   ]
  },
  {
   "cell_type": "code",
   "execution_count": null,
   "id": "fd33de93",
   "metadata": {},
   "outputs": [],
   "source": []
  },
  {
   "cell_type": "markdown",
   "id": "56f4b8be",
   "metadata": {},
   "source": [
    "**Exemplo**: imagine que uma escola tem o seguinte critério de avaliação baseado na média do aluno:\n",
    "\n",
    "- se a média for maior ou igual a 6, o aluno é aprovado;\n",
    "- caso contrário, o aluno é reptrovado\n"
   ]
  },
  {
   "cell_type": "code",
   "execution_count": 76,
   "id": "987ca72c",
   "metadata": {
    "scrolled": true
   },
   "outputs": [
    {
     "data": {
      "text/plain": [
       "True"
      ]
     },
     "execution_count": 76,
     "metadata": {},
     "output_type": "execute_result"
    }
   ],
   "source": [
    "media = 7\n",
    "media >= 6"
   ]
  },
  {
   "cell_type": "code",
   "execution_count": 77,
   "id": "13a99b1a",
   "metadata": {},
   "outputs": [
    {
     "name": "stdout",
     "output_type": "stream",
     "text": [
      "Aprovado\n"
     ]
    }
   ],
   "source": [
    "if media>=6:\n",
    "    print('Aprovado')"
   ]
  },
  {
   "cell_type": "markdown",
   "id": "5e95cae9",
   "metadata": {},
   "source": [
    "**O que está fora do if será executado independente do valor da condição**"
   ]
  },
  {
   "cell_type": "code",
   "execution_count": 81,
   "id": "f44abe69",
   "metadata": {},
   "outputs": [
    {
     "name": "stdout",
     "output_type": "stream",
     "text": [
      "Fora do if\n"
     ]
    }
   ],
   "source": [
    "media = 5\n",
    "if media>=6:\n",
    "    print(f'Nota: {media}')\n",
    "    print('Aprovado')\n",
    "\n",
    "print('Fora do if')"
   ]
  },
  {
   "cell_type": "code",
   "execution_count": 82,
   "id": "ca3a8ecb",
   "metadata": {
    "run_control": {
     "marked": false
    }
   },
   "outputs": [
    {
     "name": "stdout",
     "output_type": "stream",
     "text": [
      "Aprovado\n"
     ]
    }
   ],
   "source": [
    "#if desnecessario\n",
    "media = 7\n",
    "if media>=6:\n",
    "    print('Aprovado')\n",
    "if media<6:\n",
    "    print('Reprovado')"
   ]
  },
  {
   "cell_type": "code",
   "execution_count": 83,
   "id": "c06c789b",
   "metadata": {},
   "outputs": [
    {
     "name": "stdout",
     "output_type": "stream",
     "text": [
      "Aprovado\n"
     ]
    }
   ],
   "source": [
    "media = 7\n",
    "if media>=6:\n",
    "    print('Aprovado')\n",
    "elif media<6:\n",
    "    print('Reprovado')"
   ]
  },
  {
   "cell_type": "code",
   "execution_count": 86,
   "id": "310008b7",
   "metadata": {},
   "outputs": [
    {
     "name": "stdout",
     "output_type": "stream",
     "text": [
      "OK\n"
     ]
    }
   ],
   "source": [
    "if True:\n",
    "    print('OK')"
   ]
  },
  {
   "cell_type": "code",
   "execution_count": null,
   "id": "5c5df737",
   "metadata": {
    "run_control": {
     "marked": false
    }
   },
   "outputs": [],
   "source": []
  },
  {
   "cell_type": "markdown",
   "id": "ded7bcba",
   "metadata": {},
   "source": [
    "Também podemos usar o `else`, embora não seja necessário, dado que a condição `media >= 5` é única"
   ]
  },
  {
   "cell_type": "code",
   "execution_count": 85,
   "id": "f9fab1dd",
   "metadata": {},
   "outputs": [
    {
     "name": "stdout",
     "output_type": "stream",
     "text": [
      "Reprovado\n"
     ]
    }
   ],
   "source": [
    "media = 5\n",
    "if media>=6:\n",
    "    print('Aprovado')\n",
    "else:\n",
    "    print('Reprovado')"
   ]
  },
  {
   "cell_type": "markdown",
   "id": "3bb394d2",
   "metadata": {},
   "source": [
    "### Exercício\n",
    "\n",
    "3 - Informe o salário de um funcionário. Calcule o reajuste do salário de acordo com as condições:\n",
    "   - Se o salário for <= 1200, aumenta 20%\n",
    "   - Se o salário for <= 1800, aumenta 15%\n",
    "   - Se o salário for <= 2500, aumenta 10% \n",
    "   - Se o salário for > 2500, aumenta 5%\n",
    "   \n",
    "   \n",
    "   Por fim, apresente:\n",
    "   - O valor original do salário\n",
    "   - A porcentagem de reajuste\n",
    "   - O valor de reajuste\n",
    "   - O salário atualizado"
   ]
  },
  {
   "cell_type": "code",
   "execution_count": 90,
   "id": "f37c634f",
   "metadata": {},
   "outputs": [
    {
     "name": "stdout",
     "output_type": "stream",
     "text": [
      "Digite o salário do funcionário: 10_000\n",
      "Novo salário: 10500.0\n"
     ]
    }
   ],
   "source": [
    "salario = float(input('Digite o salário do funcionário: '))\n",
    "\n",
    "if salario<=1200:\n",
    "    novo_salario = salario+(salario*0.2) \n",
    "elif salario<=1800:\n",
    "    novo_salario = salario+(salario*0.15)\n",
    "elif salario<=2500:\n",
    "    novo_salario = salario+(salario*0.1)\n",
    "else:\n",
    "    novo_salario = salario+(salario*0.05)\n",
    "\n",
    "print(f'Novo salário: {novo_salario}')"
   ]
  },
  {
   "cell_type": "code",
   "execution_count": 91,
   "id": "714932ee",
   "metadata": {},
   "outputs": [
    {
     "data": {
      "text/plain": [
       "10500.0"
      ]
     },
     "execution_count": 91,
     "metadata": {},
     "output_type": "execute_result"
    }
   ],
   "source": [
    "novo_salario"
   ]
  },
  {
   "cell_type": "code",
   "execution_count": 96,
   "id": "e073bfbf",
   "metadata": {
    "run_control": {
     "marked": false
    }
   },
   "outputs": [
    {
     "name": "stdout",
     "output_type": "stream",
     "text": [
      "Percentual: -20%\n"
     ]
    }
   ],
   "source": [
    "perc = -0.2\n",
    "print(f'Percentual: {perc:+.0%}')"
   ]
  },
  {
   "cell_type": "markdown",
   "id": "a64a58ba",
   "metadata": {},
   "source": [
    "## Laços de repetição (while)"
   ]
  },
  {
   "cell_type": "markdown",
   "id": "a864b82c",
   "metadata": {},
   "source": [
    "Uma das utilidades de linguagens de programação é a de automatizar tarefas que são repetitivas.\n",
    "\n",
    "Mas, pra isso ser viável, seria bom se tivéssemos uma estrutura para **repetir comandos**, não é mesmo?\n",
    "\n",
    "Imagine que eu queira exibir na tela \"Olá, mundo!\" 5 vezes. Podemos fazer:"
   ]
  },
  {
   "cell_type": "code",
   "execution_count": 98,
   "id": "3c51d16a",
   "metadata": {},
   "outputs": [
    {
     "name": "stdout",
     "output_type": "stream",
     "text": [
      "Ola Mundo!\n",
      "Ola Mundo!\n",
      "Ola Mundo!\n",
      "Ola Mundo!\n",
      "Ola Mundo!\n"
     ]
    }
   ],
   "source": [
    "print('Ola Mundo!')\n",
    "print('Ola Mundo!')\n",
    "print('Ola Mundo!')\n",
    "print('Ola Mundo!')\n",
    "print('Ola Mundo!')"
   ]
  },
  {
   "cell_type": "code",
   "execution_count": null,
   "id": "4514f5bb",
   "metadata": {},
   "outputs": [],
   "source": []
  },
  {
   "cell_type": "code",
   "execution_count": null,
   "id": "5a6e7c26",
   "metadata": {},
   "outputs": [],
   "source": []
  },
  {
   "cell_type": "code",
   "execution_count": null,
   "id": "90141081",
   "metadata": {},
   "outputs": [],
   "source": []
  },
  {
   "cell_type": "markdown",
   "id": "d42b8294",
   "metadata": {},
   "source": [
    "Mas, e se eu quiser exibir essa mensagem 1000 vezes? Ou 1 milhão de vezes? Não é ideal escrevermos o mesmo pedaço de código tantas vezes, né?\n",
    "\n",
    "Para isso, existem os **laços de repetição**, que permitem repetir pedaços de código quantas vezes desejarmos!\n",
    "\n",
    "O primeiro laço que vamos ver é o **while**. Este laço tem a seguinte estrutura:\n",
    "\n",
    "```python\n",
    "while (condicao é True):\n",
    "    operacao_repetida\n",
    "```\n",
    "\n",
    "Ou seja, o que tá no bloco do while é repetido **enquanto a condição for verdadeira**"
   ]
  },
  {
   "cell_type": "markdown",
   "id": "c46edbaa",
   "metadata": {},
   "source": [
    "Isso pode levar a **loops infinitos**"
   ]
  },
  {
   "cell_type": "code",
   "execution_count": null,
   "id": "f64b66fc",
   "metadata": {},
   "outputs": [],
   "source": [
    "#CUIDADO\n",
    "while (2==2):\n",
    "    print('Olá Mundo!')"
   ]
  },
  {
   "cell_type": "code",
   "execution_count": null,
   "id": "106a7cd7",
   "metadata": {},
   "outputs": [],
   "source": [
    "#CUIDADO\n",
    "while True:\n",
    "    print('Olá Mundo!')\n"
   ]
  },
  {
   "cell_type": "markdown",
   "id": "329c9294",
   "metadata": {},
   "source": [
    "Para que loops infinitos não aconteçam, temos que fazer uma **atualização da condição** a cada iteração do laço!\n",
    "\n",
    "Isso é, temos que **atualizar** a variavel que contabiliza as repetições no loop"
   ]
  },
  {
   "cell_type": "markdown",
   "id": "28f23998",
   "metadata": {},
   "source": [
    "Assim, o que fazemos é **definir a condição do while em termos de uma variável que tenha seu valor atualizado!**\n",
    "\n",
    "Para isso, é comum nos referirmos à variàvel da condição como **variável contadora**.\n",
    "\n",
    "Para atualizar a variável contadora dentro do while, em geral a atualizamos em +1"
   ]
  },
  {
   "cell_type": "code",
   "execution_count": 100,
   "id": "fc4bed18",
   "metadata": {},
   "outputs": [
    {
     "name": "stdout",
     "output_type": "stream",
     "text": [
      "0\n",
      "1\n",
      "2\n",
      "3\n",
      "4\n",
      "5\n",
      "6\n",
      "7\n",
      "8\n",
      "9\n",
      "10\n"
     ]
    }
   ],
   "source": [
    "#imprimir números\n",
    "numero = 0\n",
    "\n",
    "while (numero<=10):\n",
    "    print(numero)\n",
    "    numero += 1"
   ]
  },
  {
   "cell_type": "code",
   "execution_count": 101,
   "id": "be70264f",
   "metadata": {},
   "outputs": [
    {
     "name": "stdout",
     "output_type": "stream",
     "text": [
      "10\n",
      "9\n",
      "8\n",
      "7\n",
      "6\n",
      "5\n",
      "4\n",
      "3\n",
      "2\n",
      "1\n",
      "0\n"
     ]
    }
   ],
   "source": [
    "#imprimindo números de 10 a 0\n",
    "numero = 10\n",
    "while (numero>=0):\n",
    "    print(numero)\n",
    "    numero -=1\n"
   ]
  },
  {
   "cell_type": "markdown",
   "id": "c753f67d",
   "metadata": {},
   "source": [
    "Usar a condição com < ao invés de != em geral garante maior segurança ao seu algoritmo, pois evita imprevistos caso você receba números do usuário!"
   ]
  },
  {
   "cell_type": "markdown",
   "id": "885f4df4",
   "metadata": {},
   "source": [
    "Podemos também atualizar a condição de repetição segundo informado pelo usuário\n",
    "\n",
    "Esse uso é bem importante para **garantir que o usuário digitou corretamente o que foi solicitado**\n",
    "\n",
    "Por exemplo, vamos pedir pro usuário digitar um número maior que 10. **Enquanto ele não fizer o que queremos**, vamos continuar pedindo pra ele digitar um novo valor:"
   ]
  },
  {
   "cell_type": "code",
   "execution_count": 106,
   "id": "95a3e069",
   "metadata": {},
   "outputs": [
    {
     "data": {
      "text/plain": [
       "True"
      ]
     },
     "execution_count": 106,
     "metadata": {},
     "output_type": "execute_result"
    }
   ],
   "source": [
    "num = 10\n",
    "type(num)==int"
   ]
  },
  {
   "cell_type": "code",
   "execution_count": 105,
   "id": "1396df1a",
   "metadata": {},
   "outputs": [
    {
     "name": "stdout",
     "output_type": "stream",
     "text": [
      "Digite um número maior que 10: 9.9\n",
      "Deu erro!!! Digite um número maior que 10: 10\n",
      "Deu erro!!! Digite um número maior que 10: 11\n"
     ]
    }
   ],
   "source": [
    "numero = float(input('Digite um número maior que 10: '))\n",
    "\n",
    "while numero <= 10:\n",
    "    numero = float(input('Deu erro!!! Digite um número maior que 10: '))"
   ]
  },
  {
   "cell_type": "markdown",
   "id": "c9847a70",
   "metadata": {},
   "source": [
    "Outro exemplo, onde pedirmos pro usuário digitar sua nota (para ser um valor válido, tem que estar entre 0 e 10!)"
   ]
  },
  {
   "cell_type": "code",
   "execution_count": 107,
   "id": "14f3b03f",
   "metadata": {},
   "outputs": [
    {
     "name": "stdout",
     "output_type": "stream",
     "text": [
      "Digite a nota do aluno entre 0 e 10: 11\n",
      "Nota inválida!! Digite a nota do aluno entre 0 e 10: -5\n",
      "Nota inválida!! Digite a nota do aluno entre 0 e 10: 9\n"
     ]
    }
   ],
   "source": [
    "nota = float(input('Digite a nota do aluno entre 0 e 10: '))\n",
    "\n",
    "while (nota>10) or (nota<0):\n",
    "    nota = float(input('Nota inválida!! Digite a nota do aluno entre 0 e 10: '))"
   ]
  },
  {
   "cell_type": "code",
   "execution_count": 110,
   "id": "bdf159e9",
   "metadata": {},
   "outputs": [
    {
     "name": "stdout",
     "output_type": "stream",
     "text": [
      "Digite a nota do aluno entre 0 e 10: -1\n",
      "Nota inválida!! Digite a nota do aluno entre 0 e 10: 10\n"
     ]
    }
   ],
   "source": [
    "nota = float(input('Digite a nota do aluno entre 0 e 10: '))\n",
    "\n",
    "while not 0<=nota<=10:\n",
    "    nota = float(input('Nota inválida!! Digite a nota do aluno entre 0 e 10: '))"
   ]
  },
  {
   "cell_type": "code",
   "execution_count": 108,
   "id": "5f99f417",
   "metadata": {},
   "outputs": [
    {
     "data": {
      "text/plain": [
       "9.0"
      ]
     },
     "execution_count": 108,
     "metadata": {},
     "output_type": "execute_result"
    }
   ],
   "source": [
    "nota"
   ]
  },
  {
   "cell_type": "markdown",
   "id": "a35fd0ef",
   "metadata": {},
   "source": [
    "**Exercicios**: \n",
    "Fazer um script que receba como input o sexo do usuário _(opções: M, F, Outro)_. Se o usuário digitar alguma outra opção, o programa deve pedir o sexo novamente até receber um input válido\n"
   ]
  },
  {
   "cell_type": "code",
   "execution_count": 111,
   "id": "a16d90b0",
   "metadata": {},
   "outputs": [
    {
     "name": "stdout",
     "output_type": "stream",
     "text": [
      "Informe seu genero: F, M, O f\n",
      "Deu erro!\n",
      "Informe seu genero: F, M, O F\n",
      "Genero:  F\n"
     ]
    }
   ],
   "source": [
    "genero = input('Informe seu genero: F, M, O ')\n",
    "\n",
    "while genero!='M' and genero!='F' and genero!='O':\n",
    "    print('Deu erro!')\n",
    "    genero = input('Informe seu genero: F, M, O ')\n",
    "    \n",
    "print('Genero: ', genero)"
   ]
  },
  {
   "cell_type": "code",
   "execution_count": null,
   "id": "53e6a7a6",
   "metadata": {},
   "outputs": [],
   "source": []
  },
  {
   "cell_type": "markdown",
   "id": "41b3728d",
   "metadata": {},
   "source": [
    "### Usando While para sair de uma execução"
   ]
  },
  {
   "cell_type": "markdown",
   "id": "ac3518fd",
   "metadata": {},
   "source": [
    "Podemos criar uma forma do usuário encerrar o loop quando for inserido algum valor"
   ]
  },
  {
   "cell_type": "code",
   "execution_count": 112,
   "id": "4a3025ca",
   "metadata": {},
   "outputs": [
    {
     "name": "stdout",
     "output_type": "stream",
     "text": [
      "Digite seu nome: (sair para encerrar) Fulano\n",
      "Olá  Fulano\n",
      "Digite seu nome: (sair para encerrar) Beltrano\n",
      "Olá  Beltrano\n",
      "Digite seu nome: (sair para encerrar) sair\n",
      "Encerrado\n"
     ]
    }
   ],
   "source": [
    "nome = ''\n",
    "while nome!='sair':\n",
    "    nome = input('Digite seu nome: (sair para encerrar) ')\n",
    "    if nome != 'sair':\n",
    "        print('Olá ', nome)\n",
    "\n",
    "print('Encerrado')"
   ]
  },
  {
   "cell_type": "markdown",
   "id": "bfc2965c",
   "metadata": {},
   "source": [
    "Em alguns casos, vários eventos podem fazer um loop parar sua execução\n",
    "\n",
    "Por exemplo em um jogo, o personagem pode morre ou quando perde todos os pontos, o jogo pode encerrar. Nesses casos podemos usar uma espécie de **Flag** para encerrar o loop.\n",
    "\n",
    "Essa flag nada mais é que um variável booleana que vai mudar de estado quando isso acontecer."
   ]
  },
  {
   "cell_type": "code",
   "execution_count": 115,
   "id": "59efa83f",
   "metadata": {},
   "outputs": [
    {
     "name": "stdout",
     "output_type": "stream",
     "text": [
      "Digite seu nome: (sair para encerrar) sair\n"
     ]
    }
   ],
   "source": [
    "executa = True\n",
    "while executa:\n",
    "    nome = input('Digite seu nome: (sair para encerrar) ')\n",
    "    if nome == 'sair':\n",
    "        executa=False\n",
    "    else:\n",
    "        print('Olá ', nome)"
   ]
  },
  {
   "cell_type": "markdown",
   "id": "b91ee7d6",
   "metadata": {},
   "source": [
    "**Pq isso simplifica? Toda lógica fica dentro do corpo do while, e não na condição passada nele**."
   ]
  },
  {
   "cell_type": "markdown",
   "id": "d9b7396c",
   "metadata": {
    "run_control": {
     "marked": true
    }
   },
   "source": [
    "### Operadores break and continue"
   ]
  },
  {
   "cell_type": "markdown",
   "id": "c20b270b",
   "metadata": {},
   "source": [
    "O comando **break encerra o loop imediatamente, sem executar o restante do código dentro do loop**."
   ]
  },
  {
   "cell_type": "code",
   "execution_count": 116,
   "id": "49b705ac",
   "metadata": {},
   "outputs": [
    {
     "name": "stdout",
     "output_type": "stream",
     "text": [
      "Digite sua cidade: [sair para encerrar] Formiga\n",
      "Vou viajar para Formiga\n",
      "Digite sua cidade: [sair para encerrar] sair\n"
     ]
    }
   ],
   "source": [
    "while True:\n",
    "    cidade = input('Digite sua cidade: [sair para encerrar] ')\n",
    "    if cidade=='sair':\n",
    "        break\n",
    "    else:\n",
    "        print(f'Vou viajar para {cidade}')"
   ]
  },
  {
   "cell_type": "code",
   "execution_count": null,
   "id": "20353b83",
   "metadata": {},
   "outputs": [],
   "source": []
  },
  {
   "cell_type": "code",
   "execution_count": null,
   "id": "21f02156",
   "metadata": {},
   "outputs": [],
   "source": []
  },
  {
   "cell_type": "code",
   "execution_count": null,
   "id": "43a18cea",
   "metadata": {},
   "outputs": [],
   "source": []
  },
  {
   "cell_type": "markdown",
   "id": "c103f0d0",
   "metadata": {},
   "source": [
    "O comando **continue, diferentemente do break, não encerra o loop, mas retorna ao início dele. Ou seja, quando a execução chega no continue, ela encerra a iteração em questão e passa para a próxima**."
   ]
  },
  {
   "cell_type": "code",
   "execution_count": 117,
   "id": "a4016928",
   "metadata": {},
   "outputs": [
    {
     "name": "stdout",
     "output_type": "stream",
     "text": [
      "1\n",
      "3\n",
      "5\n",
      "7\n",
      "9\n",
      "11\n",
      "13\n",
      "15\n",
      "17\n",
      "19\n"
     ]
    }
   ],
   "source": [
    "#imprime numeros impares\n",
    "\n",
    "numero = 0\n",
    "\n",
    "while numero<20:\n",
    "    numero+=1\n",
    "    if numero%2==0:\n",
    "        continue\n",
    "    print(numero)"
   ]
  },
  {
   "cell_type": "code",
   "execution_count": null,
   "id": "556691cf",
   "metadata": {},
   "outputs": [],
   "source": []
  },
  {
   "cell_type": "code",
   "execution_count": null,
   "id": "a4adb70f",
   "metadata": {},
   "outputs": [],
   "source": []
  },
  {
   "cell_type": "code",
   "execution_count": null,
   "id": "c04dec3f",
   "metadata": {},
   "outputs": [],
   "source": []
  },
  {
   "cell_type": "markdown",
   "id": "4d76e736",
   "metadata": {},
   "source": [
    "**Sempre lembrar:**\n",
    "- Variável contador\n",
    "- E variáveis auxiliares para armazenar outros valores"
   ]
  },
  {
   "cell_type": "markdown",
   "id": "1ba4a95b",
   "metadata": {},
   "source": [
    "### Exercícios\n",
    "1 - Faça um programa que imprima a tabuada do 9 (de 9\\*1 a 9\\*10) usando loops.\n",
    "\n",
    "2 - Faça um programa que recebe um número inteiro do usuário e imprime na tela a quantidade de divisores desse número e quais são eles.\n",
    "\n",
    "```\n",
    "Exemplo 1\n",
    "input: 10\n",
    "output:\n",
    "Divisor: 1\n",
    "Divisor: 2\n",
    "Divisor: 5\n",
    "Total de divisores: 3\n",
    "```\n",
    "\n",
    "```\n",
    "Exemplo 2\n",
    "input: 15\n",
    "output:\n",
    "Divisor: 1\n",
    "Divisor: 3\n",
    "Divisor: 5\n",
    "Total de divisores: 3\n",
    "```\n"
   ]
  },
  {
   "cell_type": "code",
   "execution_count": 118,
   "id": "44823924",
   "metadata": {},
   "outputs": [
    {
     "name": "stdout",
     "output_type": "stream",
     "text": [
      "9\n",
      "18\n",
      "27\n",
      "36\n",
      "45\n",
      "54\n",
      "63\n",
      "72\n",
      "81\n",
      "90\n"
     ]
    }
   ],
   "source": [
    "#1\n",
    "contador = 1 #variavel incremental\n",
    "\n",
    "while contador<=10:\n",
    "    print(contador*9)\n",
    "    contador += 1"
   ]
  },
  {
   "cell_type": "code",
   "execution_count": 122,
   "id": "6f9b9e81",
   "metadata": {},
   "outputs": [
    {
     "name": "stdout",
     "output_type": "stream",
     "text": [
      "Digite o numero: 37\n",
      "Divisor 1\n",
      "Divisor 37\n",
      "Quantidade de divisores: 2\n"
     ]
    }
   ],
   "source": [
    "numero = int(input('Digite o numero: '))\n",
    "divisor = 1 #variavel incremental\n",
    "quantidade_divisores = 0 #guardar o numero de divisores\n",
    "\n",
    "while divisor <= numero:\n",
    "    if numero % divisor == 0: #checa divisão exata\n",
    "        quantidade_divisores += 1\n",
    "        print(f'Divisor {divisor}')\n",
    "    divisor += 1\n",
    "    \n",
    "print(f'Quantidade de divisores: {quantidade_divisores}')"
   ]
  },
  {
   "cell_type": "code",
   "execution_count": null,
   "id": "74674f63",
   "metadata": {},
   "outputs": [],
   "source": []
  }
 ],
 "metadata": {
  "kernelspec": {
   "display_name": "Python 3 (ipykernel)",
   "language": "python",
   "name": "python3"
  },
  "language_info": {
   "codemirror_mode": {
    "name": "ipython",
    "version": 3
   },
   "file_extension": ".py",
   "mimetype": "text/x-python",
   "name": "python",
   "nbconvert_exporter": "python",
   "pygments_lexer": "ipython3",
   "version": "3.9.5"
  },
  "toc": {
   "base_numbering": 1,
   "nav_menu": {},
   "number_sections": false,
   "sideBar": true,
   "skip_h1_title": false,
   "title_cell": "Table of Contents",
   "title_sidebar": "Contents",
   "toc_cell": false,
   "toc_position": {
    "height": "calc(100% - 180px)",
    "left": "10px",
    "top": "150px",
    "width": "254px"
   },
   "toc_section_display": true,
   "toc_window_display": false
  }
 },
 "nbformat": 4,
 "nbformat_minor": 5
}
