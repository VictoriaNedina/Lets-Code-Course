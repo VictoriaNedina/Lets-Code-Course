{
 "cells": [
  {
   "cell_type": "markdown",
   "id": "669d0bfc",
   "metadata": {},
   "source": [
    "# Aula 02 - Listas, For e Strings\n",
    "\n",
    "![](https://image.slidesharecdn.com/introductiontocronqueue-141002202556-phpapp01/95/introduction-to-cron-queue-3-638.jpg?cb=1412281812)"
   ]
  },
  {
   "cell_type": "markdown",
   "id": "27f53c99",
   "metadata": {},
   "source": [
    "## Listas"
   ]
  },
  {
   "cell_type": "markdown",
   "id": "9fcb7149",
   "metadata": {},
   "source": [
    "Já vimos até aqui que boa parte das instruções que fazemos é necessário utilizar e armazenar valores, sejam estes números, textos ou valores booleanos.\n",
    "\n",
    "Quando precisamos resolver tarefas maiores e mais complexas, naturalmente a quantidade de valores que precisamos trabalhar aumenta.\n",
    "\n",
    "Vamos supor que precisamos armazenar um **número grande** de notas de provas. **Não é conveniente** criar uma variável para cada nota.\n",
    "\n",
    "Seria interessante se o python nos oferecesse algum tipo de estrutura como uma lista para armazenarmos esses valores. **Sim, o python possui exatamente esse tipo de estrutura!**\n",
    "\n",
    "Podemos imaginar as listas no python como um conjunto de elementos, que podem ser de diversos tipos. **Além de não precisarmos criar um número muito grande de variáveis, é muito conveniente usar uma lista para armazenas itens que estão no mesmo contexto, como é o caso de notas.**"
   ]
  },
  {
   "cell_type": "markdown",
   "id": "9f55b938",
   "metadata": {},
   "source": [
    "Lista de números"
   ]
  },
  {
   "cell_type": "code",
   "execution_count": 1,
   "id": "0fcf3e89",
   "metadata": {},
   "outputs": [
    {
     "data": {
      "text/plain": [
       "[1, 2, 3, -4, 0.85]"
      ]
     },
     "execution_count": 1,
     "metadata": {},
     "output_type": "execute_result"
    }
   ],
   "source": [
    "# Como uma lista é criada?\n",
    "# []\n",
    "lista = [1, 2, 3, -4, 0.85]\n",
    "lista"
   ]
  },
  {
   "cell_type": "code",
   "execution_count": 2,
   "id": "4ddcb088",
   "metadata": {},
   "outputs": [],
   "source": [
    "lista = [4, 4, 8, 8]"
   ]
  },
  {
   "cell_type": "code",
   "execution_count": 3,
   "id": "d73a0467",
   "metadata": {},
   "outputs": [
    {
     "data": {
      "text/plain": [
       "{4, 8}"
      ]
     },
     "execution_count": 3,
     "metadata": {},
     "output_type": "execute_result"
    }
   ],
   "source": [
    "set(lista)"
   ]
  },
  {
   "cell_type": "code",
   "execution_count": 4,
   "id": "9c3d2e67",
   "metadata": {},
   "outputs": [
    {
     "data": {
      "text/plain": [
       "4"
      ]
     },
     "execution_count": 4,
     "metadata": {},
     "output_type": "execute_result"
    }
   ],
   "source": [
    "len(lista)"
   ]
  },
  {
   "cell_type": "code",
   "execution_count": 5,
   "id": "141132fc",
   "metadata": {},
   "outputs": [
    {
     "data": {
      "text/plain": [
       "2"
      ]
     },
     "execution_count": 5,
     "metadata": {},
     "output_type": "execute_result"
    }
   ],
   "source": [
    "len(set(lista))"
   ]
  },
  {
   "cell_type": "code",
   "execution_count": 6,
   "id": "614c3502",
   "metadata": {},
   "outputs": [
    {
     "name": "stdout",
     "output_type": "stream",
     "text": [
      "A lista tem 2 elementos únicos\n"
     ]
    }
   ],
   "source": [
    "if len(set(lista)) == 1:\n",
    "    print('Todos iguais')\n",
    "else:\n",
    "    print(f'A lista tem {len(set(lista))} elementos únicos')"
   ]
  },
  {
   "cell_type": "code",
   "execution_count": 7,
   "id": "449f5c23",
   "metadata": {},
   "outputs": [],
   "source": [
    "lista =[1, 1, 1]"
   ]
  },
  {
   "cell_type": "code",
   "execution_count": 10,
   "id": "6b9a75df",
   "metadata": {},
   "outputs": [
    {
     "name": "stdout",
     "output_type": "stream",
     "text": [
      "Todos iguais\n"
     ]
    }
   ],
   "source": [
    "unicos = len(set(lista))\n",
    "\n",
    "if unicos == 1:\n",
    "    print('Todos iguais')\n",
    "else:\n",
    "    print(f'A lista tem {unicos} elementos únicos')"
   ]
  },
  {
   "cell_type": "markdown",
   "id": "cab5b575",
   "metadata": {},
   "source": [
    "Lista de textos (Strings)"
   ]
  },
  {
   "cell_type": "code",
   "execution_count": 9,
   "id": "f91c2b85",
   "metadata": {},
   "outputs": [
    {
     "data": {
      "text/plain": [
       "['isto', 'é', 'uma', 'lista']"
      ]
     },
     "execution_count": 9,
     "metadata": {},
     "output_type": "execute_result"
    }
   ],
   "source": [
    "lista_string = ['isto', 'é', 'uma', 'lista']\n",
    "lista_string"
   ]
  },
  {
   "cell_type": "markdown",
   "id": "d105fd1b",
   "metadata": {},
   "source": [
    "Posso usar números e textos em uma única lista? Pode sim!"
   ]
  },
  {
   "cell_type": "code",
   "execution_count": 14,
   "id": "3ac62823",
   "metadata": {},
   "outputs": [],
   "source": [
    "lista_num_texto = ['aluno_1', 8.5, 78]"
   ]
  },
  {
   "cell_type": "code",
   "execution_count": 15,
   "id": "c1393f8e",
   "metadata": {},
   "outputs": [
    {
     "data": {
      "text/plain": [
       "['aluno_1', 8.5, 78]"
      ]
     },
     "execution_count": 15,
     "metadata": {},
     "output_type": "execute_result"
    }
   ],
   "source": [
    "lista_num_texto"
   ]
  },
  {
   "cell_type": "markdown",
   "id": "899b97c8",
   "metadata": {},
   "source": [
    "Vários tipos"
   ]
  },
  {
   "cell_type": "code",
   "execution_count": 16,
   "id": "b64b803f",
   "metadata": {},
   "outputs": [],
   "source": [
    "nome = 'Fulano'\n",
    "idade = 34\n",
    "\n",
    "lista_todos_tipos = [nome, idade, 23, True, 'texto']"
   ]
  },
  {
   "cell_type": "code",
   "execution_count": 25,
   "id": "19c395d2",
   "metadata": {},
   "outputs": [],
   "source": [
    "lista_nomes = ['Abacaxi', 'Maçã', 'Laranja', 'Abacaxi']"
   ]
  },
  {
   "cell_type": "code",
   "execution_count": 26,
   "id": "aac09db2",
   "metadata": {},
   "outputs": [
    {
     "data": {
      "text/plain": [
       "{'Abacaxi', 'Laranja', 'Maçã'}"
      ]
     },
     "execution_count": 26,
     "metadata": {},
     "output_type": "execute_result"
    }
   ],
   "source": [
    "set(lista_nomes)"
   ]
  },
  {
   "cell_type": "code",
   "execution_count": 20,
   "id": "af6307f3",
   "metadata": {},
   "outputs": [
    {
     "data": {
      "text/plain": [
       "{23, 34, 'Fulano', True, 'texto'}"
      ]
     },
     "execution_count": 20,
     "metadata": {},
     "output_type": "execute_result"
    }
   ],
   "source": [
    "set(lista_todos_tipos)"
   ]
  },
  {
   "cell_type": "code",
   "execution_count": 17,
   "id": "4620b28a",
   "metadata": {},
   "outputs": [
    {
     "data": {
      "text/plain": [
       "['Fulano', 34, 23, True, 'texto']"
      ]
     },
     "execution_count": 17,
     "metadata": {},
     "output_type": "execute_result"
    }
   ],
   "source": [
    "lista_todos_tipos"
   ]
  },
  {
   "cell_type": "markdown",
   "id": "c8c37f96",
   "metadata": {},
   "source": [
    "Se verificarmos o tipo, veremos que o python aponta como uma lista, ou seja, lista é uma tipo do python"
   ]
  },
  {
   "cell_type": "code",
   "execution_count": 18,
   "id": "08bd3ad8",
   "metadata": {},
   "outputs": [
    {
     "data": {
      "text/plain": [
       "list"
      ]
     },
     "execution_count": 18,
     "metadata": {},
     "output_type": "execute_result"
    }
   ],
   "source": [
    "type(lista_todos_tipos)"
   ]
  },
  {
   "cell_type": "code",
   "execution_count": 19,
   "id": "5743bd24",
   "metadata": {},
   "outputs": [
    {
     "data": {
      "text/plain": [
       "set"
      ]
     },
     "execution_count": 19,
     "metadata": {},
     "output_type": "execute_result"
    }
   ],
   "source": [
    "type({1,2})"
   ]
  },
  {
   "cell_type": "markdown",
   "id": "de27b48a",
   "metadata": {},
   "source": [
    "Beleza, mas para trabalhar com esse valores, **preciamos acessá-los**. **Se usarmos apenas o nome da lista, ele simplesmente retorna toda a estrutura do tipo 'list'**.\n",
    "\n",
    "No entanto, queremos acessar cada elemento individualmente ou apenas parte dos elementos.\n",
    "\n",
    "O método utilizado pelo python para acessar os elementos de uma lista é através de **índices**.\n",
    "\n",
    "**Um índice indica uma posição dentro da lista**\n",
    "\n",
    "__MUITO IMPORTANTE: a numeração de índice começa em zero!__\n",
    "\n",
    "Ou seja:\n",
    "\n",
    "- O primeiro elemento tem índice 0: ```minha_lista[0]``` ,\n",
    "- O segundo tem índice 1: ```minha_lista[1]```,\n",
    "\n",
    "E assim por diante!\n",
    "\n",
    "Também podemos acessar os últimos elementos, usando índices negativos:\n",
    "\n",
    "- O último elemento tem índice -1: ```minha_lista[-1]```,\n",
    "- O penúltimo tem índice -2: ```minha_lista[-2]```,\n",
    "\n",
    "E assim por diante!\n"
   ]
  },
  {
   "cell_type": "code",
   "execution_count": 27,
   "id": "10d47b66",
   "metadata": {},
   "outputs": [],
   "source": [
    "lista_nomes = ['joao', 'maria', 'jose', 'carlos']"
   ]
  },
  {
   "cell_type": "code",
   "execution_count": 28,
   "id": "8d64834d",
   "metadata": {},
   "outputs": [
    {
     "data": {
      "text/plain": [
       "'joao'"
      ]
     },
     "execution_count": 28,
     "metadata": {},
     "output_type": "execute_result"
    }
   ],
   "source": [
    "lista_nomes[0]"
   ]
  },
  {
   "cell_type": "code",
   "execution_count": 29,
   "id": "3051337a",
   "metadata": {},
   "outputs": [
    {
     "data": {
      "text/plain": [
       "'maria'"
      ]
     },
     "execution_count": 29,
     "metadata": {},
     "output_type": "execute_result"
    }
   ],
   "source": [
    "lista_nomes[1]"
   ]
  },
  {
   "cell_type": "code",
   "execution_count": null,
   "id": "d9e7d1f0",
   "metadata": {},
   "outputs": [],
   "source": []
  },
  {
   "cell_type": "markdown",
   "id": "19e46378",
   "metadata": {},
   "source": [
    "**Pega o último**"
   ]
  },
  {
   "cell_type": "code",
   "execution_count": 30,
   "id": "f2668473",
   "metadata": {},
   "outputs": [
    {
     "data": {
      "text/plain": [
       "'carlos'"
      ]
     },
     "execution_count": 30,
     "metadata": {},
     "output_type": "execute_result"
    }
   ],
   "source": [
    "lista_nomes[-1]"
   ]
  },
  {
   "cell_type": "code",
   "execution_count": 31,
   "id": "518bf63c",
   "metadata": {},
   "outputs": [
    {
     "data": {
      "text/plain": [
       "'jose'"
      ]
     },
     "execution_count": 31,
     "metadata": {},
     "output_type": "execute_result"
    }
   ],
   "source": [
    "lista_nomes[-2]"
   ]
  },
  {
   "cell_type": "code",
   "execution_count": 32,
   "id": "ac4670c2",
   "metadata": {},
   "outputs": [
    {
     "data": {
      "text/plain": [
       "'carlos'"
      ]
     },
     "execution_count": 32,
     "metadata": {},
     "output_type": "execute_result"
    }
   ],
   "source": [
    "indice = 2+1\n",
    "lista_nomes[indice]"
   ]
  },
  {
   "cell_type": "markdown",
   "id": "6c7b43f3",
   "metadata": {},
   "source": [
    "Usando a função **len()** para saber o tamanho da lista"
   ]
  },
  {
   "cell_type": "code",
   "execution_count": 33,
   "id": "8e89e280",
   "metadata": {},
   "outputs": [
    {
     "data": {
      "text/plain": [
       "4"
      ]
     },
     "execution_count": 33,
     "metadata": {},
     "output_type": "execute_result"
    }
   ],
   "source": [
    "len(lista_nomes)"
   ]
  },
  {
   "cell_type": "markdown",
   "id": "e618ba81",
   "metadata": {},
   "source": [
    "**São mutáveis. Podemos alterar o valor**"
   ]
  },
  {
   "cell_type": "code",
   "execution_count": 34,
   "id": "9330a5a3",
   "metadata": {},
   "outputs": [
    {
     "data": {
      "text/plain": [
       "['joao', 'maria', 'jose', 'carlos']"
      ]
     },
     "execution_count": 34,
     "metadata": {},
     "output_type": "execute_result"
    }
   ],
   "source": [
    "lista_nomes"
   ]
  },
  {
   "cell_type": "code",
   "execution_count": 35,
   "id": "ca1cf36a",
   "metadata": {},
   "outputs": [],
   "source": [
    "lista_nomes[2] = 'joana'"
   ]
  },
  {
   "cell_type": "code",
   "execution_count": 36,
   "id": "a6eb2d90",
   "metadata": {},
   "outputs": [
    {
     "data": {
      "text/plain": [
       "['joao', 'maria', 'joana', 'carlos']"
      ]
     },
     "execution_count": 36,
     "metadata": {},
     "output_type": "execute_result"
    }
   ],
   "source": [
    "lista_nomes"
   ]
  },
  {
   "cell_type": "markdown",
   "id": "559276fa",
   "metadata": {},
   "source": [
    "Mas e para acessar uma \"**fatia**\" da lista?\n",
    "\n",
    "Podemos fazer isso indicando o intervalo de indices que desejamos usando o \":\"\n",
    "\n",
    "- ```minha_lista[1:3]```: seleciona os elementos de indice 1 até indice 2\n",
    "- ```minha_lista[:4]```: seleciona do primeiro elemento até o de índice 3\n",
    "- ```minha_lista[3:]```: seleciona do elemento de índice 3 até o final\n",
    "- ```minha_lista[:]```: seleciona a lista inteira\n",
    "\n",
    "Este conceito é chamado de \"slicing\" em Python, pois você está pegando \"fatias\" da lista!\n",
    "\n",
    "Uma maneira interessante de ler o slicing é:\n",
    "\n",
    "```minha_lista[:4]``` -> Pega toda a perte até o índice 3\n",
    "\n",
    "O **elemento do último índice não é selecionado**"
   ]
  },
  {
   "cell_type": "markdown",
   "id": "c5f3d31e",
   "metadata": {},
   "source": [
    "$[<início>:<fim>:<step>]$"
   ]
  },
  {
   "cell_type": "code",
   "execution_count": 37,
   "id": "5a6dd8be",
   "metadata": {},
   "outputs": [
    {
     "data": {
      "text/plain": [
       "[8.5, 9.2, 4.5, 6, 8, 3.2, 7.9]"
      ]
     },
     "execution_count": 37,
     "metadata": {},
     "output_type": "execute_result"
    }
   ],
   "source": [
    "notas = [8.5, 9.2, 4.5, 6, 8, 3.2, 7.9]\n",
    "notas"
   ]
  },
  {
   "cell_type": "code",
   "execution_count": 38,
   "id": "cf9ae2ac",
   "metadata": {},
   "outputs": [
    {
     "data": {
      "text/plain": [
       "[8.5, 9.2]"
      ]
     },
     "execution_count": 38,
     "metadata": {},
     "output_type": "execute_result"
    }
   ],
   "source": [
    "# 2 primeiras\n",
    "notas[:2]"
   ]
  },
  {
   "cell_type": "code",
   "execution_count": 42,
   "id": "934b40e1",
   "metadata": {},
   "outputs": [
    {
     "data": {
      "text/plain": [
       "7"
      ]
     },
     "execution_count": 42,
     "metadata": {},
     "output_type": "execute_result"
    }
   ],
   "source": [
    "len(notas)"
   ]
  },
  {
   "cell_type": "code",
   "execution_count": 39,
   "id": "850069bf",
   "metadata": {},
   "outputs": [
    {
     "data": {
      "text/plain": [
       "[9.2, 4.5, 6]"
      ]
     },
     "execution_count": 39,
     "metadata": {},
     "output_type": "execute_result"
    }
   ],
   "source": [
    "# Da segunda a quarta\n",
    "notas[1:4]"
   ]
  },
  {
   "cell_type": "code",
   "execution_count": null,
   "id": "a69399cd",
   "metadata": {},
   "outputs": [],
   "source": []
  },
  {
   "cell_type": "code",
   "execution_count": 40,
   "id": "0d6805e4",
   "metadata": {},
   "outputs": [
    {
     "data": {
      "text/plain": [
       "[8, 3.2, 7.9]"
      ]
     },
     "execution_count": 40,
     "metadata": {},
     "output_type": "execute_result"
    }
   ],
   "source": [
    "# 3 últimas\n",
    "notas[-3:]"
   ]
  },
  {
   "cell_type": "code",
   "execution_count": 49,
   "id": "44b87c6a",
   "metadata": {},
   "outputs": [
    {
     "data": {
      "text/plain": [
       "[3.2, 7.9]"
      ]
     },
     "execution_count": 49,
     "metadata": {},
     "output_type": "execute_result"
    }
   ],
   "source": [
    "# 2 últimas\n",
    "notas[-2:]"
   ]
  },
  {
   "cell_type": "markdown",
   "id": "dbf43edc",
   "metadata": {},
   "source": [
    "Usando o step. **Usamos um \":\" a mais para o step**"
   ]
  },
  {
   "cell_type": "code",
   "execution_count": 52,
   "id": "8a8d156b",
   "metadata": {},
   "outputs": [
    {
     "data": {
      "text/plain": [
       "[8.5, 9.2, 4.5, 6, 8, 3.2, 7.9]"
      ]
     },
     "execution_count": 52,
     "metadata": {},
     "output_type": "execute_result"
    }
   ],
   "source": [
    "notas"
   ]
  },
  {
   "cell_type": "code",
   "execution_count": 51,
   "id": "e71e0d2c",
   "metadata": {},
   "outputs": [
    {
     "data": {
      "text/plain": [
       "[8.5, 4.5, 8, 7.9]"
      ]
     },
     "execution_count": 51,
     "metadata": {},
     "output_type": "execute_result"
    }
   ],
   "source": [
    "notas[::2]"
   ]
  },
  {
   "cell_type": "code",
   "execution_count": 53,
   "id": "7e7b580f",
   "metadata": {},
   "outputs": [
    {
     "data": {
      "text/plain": [
       "[8.5, 8]"
      ]
     },
     "execution_count": 53,
     "metadata": {},
     "output_type": "execute_result"
    }
   ],
   "source": [
    "notas[::4]"
   ]
  },
  {
   "cell_type": "markdown",
   "id": "c14eaa58",
   "metadata": {},
   "source": [
    "### Operações com listas"
   ]
  },
  {
   "cell_type": "markdown",
   "id": "155c5521",
   "metadata": {},
   "source": [
    "Soma. Ao utilizar o operador de **soma em duas listas**, elas são concatenadas, na ordem dada, formando uma lista maior."
   ]
  },
  {
   "cell_type": "code",
   "execution_count": 54,
   "id": "f002f6fc",
   "metadata": {},
   "outputs": [],
   "source": [
    "nomes = ['João', 'Maria', 'Matheus']\n",
    "notas = [4, 6, 2]"
   ]
  },
  {
   "cell_type": "code",
   "execution_count": 55,
   "id": "54939657",
   "metadata": {},
   "outputs": [
    {
     "data": {
      "text/plain": [
       "['João', 'Maria', 'Matheus', 4, 6, 2]"
      ]
     },
     "execution_count": 55,
     "metadata": {},
     "output_type": "execute_result"
    }
   ],
   "source": [
    "nomes + notas"
   ]
  },
  {
   "cell_type": "code",
   "execution_count": 56,
   "id": "c7e21c54",
   "metadata": {},
   "outputs": [
    {
     "data": {
      "text/plain": [
       "[4, 6, 2, 'João', 'Maria', 'Matheus']"
      ]
     },
     "execution_count": 56,
     "metadata": {},
     "output_type": "execute_result"
    }
   ],
   "source": [
    "notas + nomes"
   ]
  },
  {
   "cell_type": "code",
   "execution_count": 58,
   "id": "1b6e5260",
   "metadata": {},
   "outputs": [
    {
     "data": {
      "text/plain": [
       "[['João', 4], ['Maria', 6], ['Matheus', 2]]"
      ]
     },
     "execution_count": 58,
     "metadata": {},
     "output_type": "execute_result"
    }
   ],
   "source": [
    "[[nome, nota] for nome, nota in zip(nomes, notas)]"
   ]
  },
  {
   "cell_type": "markdown",
   "id": "a99b27d0",
   "metadata": {},
   "source": [
    "E se forem de tamanhos diferentes?"
   ]
  },
  {
   "cell_type": "code",
   "execution_count": 60,
   "id": "d60c6b60",
   "metadata": {},
   "outputs": [],
   "source": [
    "notas = [2, 4]"
   ]
  },
  {
   "cell_type": "code",
   "execution_count": 61,
   "id": "3b0ad127",
   "metadata": {},
   "outputs": [
    {
     "data": {
      "text/plain": [
       "['João', 'Maria', 'Matheus', 2, 4]"
      ]
     },
     "execution_count": 61,
     "metadata": {},
     "output_type": "execute_result"
    }
   ],
   "source": [
    "nomes+notas"
   ]
  },
  {
   "cell_type": "markdown",
   "id": "32271ff0",
   "metadata": {},
   "source": [
    "Usando o operador de multiplicação"
   ]
  },
  {
   "cell_type": "code",
   "execution_count": 63,
   "id": "aa3a7a34",
   "metadata": {},
   "outputs": [],
   "source": [
    "lista_num = [1, 2, 3]"
   ]
  },
  {
   "cell_type": "code",
   "execution_count": 64,
   "id": "e41a7222",
   "metadata": {},
   "outputs": [
    {
     "data": {
      "text/plain": [
       "[1, 2, 3, 1, 2, 3, 1, 2, 3, 1, 2, 3]"
      ]
     },
     "execution_count": 64,
     "metadata": {},
     "output_type": "execute_result"
    }
   ],
   "source": [
    "# Simplesmente vai repetir os elementos de acordo com o multiplicador\n",
    "lista_num*4"
   ]
  },
  {
   "cell_type": "code",
   "execution_count": 65,
   "id": "7ea9c8c3",
   "metadata": {},
   "outputs": [
    {
     "data": {
      "text/plain": [
       "[1, 2, 3]"
      ]
     },
     "execution_count": 65,
     "metadata": {},
     "output_type": "execute_result"
    }
   ],
   "source": [
    "lista_num*1"
   ]
  },
  {
   "cell_type": "code",
   "execution_count": 66,
   "id": "b6e49097",
   "metadata": {},
   "outputs": [
    {
     "data": {
      "text/plain": [
       "[0, 0, 0, 0, 0, 0, 0, 0, 0, 0]"
      ]
     },
     "execution_count": 66,
     "metadata": {},
     "output_type": "execute_result"
    }
   ],
   "source": [
    "lista_zeros = [0]*10\n",
    "lista_zeros"
   ]
  },
  {
   "cell_type": "markdown",
   "id": "c91fb8e0",
   "metadata": {},
   "source": [
    "Mas se eu usar índices?"
   ]
  },
  {
   "cell_type": "code",
   "execution_count": 70,
   "id": "7885794b",
   "metadata": {},
   "outputs": [],
   "source": [
    "lista_num.append('texto')"
   ]
  },
  {
   "cell_type": "code",
   "execution_count": 67,
   "id": "8f108efe",
   "metadata": {},
   "outputs": [
    {
     "data": {
      "text/plain": [
       "12"
      ]
     },
     "execution_count": 67,
     "metadata": {},
     "output_type": "execute_result"
    }
   ],
   "source": [
    "# Nesse caso ele multiplica pelo número, já que quando usamos índices ele retorna um inteiro\n",
    "lista_num[2]*4"
   ]
  },
  {
   "cell_type": "code",
   "execution_count": 71,
   "id": "04de1b56",
   "metadata": {},
   "outputs": [
    {
     "data": {
      "text/plain": [
       "'textotextotextotexto'"
      ]
     },
     "execution_count": 71,
     "metadata": {},
     "output_type": "execute_result"
    }
   ],
   "source": [
    "lista_num[3]*4"
   ]
  },
  {
   "cell_type": "code",
   "execution_count": 72,
   "id": "d20ffdf5",
   "metadata": {},
   "outputs": [],
   "source": [
    "lista_num.append(True)"
   ]
  },
  {
   "cell_type": "code",
   "execution_count": 73,
   "id": "d5e7cb17",
   "metadata": {},
   "outputs": [
    {
     "data": {
      "text/plain": [
       "4"
      ]
     },
     "execution_count": 73,
     "metadata": {},
     "output_type": "execute_result"
    }
   ],
   "source": [
    "lista_num[4]*4"
   ]
  },
  {
   "cell_type": "code",
   "execution_count": 68,
   "id": "c943b3b7",
   "metadata": {},
   "outputs": [
    {
     "data": {
      "text/plain": [
       "int"
      ]
     },
     "execution_count": 68,
     "metadata": {},
     "output_type": "execute_result"
    }
   ],
   "source": [
    "type(lista_num[2])"
   ]
  },
  {
   "cell_type": "markdown",
   "id": "4dae95d7",
   "metadata": {},
   "source": [
    "Podemos também transformar uma string em lista de caracteres"
   ]
  },
  {
   "cell_type": "code",
   "execution_count": 74,
   "id": "7e4e08a7",
   "metadata": {},
   "outputs": [
    {
     "data": {
      "text/plain": [
       "['t', 'e', 'x', 't', 'o']"
      ]
     },
     "execution_count": 74,
     "metadata": {},
     "output_type": "execute_result"
    }
   ],
   "source": [
    "list('texto')"
   ]
  },
  {
   "cell_type": "code",
   "execution_count": 75,
   "id": "d3b4b1a6",
   "metadata": {},
   "outputs": [],
   "source": [
    "lista = list('texto')"
   ]
  },
  {
   "cell_type": "code",
   "execution_count": 76,
   "id": "bd808236",
   "metadata": {},
   "outputs": [
    {
     "data": {
      "text/plain": [
       "'t'"
      ]
     },
     "execution_count": 76,
     "metadata": {},
     "output_type": "execute_result"
    }
   ],
   "source": [
    "# A palavra começa com\n",
    "lista[0]"
   ]
  },
  {
   "cell_type": "code",
   "execution_count": null,
   "id": "cf93bcee",
   "metadata": {},
   "outputs": [],
   "source": []
  },
  {
   "cell_type": "markdown",
   "id": "343c65ad",
   "metadata": {},
   "source": [
    "Usando **range para inicializar uma lista**"
   ]
  },
  {
   "cell_type": "markdown",
   "id": "64e609d2",
   "metadata": {},
   "source": [
    "O range é uma função que retorna uma **série numérica**\n",
    "\n",
    "Possui 3 parâmetros:\n",
    "- Início\n",
    "- Fim\n",
    "- Intervalo entre os elementos"
   ]
  },
  {
   "cell_type": "code",
   "execution_count": 81,
   "id": "50497c5f",
   "metadata": {},
   "outputs": [
    {
     "data": {
      "text/plain": [
       "range"
      ]
     },
     "execution_count": 81,
     "metadata": {},
     "output_type": "execute_result"
    }
   ],
   "source": [
    "type(range(4))"
   ]
  },
  {
   "cell_type": "code",
   "execution_count": 78,
   "id": "d1758d4d",
   "metadata": {},
   "outputs": [
    {
     "data": {
      "text/plain": [
       "[0, 1, 2, 3, 4]"
      ]
     },
     "execution_count": 78,
     "metadata": {},
     "output_type": "execute_result"
    }
   ],
   "source": [
    "list(range(5))"
   ]
  },
  {
   "cell_type": "code",
   "execution_count": 79,
   "id": "88baaa07",
   "metadata": {},
   "outputs": [
    {
     "data": {
      "text/plain": [
       "[1, 3, 5, 7, 9]"
      ]
     },
     "execution_count": 79,
     "metadata": {},
     "output_type": "execute_result"
    }
   ],
   "source": [
    "list(range(1,10,2))"
   ]
  },
  {
   "cell_type": "code",
   "execution_count": 82,
   "id": "b58528a4",
   "metadata": {},
   "outputs": [
    {
     "data": {
      "text/plain": [
       "[-10, -8, -6, -4, -2, 0, 2, 4, 6, 8]"
      ]
     },
     "execution_count": 82,
     "metadata": {},
     "output_type": "execute_result"
    }
   ],
   "source": [
    "list(range(-10,10,2))"
   ]
  },
  {
   "cell_type": "code",
   "execution_count": 85,
   "id": "23b4f98f",
   "metadata": {},
   "outputs": [
    {
     "data": {
      "text/plain": [
       "[10, 9, 8, 7, 6, 5, 4, 3, 2, 1, 0, -1, -2, -3, -4, -5, -6, -7, -8, -9]"
      ]
     },
     "execution_count": 85,
     "metadata": {},
     "output_type": "execute_result"
    }
   ],
   "source": [
    "list(range(10,-10,-1))"
   ]
  },
  {
   "cell_type": "code",
   "execution_count": null,
   "id": "c1cbb666",
   "metadata": {},
   "outputs": [],
   "source": []
  },
  {
   "cell_type": "markdown",
   "id": "31beaa9b",
   "metadata": {},
   "source": [
    "**Usando o random.sample() para gera uma lista de elementos aleatórios**\n",
    "\n",
    "**O sample pega n elementos de algum conjunto: Params: conjunto; n**"
   ]
  },
  {
   "cell_type": "code",
   "execution_count": 138,
   "id": "8e8faced",
   "metadata": {},
   "outputs": [],
   "source": [
    "import random\n",
    "random.seed(1)"
   ]
  },
  {
   "cell_type": "code",
   "execution_count": 139,
   "id": "7306a72c",
   "metadata": {},
   "outputs": [
    {
     "data": {
      "text/plain": [
       "[9, 37, 55, 52, 49, 5]"
      ]
     },
     "execution_count": 139,
     "metadata": {},
     "output_type": "execute_result"
    }
   ],
   "source": [
    "lista_aleatoria = random.sample(range(1, 61), 6)\n",
    "lista_aleatoria"
   ]
  },
  {
   "cell_type": "code",
   "execution_count": 140,
   "id": "97b42a09",
   "metadata": {},
   "outputs": [
    {
     "data": {
      "text/plain": [
       "[17, 8, 32, 49, 29, 31]"
      ]
     },
     "execution_count": 140,
     "metadata": {},
     "output_type": "execute_result"
    }
   ],
   "source": [
    "lista_aleatoria = random.sample(range(1, 61), 6)\n",
    "lista_aleatoria"
   ]
  },
  {
   "cell_type": "markdown",
   "id": "9814cd22",
   "metadata": {},
   "source": [
    "### Funções das listas"
   ]
  },
  {
   "cell_type": "markdown",
   "id": "e2dbb82f",
   "metadata": {},
   "source": [
    "Uma abordagem muito comum é começarmos com uma lista vazia e aos poucos preenchê-la."
   ]
  },
  {
   "cell_type": "code",
   "execution_count": 156,
   "id": "6b3a0c71",
   "metadata": {},
   "outputs": [
    {
     "data": {
      "text/plain": [
       "[]"
      ]
     },
     "execution_count": 156,
     "metadata": {},
     "output_type": "execute_result"
    }
   ],
   "source": [
    "# Criando lista vazia\n",
    "# Pode ser usando [] ou list()\n",
    "\n",
    "lista = []\n",
    "lista"
   ]
  },
  {
   "cell_type": "markdown",
   "id": "e3b0f590",
   "metadata": {},
   "source": [
    "Para adicionar algum elemento usamos o método **append**"
   ]
  },
  {
   "cell_type": "code",
   "execution_count": 157,
   "id": "9e4ebaee",
   "metadata": {},
   "outputs": [],
   "source": [
    "lista.append(5)"
   ]
  },
  {
   "cell_type": "code",
   "execution_count": 158,
   "id": "cd229506",
   "metadata": {},
   "outputs": [
    {
     "data": {
      "text/plain": [
       "[5]"
      ]
     },
     "execution_count": 158,
     "metadata": {},
     "output_type": "execute_result"
    }
   ],
   "source": [
    "lista"
   ]
  },
  {
   "cell_type": "code",
   "execution_count": 159,
   "id": "ed6dacfa",
   "metadata": {},
   "outputs": [],
   "source": [
    "lista.append('nome')"
   ]
  },
  {
   "cell_type": "code",
   "execution_count": 160,
   "id": "12ad92f5",
   "metadata": {},
   "outputs": [
    {
     "data": {
      "text/plain": [
       "[5, 'nome']"
      ]
     },
     "execution_count": 160,
     "metadata": {},
     "output_type": "execute_result"
    }
   ],
   "source": [
    "lista"
   ]
  },
  {
   "cell_type": "markdown",
   "id": "8e642a08",
   "metadata": {},
   "source": [
    "Um novo elemento sempre é inserido na última posição da lista"
   ]
  },
  {
   "cell_type": "code",
   "execution_count": 161,
   "id": "9e4742b1",
   "metadata": {},
   "outputs": [],
   "source": [
    "lista.append(7)"
   ]
  },
  {
   "cell_type": "code",
   "execution_count": 162,
   "id": "8f0cbfe5",
   "metadata": {},
   "outputs": [
    {
     "data": {
      "text/plain": [
       "[5, 'nome', 7]"
      ]
     },
     "execution_count": 162,
     "metadata": {},
     "output_type": "execute_result"
    }
   ],
   "source": [
    "lista"
   ]
  },
  {
   "cell_type": "code",
   "execution_count": null,
   "id": "7b655776",
   "metadata": {},
   "outputs": [],
   "source": []
  },
  {
   "cell_type": "markdown",
   "id": "80109e30",
   "metadata": {},
   "source": [
    "Mas se fosse necessário mudar essa **ordem de inserção**? Isso é possível sim, através da função **insert()**.\n",
    "\n",
    "Essa função recebe dois argumentos: a posição e o elemento"
   ]
  },
  {
   "cell_type": "code",
   "execution_count": 163,
   "id": "4981cdf0",
   "metadata": {},
   "outputs": [
    {
     "data": {
      "text/plain": [
       "['primeiro elemento', 5, 'nome', 7]"
      ]
     },
     "execution_count": 163,
     "metadata": {},
     "output_type": "execute_result"
    }
   ],
   "source": [
    "# Inserindo na primeira posição\n",
    "lista.insert(0,'primeiro elemento')\n",
    "lista"
   ]
  },
  {
   "cell_type": "code",
   "execution_count": 164,
   "id": "e88ef856",
   "metadata": {},
   "outputs": [
    {
     "data": {
      "text/plain": [
       "['primeiro elemento', 5, 'nome', 7, 'ultimo elemento']"
      ]
     },
     "execution_count": 164,
     "metadata": {},
     "output_type": "execute_result"
    }
   ],
   "source": [
    "lista.insert(4, 'ultimo elemento')\n",
    "lista"
   ]
  },
  {
   "cell_type": "code",
   "execution_count": 165,
   "id": "24412c04",
   "metadata": {},
   "outputs": [
    {
     "data": {
      "text/plain": [
       "['primeiro elemento', 5, 'nome', 7, 'oncoto', 'ultimo elemento']"
      ]
     },
     "execution_count": 165,
     "metadata": {},
     "output_type": "execute_result"
    }
   ],
   "source": [
    "lista.insert(-1, 'oncoto')\n",
    "lista"
   ]
  },
  {
   "cell_type": "code",
   "execution_count": 166,
   "id": "3339b18a",
   "metadata": {},
   "outputs": [
    {
     "data": {
      "text/plain": [
       "['primeiro elemento', 5, 'nome', 7, 'oncoto', 'proncovo', 'ultimo elemento']"
      ]
     },
     "execution_count": 166,
     "metadata": {},
     "output_type": "execute_result"
    }
   ],
   "source": [
    "lista.insert(-1, 'proncovo')\n",
    "lista"
   ]
  },
  {
   "cell_type": "code",
   "execution_count": null,
   "id": "e07fdac1",
   "metadata": {},
   "outputs": [],
   "source": [
    "lista"
   ]
  },
  {
   "cell_type": "markdown",
   "id": "6105f866",
   "metadata": {},
   "source": [
    "Inseri um elemento errado na lista, e agora??? Você pode **redefinir** um elemento usando indexação.\n",
    "\n",
    "Através dos índices acessamos os elementos, certo? Desta forma basta acessar um elemento através de um índice e fazer uma nova atribuição."
   ]
  },
  {
   "cell_type": "code",
   "execution_count": 167,
   "id": "2c079046",
   "metadata": {},
   "outputs": [],
   "source": [
    "lista[1] = 'segundo elemento'"
   ]
  },
  {
   "cell_type": "code",
   "execution_count": 168,
   "id": "f3e4d7a6",
   "metadata": {},
   "outputs": [
    {
     "data": {
      "text/plain": [
       "['primeiro elemento',\n",
       " 'segundo elemento',\n",
       " 'nome',\n",
       " 7,\n",
       " 'oncoto',\n",
       " 'proncovo',\n",
       " 'ultimo elemento']"
      ]
     },
     "execution_count": 168,
     "metadata": {},
     "output_type": "execute_result"
    }
   ],
   "source": [
    "lista"
   ]
  },
  {
   "cell_type": "markdown",
   "id": "1bc603bb",
   "metadata": {},
   "source": [
    "Inseri um elemento errado na lista, e agora??? Você pode **redefinir** um elemento usando indexação.\n",
    "\n",
    "Através dos índices acessamos os elementos, certo? Desta forma basta acessar um elemento através de um índice e fazer uma nova atribuição."
   ]
  },
  {
   "cell_type": "code",
   "execution_count": null,
   "id": "26b32e5b",
   "metadata": {},
   "outputs": [],
   "source": []
  },
  {
   "cell_type": "code",
   "execution_count": null,
   "id": "a6b71912",
   "metadata": {},
   "outputs": [],
   "source": []
  },
  {
   "cell_type": "markdown",
   "id": "ef827033",
   "metadata": {},
   "source": [
    "Note no entanto que **se existir elementos repetidos, o remove() vai excluir a primeira aparição**\n",
    "Se passarmos o valor **4 inteiro**, ele vai excluir o elemento 4 e **não no índice 4**\n",
    "\n",
    "Mas podemos também fazer a **remoção utilizando índices, basta usar a função pop()**"
   ]
  },
  {
   "cell_type": "code",
   "execution_count": 169,
   "id": "5cce0835",
   "metadata": {},
   "outputs": [
    {
     "data": {
      "text/plain": [
       "'nome'"
      ]
     },
     "execution_count": 169,
     "metadata": {},
     "output_type": "execute_result"
    }
   ],
   "source": [
    "lista.pop(2)"
   ]
  },
  {
   "cell_type": "code",
   "execution_count": 170,
   "id": "2f3a6a1e",
   "metadata": {},
   "outputs": [],
   "source": [
    "lista.remove('proncovo')"
   ]
  },
  {
   "cell_type": "code",
   "execution_count": 171,
   "id": "ba418483",
   "metadata": {},
   "outputs": [
    {
     "data": {
      "text/plain": [
       "['primeiro elemento', 'segundo elemento', 7, 'oncoto', 'ultimo elemento']"
      ]
     },
     "execution_count": 171,
     "metadata": {},
     "output_type": "execute_result"
    }
   ],
   "source": [
    "lista"
   ]
  },
  {
   "cell_type": "code",
   "execution_count": 175,
   "id": "2c3c83f3",
   "metadata": {},
   "outputs": [],
   "source": [
    "lista.append('oncoto')"
   ]
  },
  {
   "cell_type": "code",
   "execution_count": 176,
   "id": "16f3995f",
   "metadata": {},
   "outputs": [
    {
     "data": {
      "text/plain": [
       "['primeiro elemento',\n",
       " 'segundo elemento',\n",
       " 7,\n",
       " 'oncoto',\n",
       " 'ultimo elemento',\n",
       " 'oncoto']"
      ]
     },
     "execution_count": 176,
     "metadata": {},
     "output_type": "execute_result"
    }
   ],
   "source": [
    "lista"
   ]
  },
  {
   "cell_type": "code",
   "execution_count": 177,
   "id": "53911d85",
   "metadata": {},
   "outputs": [],
   "source": [
    "lista.remove('oncoto')"
   ]
  },
  {
   "cell_type": "code",
   "execution_count": 178,
   "id": "df8a99cc",
   "metadata": {},
   "outputs": [
    {
     "data": {
      "text/plain": [
       "['primeiro elemento', 'segundo elemento', 7, 'ultimo elemento', 'oncoto']"
      ]
     },
     "execution_count": 178,
     "metadata": {},
     "output_type": "execute_result"
    }
   ],
   "source": [
    "lista"
   ]
  },
  {
   "cell_type": "code",
   "execution_count": 179,
   "id": "2534f3c3",
   "metadata": {},
   "outputs": [],
   "source": [
    "del lista[0]"
   ]
  },
  {
   "cell_type": "code",
   "execution_count": 180,
   "id": "28ceff11",
   "metadata": {},
   "outputs": [
    {
     "data": {
      "text/plain": [
       "['segundo elemento', 7, 'ultimo elemento', 'oncoto']"
      ]
     },
     "execution_count": 180,
     "metadata": {},
     "output_type": "execute_result"
    }
   ],
   "source": [
    "lista"
   ]
  },
  {
   "cell_type": "code",
   "execution_count": 181,
   "id": "c6b94a7b",
   "metadata": {},
   "outputs": [
    {
     "data": {
      "text/plain": [
       "['__add__',\n",
       " '__class__',\n",
       " '__class_getitem__',\n",
       " '__contains__',\n",
       " '__delattr__',\n",
       " '__delitem__',\n",
       " '__dir__',\n",
       " '__doc__',\n",
       " '__eq__',\n",
       " '__format__',\n",
       " '__ge__',\n",
       " '__getattribute__',\n",
       " '__getitem__',\n",
       " '__gt__',\n",
       " '__hash__',\n",
       " '__iadd__',\n",
       " '__imul__',\n",
       " '__init__',\n",
       " '__init_subclass__',\n",
       " '__iter__',\n",
       " '__le__',\n",
       " '__len__',\n",
       " '__lt__',\n",
       " '__mul__',\n",
       " '__ne__',\n",
       " '__new__',\n",
       " '__reduce__',\n",
       " '__reduce_ex__',\n",
       " '__repr__',\n",
       " '__reversed__',\n",
       " '__rmul__',\n",
       " '__setattr__',\n",
       " '__setitem__',\n",
       " '__sizeof__',\n",
       " '__str__',\n",
       " '__subclasshook__',\n",
       " 'append',\n",
       " 'clear',\n",
       " 'copy',\n",
       " 'count',\n",
       " 'extend',\n",
       " 'index',\n",
       " 'insert',\n",
       " 'pop',\n",
       " 'remove',\n",
       " 'reverse',\n",
       " 'sort']"
      ]
     },
     "execution_count": 181,
     "metadata": {},
     "output_type": "execute_result"
    }
   ],
   "source": [
    "dir(lista)"
   ]
  },
  {
   "cell_type": "markdown",
   "id": "9230942c",
   "metadata": {},
   "source": [
    "Note que ele remove a apresenta o elemento removido\n",
    "\n",
    "---"
   ]
  },
  {
   "cell_type": "markdown",
   "id": "57504b37",
   "metadata": {},
   "source": [
    "**Ordenação**"
   ]
  },
  {
   "cell_type": "markdown",
   "id": "e248300f",
   "metadata": {},
   "source": [
    "Vamos supor que temos uma lista com vários valores numéricos"
   ]
  },
  {
   "cell_type": "code",
   "execution_count": 182,
   "id": "d4855638",
   "metadata": {},
   "outputs": [],
   "source": [
    "lista_numeros = [234, 45, 6, -4, 13]"
   ]
  },
  {
   "cell_type": "markdown",
   "id": "620185b5",
   "metadata": {},
   "source": [
    "Se apresentarmos os valores com um print ela irá retornar os valores na **ordem que foi definido**"
   ]
  },
  {
   "cell_type": "code",
   "execution_count": 183,
   "id": "5d883714",
   "metadata": {},
   "outputs": [
    {
     "name": "stdout",
     "output_type": "stream",
     "text": [
      "[234, 45, 6, -4, 13]\n"
     ]
    }
   ],
   "source": [
    "print(lista_numeros)"
   ]
  },
  {
   "cell_type": "markdown",
   "id": "074bfb73",
   "metadata": {},
   "source": [
    "E se fosse necessário ordenar? Nessa caso podemos usar o **sorted**\n",
    "\n",
    "**Obs: o sorted() só pode ser utilizado em listas com o mesmo tipo de valores**"
   ]
  },
  {
   "cell_type": "code",
   "execution_count": 184,
   "id": "c7247f0e",
   "metadata": {},
   "outputs": [
    {
     "data": {
      "text/plain": [
       "[-4, 6, 13, 45, 234]"
      ]
     },
     "execution_count": 184,
     "metadata": {},
     "output_type": "execute_result"
    }
   ],
   "source": [
    "sorted(lista_numeros)"
   ]
  },
  {
   "cell_type": "code",
   "execution_count": 185,
   "id": "499be7d4",
   "metadata": {},
   "outputs": [
    {
     "data": {
      "text/plain": [
       "[234, 45, 13, 6, -4]"
      ]
     },
     "execution_count": 185,
     "metadata": {},
     "output_type": "execute_result"
    }
   ],
   "source": [
    "sorted(lista_numeros, reverse=True)"
   ]
  },
  {
   "cell_type": "markdown",
   "id": "dc2c5935",
   "metadata": {},
   "source": [
    "**Nesse caso, tipos numéricos (int e float) podem estar na mesma lista**"
   ]
  },
  {
   "cell_type": "code",
   "execution_count": 186,
   "id": "fb2ee7a4",
   "metadata": {},
   "outputs": [],
   "source": [
    "lista_numeros.append(3.14)"
   ]
  },
  {
   "cell_type": "code",
   "execution_count": 187,
   "id": "388f5b64",
   "metadata": {},
   "outputs": [
    {
     "data": {
      "text/plain": [
       "[234, 45, 6, -4, 13, 3.14]"
      ]
     },
     "execution_count": 187,
     "metadata": {},
     "output_type": "execute_result"
    }
   ],
   "source": [
    "lista_numeros"
   ]
  },
  {
   "cell_type": "code",
   "execution_count": 188,
   "id": "91832132",
   "metadata": {},
   "outputs": [
    {
     "data": {
      "text/plain": [
       "[-4, 3.14, 6, 13, 45, 234]"
      ]
     },
     "execution_count": 188,
     "metadata": {},
     "output_type": "execute_result"
    }
   ],
   "source": [
    "sorted(lista_numeros)"
   ]
  },
  {
   "cell_type": "markdown",
   "id": "61e280d2",
   "metadata": {},
   "source": [
    "**Listas de strings** também podem ser ordenadas, basta lembrar da **tabela ascii**"
   ]
  },
  {
   "cell_type": "code",
   "execution_count": 189,
   "id": "5ec32774",
   "metadata": {},
   "outputs": [
    {
     "data": {
      "text/plain": [
       "['Laranja', 'Maça', 'Abacaxi']"
      ]
     },
     "execution_count": 189,
     "metadata": {},
     "output_type": "execute_result"
    }
   ],
   "source": [
    "frutas = ['Laranja', 'Maça', 'Abacaxi']\n",
    "frutas"
   ]
  },
  {
   "cell_type": "code",
   "execution_count": 190,
   "id": "d155f52c",
   "metadata": {},
   "outputs": [
    {
     "data": {
      "text/plain": [
       "['Abacaxi', 'Laranja', 'Maça']"
      ]
     },
     "execution_count": 190,
     "metadata": {},
     "output_type": "execute_result"
    }
   ],
   "source": [
    "sorted(frutas)"
   ]
  },
  {
   "cell_type": "code",
   "execution_count": 191,
   "id": "3a695bf4",
   "metadata": {},
   "outputs": [
    {
     "data": {
      "text/plain": [
       "['Maça', 'Laranja', 'Abacaxi']"
      ]
     },
     "execution_count": 191,
     "metadata": {},
     "output_type": "execute_result"
    }
   ],
   "source": [
    "sorted(frutas, reverse=True)"
   ]
  },
  {
   "cell_type": "markdown",
   "id": "6069dfe3",
   "metadata": {},
   "source": [
    "Se você não quiser perder a ordem original da lista, **basta atribuir a lista original a uma variável, já que o sorted retorna a lista ordenada**."
   ]
  },
  {
   "cell_type": "code",
   "execution_count": 192,
   "id": "2b025ebc",
   "metadata": {},
   "outputs": [
    {
     "data": {
      "text/plain": [
       "['Abacaxi', 'Laranja', 'Maça']"
      ]
     },
     "execution_count": 192,
     "metadata": {},
     "output_type": "execute_result"
    }
   ],
   "source": [
    "frutas_ord = sorted(frutas)\n",
    "frutas_ord"
   ]
  },
  {
   "cell_type": "code",
   "execution_count": 194,
   "id": "38cd0811",
   "metadata": {},
   "outputs": [
    {
     "data": {
      "text/plain": [
       "['Maça', 'Laranja', 'Abacaxi']"
      ]
     },
     "execution_count": 194,
     "metadata": {},
     "output_type": "execute_result"
    }
   ],
   "source": [
    "sorted(frutas, key=len)"
   ]
  },
  {
   "cell_type": "code",
   "execution_count": 195,
   "id": "26bc998a",
   "metadata": {},
   "outputs": [
    {
     "data": {
      "text/plain": [
       "['Laranja', 'Abacaxi', 'Maça']"
      ]
     },
     "execution_count": 195,
     "metadata": {},
     "output_type": "execute_result"
    }
   ],
   "source": [
    "sorted(frutas, key=max)"
   ]
  },
  {
   "cell_type": "code",
   "execution_count": null,
   "id": "bb621c56",
   "metadata": {},
   "outputs": [],
   "source": []
  },
  {
   "cell_type": "markdown",
   "id": "2cf7541a",
   "metadata": {},
   "source": [
    "Podemos **inverter a ordem dos elementos** usando reverse"
   ]
  },
  {
   "cell_type": "code",
   "execution_count": 193,
   "id": "113ae0c8",
   "metadata": {},
   "outputs": [
    {
     "data": {
      "text/plain": [
       "[5, 4, 3, 2, 1]"
      ]
     },
     "execution_count": 193,
     "metadata": {},
     "output_type": "execute_result"
    }
   ],
   "source": [
    "teste = [1,2,3,4,5]\n",
    "teste.reverse()\n",
    "teste"
   ]
  },
  {
   "cell_type": "code",
   "execution_count": null,
   "id": "c5b7fa8e",
   "metadata": {},
   "outputs": [],
   "source": []
  },
  {
   "cell_type": "markdown",
   "id": "51a73a34",
   "metadata": {},
   "source": [
    "E se eu **primeiro usar o sorted e depois inverter? Nesse caso teremos uma lista decrescente**"
   ]
  },
  {
   "cell_type": "code",
   "execution_count": 196,
   "id": "9b5b0692",
   "metadata": {},
   "outputs": [
    {
     "name": "stdout",
     "output_type": "stream",
     "text": [
      "[87, 12, 10, 5, 3]\n"
     ]
    }
   ],
   "source": [
    "teste = [5, 12, 87, 3, 10]\n",
    "nova_lista = sorted(teste)\n",
    "nova_lista.reverse()\n",
    "print(nova_lista)"
   ]
  },
  {
   "cell_type": "code",
   "execution_count": 201,
   "id": "ae116557",
   "metadata": {},
   "outputs": [],
   "source": [
    "teste = [5, 12, 87, 3, 10]\n",
    "teste.sort(reverse=True)"
   ]
  },
  {
   "cell_type": "code",
   "execution_count": 202,
   "id": "efa8a9e1",
   "metadata": {},
   "outputs": [
    {
     "data": {
      "text/plain": [
       "[87, 12, 10, 5, 3]"
      ]
     },
     "execution_count": 202,
     "metadata": {},
     "output_type": "execute_result"
    }
   ],
   "source": [
    "teste"
   ]
  },
  {
   "cell_type": "markdown",
   "id": "bb667ea3",
   "metadata": {},
   "source": [
    "O mesmo vale para **strings**"
   ]
  },
  {
   "cell_type": "code",
   "execution_count": 197,
   "id": "35e7b22f",
   "metadata": {},
   "outputs": [],
   "source": [
    "frutas.reverse()"
   ]
  },
  {
   "cell_type": "code",
   "execution_count": 198,
   "id": "d9c9331a",
   "metadata": {},
   "outputs": [
    {
     "data": {
      "text/plain": [
       "['Abacaxi', 'Maça', 'Laranja']"
      ]
     },
     "execution_count": 198,
     "metadata": {},
     "output_type": "execute_result"
    }
   ],
   "source": [
    "frutas"
   ]
  },
  {
   "cell_type": "code",
   "execution_count": null,
   "id": "ba312352",
   "metadata": {},
   "outputs": [],
   "source": []
  },
  {
   "cell_type": "markdown",
   "id": "72772371",
   "metadata": {},
   "source": [
    "Podemos ainda fazer isso de outra maneira"
   ]
  },
  {
   "cell_type": "code",
   "execution_count": 203,
   "id": "9af9bbc8",
   "metadata": {},
   "outputs": [],
   "source": [
    "notas = [8.5, 9.2, 4.5, 6, 8, 3.2, 7.9]"
   ]
  },
  {
   "cell_type": "code",
   "execution_count": 204,
   "id": "cba7d0ad",
   "metadata": {},
   "outputs": [
    {
     "data": {
      "text/plain": [
       "[9.2, 6, 3.2]"
      ]
     },
     "execution_count": 204,
     "metadata": {},
     "output_type": "execute_result"
    }
   ],
   "source": [
    "# Do elemento do índice 1 até o último elemento, de dois em dois\n",
    "notas[1::2]"
   ]
  },
  {
   "cell_type": "code",
   "execution_count": 205,
   "id": "adff34fa",
   "metadata": {},
   "outputs": [
    {
     "data": {
      "text/plain": [
       "[9.2, 8.5, 8, 7.9, 6, 4.5, 3.2]"
      ]
     },
     "execution_count": 205,
     "metadata": {},
     "output_type": "execute_result"
    }
   ],
   "source": [
    "notas_ordem = sorted(notas)\n",
    "notas_ordem[::-1]"
   ]
  },
  {
   "cell_type": "code",
   "execution_count": null,
   "id": "097034ef",
   "metadata": {},
   "outputs": [],
   "source": []
  },
  {
   "cell_type": "code",
   "execution_count": null,
   "id": "4b702806",
   "metadata": {},
   "outputs": [],
   "source": []
  },
  {
   "cell_type": "markdown",
   "id": "8a44fd93",
   "metadata": {},
   "source": [
    "**Algumas outras funções**"
   ]
  },
  {
   "cell_type": "markdown",
   "id": "2678ee47",
   "metadata": {},
   "source": [
    "Exite um método que nos retorna o índice de um determinado elemento"
   ]
  },
  {
   "cell_type": "code",
   "execution_count": null,
   "id": "df089fd4",
   "metadata": {},
   "outputs": [],
   "source": []
  },
  {
   "cell_type": "code",
   "execution_count": null,
   "id": "b1535998",
   "metadata": {},
   "outputs": [],
   "source": []
  },
  {
   "cell_type": "code",
   "execution_count": null,
   "id": "f5a65bfa",
   "metadata": {},
   "outputs": [],
   "source": []
  },
  {
   "cell_type": "markdown",
   "id": "2f4c8bb1",
   "metadata": {},
   "source": [
    "Além disso, temos outros métodos onde podemos retornar algumas **propriedades das listas**"
   ]
  },
  {
   "cell_type": "code",
   "execution_count": 206,
   "id": "4421c9eb",
   "metadata": {},
   "outputs": [],
   "source": [
    "notas = [8.5, 9.2, 4.5, 6, 8, 3.2, 7.9]"
   ]
  },
  {
   "cell_type": "markdown",
   "id": "c3b39635",
   "metadata": {},
   "source": [
    "**Encontrar o maior elemento**"
   ]
  },
  {
   "cell_type": "code",
   "execution_count": 207,
   "id": "d987b1ef",
   "metadata": {},
   "outputs": [
    {
     "data": {
      "text/plain": [
       "9.2"
      ]
     },
     "execution_count": 207,
     "metadata": {},
     "output_type": "execute_result"
    }
   ],
   "source": [
    "max(notas)"
   ]
  },
  {
   "cell_type": "markdown",
   "id": "981f2cf7",
   "metadata": {},
   "source": [
    "**Encontrar o menor elemento**"
   ]
  },
  {
   "cell_type": "code",
   "execution_count": 208,
   "id": "c0dbb37e",
   "metadata": {},
   "outputs": [
    {
     "data": {
      "text/plain": [
       "3.2"
      ]
     },
     "execution_count": 208,
     "metadata": {},
     "output_type": "execute_result"
    }
   ],
   "source": [
    "min(notas)"
   ]
  },
  {
   "cell_type": "markdown",
   "id": "1010704e",
   "metadata": {},
   "source": [
    "**Somar todos elementos da lista**"
   ]
  },
  {
   "cell_type": "code",
   "execution_count": 209,
   "id": "8e6382fc",
   "metadata": {},
   "outputs": [
    {
     "data": {
      "text/plain": [
       "47.300000000000004"
      ]
     },
     "execution_count": 209,
     "metadata": {},
     "output_type": "execute_result"
    }
   ],
   "source": [
    "sum(notas)"
   ]
  },
  {
   "cell_type": "markdown",
   "id": "739d44d8",
   "metadata": {},
   "source": [
    "### Exercício rápido\n",
    "\n",
    "Peça ao usuário para inserir um determinado número de notas. Grave essas notas em uma lista e depois imprima a média."
   ]
  },
  {
   "cell_type": "code",
   "execution_count": 210,
   "id": "e754b119",
   "metadata": {},
   "outputs": [
    {
     "name": "stdout",
     "output_type": "stream",
     "text": [
      "Quantidade de notas a cadastrar: 4\n",
      "Digite a nota 1: 9.7\n",
      "Digite a nota 2: 3.4\n",
      "Digite a nota 3: 10\n",
      "Digite a nota 4: 7.4\n",
      "Média das notas: 7.625\n"
     ]
    }
   ],
   "source": [
    "lista_notas = []\n",
    "controladora = 1\n",
    "quantidade_notas = int(input('Quantidade de notas a cadastrar: '))\n",
    "\n",
    "while controladora <= quantidade_notas:\n",
    "    nota = float(input(f'Digite a nota {controladora}: '))\n",
    "    \n",
    "    lista_notas.append(nota)\n",
    "    controladora += 1\n",
    "    \n",
    "media = sum(lista_notas)/len(lista_notas)\n",
    "print(f'Média das notas: {media}')"
   ]
  },
  {
   "cell_type": "markdown",
   "id": "57890b2b",
   "metadata": {},
   "source": [
    "## Laços de repetição (for)"
   ]
  },
  {
   "cell_type": "markdown",
   "id": "a3156c13",
   "metadata": {},
   "source": [
    "Na última aula, vimos como usar o laço de repetição \"while\" para repetir operações em Python\n",
    "\n",
    "Agora, veremos um outro laço, o **for**\n",
    "\n",
    "Mas, antes de vermos como este laço pode ser utilizado para **repetir operações**, é interessante entender o `for` como sendo, na realidade, um operador utilizado para **percorrer elementos de uma lista** (na verdade, de qualquer objeto **iterável**. Conheceremos outros objetos assim mais pra frente...)\n",
    "\n",
    "A estrutura do for é:\n",
    "\n",
    "```python\n",
    "for i in range(N):\n",
    "    operacao_repetida\n",
    "```\n",
    "\n",
    "```python\n",
    "for item in lista:\n",
    "    operacao_feita_pra_cada_item\n",
    "```"
   ]
  },
  {
   "cell_type": "markdown",
   "id": "e3f8e807",
   "metadata": {},
   "source": [
    "Vejamos um exemplo parecido com o uso do while. **Aqui usando o método range()**"
   ]
  },
  {
   "cell_type": "code",
   "execution_count": 211,
   "id": "e9033f51",
   "metadata": {},
   "outputs": [
    {
     "name": "stdout",
     "output_type": "stream",
     "text": [
      "Olá Mundo!\n",
      "Olá Mundo!\n",
      "Olá Mundo!\n",
      "Olá Mundo!\n"
     ]
    }
   ],
   "source": [
    "for e in range(4):\n",
    "    print('Olá Mundo!')"
   ]
  },
  {
   "cell_type": "markdown",
   "id": "056b4df6",
   "metadata": {},
   "source": [
    "Mas o que é o **in**?\n",
    "\n",
    "Como se tivéssemos perguntando se um elemento está na lista ou na sequência numérica (range)"
   ]
  },
  {
   "cell_type": "code",
   "execution_count": 212,
   "id": "38288ef0",
   "metadata": {},
   "outputs": [
    {
     "data": {
      "text/plain": [
       "True"
      ]
     },
     "execution_count": 212,
     "metadata": {},
     "output_type": "execute_result"
    }
   ],
   "source": [
    "lista = [4, 3, 2, 'nome']\n",
    "'nome' in lista"
   ]
  },
  {
   "cell_type": "code",
   "execution_count": null,
   "id": "d96febea",
   "metadata": {},
   "outputs": [],
   "source": []
  },
  {
   "cell_type": "markdown",
   "id": "3be47a8b",
   "metadata": {},
   "source": [
    "Lembrando do **not**"
   ]
  },
  {
   "cell_type": "code",
   "execution_count": 214,
   "id": "1a4e7881",
   "metadata": {},
   "outputs": [
    {
     "data": {
      "text/plain": [
       "True"
      ]
     },
     "execution_count": 214,
     "metadata": {},
     "output_type": "execute_result"
    }
   ],
   "source": [
    "lista = [4, 3, 2, 'nome']\n",
    "'fulano' not in lista"
   ]
  },
  {
   "cell_type": "markdown",
   "id": "cfa39580",
   "metadata": {},
   "source": [
    "A forma **mais comum de utilizar o for é sobre elementos iteráveis! Já conhecemos um deles, que inclusive é bastante utilizado. AS LISTAS!**"
   ]
  },
  {
   "cell_type": "code",
   "execution_count": 215,
   "id": "6151d581",
   "metadata": {},
   "outputs": [
    {
     "name": "stdout",
     "output_type": "stream",
     "text": [
      "6\n",
      "3.14\n",
      "7\n",
      "9\n",
      "10\n",
      "string\n",
      "True\n"
     ]
    }
   ],
   "source": [
    "lista = [6, 3.14, 7, 9, 10, 'string', True]\n",
    "\n",
    "for item in lista:\n",
    "    print(item)"
   ]
  },
  {
   "cell_type": "code",
   "execution_count": 222,
   "id": "784f1288",
   "metadata": {},
   "outputs": [
    {
     "name": "stdout",
     "output_type": "stream",
     "text": [
      "6\n",
      "3.14\n",
      "7\n",
      "9\n",
      "10\n",
      "string\n"
     ]
    }
   ],
   "source": [
    "lista = [6, 3.14, 7, 9, 10, 'string']\n",
    "\n",
    "for item in lista:\n",
    "    print(item)"
   ]
  },
  {
   "cell_type": "code",
   "execution_count": 223,
   "id": "e998c42d",
   "metadata": {},
   "outputs": [
    {
     "data": {
      "text/plain": [
       "'string'"
      ]
     },
     "execution_count": 223,
     "metadata": {},
     "output_type": "execute_result"
    }
   ],
   "source": [
    "item"
   ]
  },
  {
   "cell_type": "markdown",
   "id": "39aea0b2",
   "metadata": {},
   "source": [
    "__Um exemplo de uso...__\n",
    "\n",
    "Separando números positivos e negativos de uma lista de números"
   ]
  },
  {
   "cell_type": "code",
   "execution_count": 224,
   "id": "432a6d0b",
   "metadata": {},
   "outputs": [
    {
     "name": "stdout",
     "output_type": "stream",
     "text": [
      "Positivos: [2, 8, 15]\n",
      "Negativos: [-4, -10, -9, -11]\n"
     ]
    }
   ],
   "source": [
    "numeros = [-4, 2, 8, -10, 15, -9, -11, 0]\n",
    "pos = []\n",
    "neg = []\n",
    "\n",
    "for numero in numeros:\n",
    "    if numero<0:\n",
    "        neg.append(numero)\n",
    "    elif numero>0:\n",
    "        pos.append(numero)\n",
    "        \n",
    "print(f'Positivos: {pos}')\n",
    "print(f'Negativos: {neg}')"
   ]
  },
  {
   "cell_type": "code",
   "execution_count": null,
   "id": "723d188e",
   "metadata": {},
   "outputs": [],
   "source": []
  },
  {
   "cell_type": "markdown",
   "id": "9d8fb2d5",
   "metadata": {},
   "source": [
    "O \"for\" percorre todos os elementos de uma lista, a não ser que o \"break\" seja utilizado -- esse comando quebra o for, ou seja, os elementos param de ser percorridos"
   ]
  },
  {
   "cell_type": "code",
   "execution_count": 227,
   "id": "9e014ca5",
   "metadata": {},
   "outputs": [
    {
     "name": "stdout",
     "output_type": "stream",
     "text": [
      "Encontrei um zero\n",
      "Positivos: [2, 8, 15]\n",
      "Negativos: [-4, -10, -9, -11]\n"
     ]
    }
   ],
   "source": [
    "numeros = [-4, 2, 8, -10, 15, 0, -9, -11]\n",
    "pos = []\n",
    "neg = []\n",
    "\n",
    "for numero in numeros:\n",
    "    if numero<0:\n",
    "        neg.append(numero)\n",
    "    elif numero>0:\n",
    "        pos.append(numero)\n",
    "    else:\n",
    "        print('Encontrei um zero')\n",
    "        break\n",
    "        \n",
    "print(f'Positivos: {pos}')\n",
    "print(f'Negativos: {neg}')"
   ]
  },
  {
   "cell_type": "markdown",
   "id": "ae46e334",
   "metadata": {},
   "source": [
    "Podemos fazer operações com os elementos de umas lista e usá-los pra preencher outra lista:"
   ]
  },
  {
   "cell_type": "code",
   "execution_count": 228,
   "id": "0f6e713f",
   "metadata": {},
   "outputs": [
    {
     "name": "stdout",
     "output_type": "stream",
     "text": [
      "[-8, 4, 16, -20, 30, -18, -22, 0]\n"
     ]
    }
   ],
   "source": [
    "numeros = [-4, 2, 8, -10, 15, -9, -11, 0]\n",
    "numeros_dobrados = []\n",
    "\n",
    "for numero in numeros:\n",
    "    numeros_dobrados.append(numero * 2)\n",
    "    \n",
    "print(numeros_dobrados)"
   ]
  },
  {
   "cell_type": "code",
   "execution_count": null,
   "id": "c918b522",
   "metadata": {},
   "outputs": [],
   "source": []
  },
  {
   "cell_type": "code",
   "execution_count": 232,
   "id": "fb736f35",
   "metadata": {},
   "outputs": [
    {
     "name": "stdout",
     "output_type": "stream",
     "text": [
      "ii\n",
      "tt\n",
      "ee\n",
      "rr\n",
      "aa\n",
      "cc\n",
      "aa\n",
      "oo\n"
     ]
    }
   ],
   "source": [
    "palavra = 'iteracao'\n",
    "\n",
    "for letra in palavra:\n",
    "    print(letra*2)"
   ]
  },
  {
   "cell_type": "code",
   "execution_count": 230,
   "id": "122c3b53",
   "metadata": {},
   "outputs": [
    {
     "data": {
      "text/plain": [
       "['João', 'Maria', 'Matheus']"
      ]
     },
     "execution_count": 230,
     "metadata": {},
     "output_type": "execute_result"
    }
   ],
   "source": [
    "nomes"
   ]
  },
  {
   "cell_type": "code",
   "execution_count": 231,
   "id": "13cd5ec2",
   "metadata": {},
   "outputs": [
    {
     "name": "stdout",
     "output_type": "stream",
     "text": [
      "João\n",
      "Maria\n",
      "Matheus\n"
     ]
    }
   ],
   "source": [
    "for nome in nomes:\n",
    "    print(nome)"
   ]
  },
  {
   "cell_type": "markdown",
   "id": "c0f29e50",
   "metadata": {},
   "source": [
    "**Exercício rápido.  Faça um programa em Python que leia um valor inteiro e mostre a tabuada de 1 a 10 do valor lido usando `for`.**"
   ]
  },
  {
   "cell_type": "code",
   "execution_count": 239,
   "id": "e5efae3c",
   "metadata": {},
   "outputs": [
    {
     "name": "stdout",
     "output_type": "stream",
     "text": [
      "Informe o número: 5\n",
      "Tabuada de 5: \n",
      "5 X 1 = 5\n",
      "5 X 2 = 10\n",
      "5 X 3 = 15\n",
      "5 X 4 = 20\n",
      "5 X 5 = 25\n",
      "5 X 6 = 30\n",
      "5 X 7 = 35\n",
      "5 X 8 = 40\n",
      "5 X 9 = 45\n",
      "5 X 10 = 50\n"
     ]
    }
   ],
   "source": [
    "numero = int(input('Informe o número: '))\n",
    "\n",
    "print(f'Tabuada de {numero}: ')\n",
    "\n",
    "for i in range(1, 11):\n",
    "    print(f'{numero} X {i} = {numero*i}')"
   ]
  },
  {
   "cell_type": "code",
   "execution_count": null,
   "id": "504c82a0",
   "metadata": {},
   "outputs": [],
   "source": []
  },
  {
   "cell_type": "markdown",
   "id": "8acaef8f",
   "metadata": {},
   "source": [
    "## Compreensão de listas"
   ]
  },
  {
   "cell_type": "markdown",
   "id": "82e4a439",
   "metadata": {},
   "source": [
    "Uma estrutura extremamente útil em python é a __compreensão de listas__ (list comprehension), com a qual é possível construir listas novas a partir de outras listas de forma bem condensada!\n",
    "\n",
    "A sintaxe é: \n",
    "\n",
    "```python\n",
    "[operacao_sobre_os_items for item in lista_base]\n",
    "```"
   ]
  },
  {
   "cell_type": "markdown",
   "id": "cfebcc14",
   "metadata": {},
   "source": [
    "Por exemplo, é possível criar a mesma \"lista_dobro\" definida acima, de forma muito mais condensada:"
   ]
  },
  {
   "cell_type": "code",
   "execution_count": 241,
   "id": "da6086c3",
   "metadata": {},
   "outputs": [
    {
     "data": {
      "text/plain": [
       "[-22, -20, -18, -8, 0, 4, 16, 30]"
      ]
     },
     "execution_count": 241,
     "metadata": {},
     "output_type": "execute_result"
    }
   ],
   "source": [
    "numeros = [-4, 2, 8, -10, 0, 15, -9, -11]\n",
    "\n",
    "numeros_dobrados = sorted([numero*2 for numero in numeros])\n",
    "numeros_dobrados"
   ]
  },
  {
   "cell_type": "markdown",
   "id": "44dad487",
   "metadata": {},
   "source": [
    "Também é possível construir uma lista usando compreensão de listas com base em alguma estrutura condicional!\n",
    "\n",
    "Se você for utilizar apenas o if, a sintaxe é:\n",
    "\n",
    "```python\n",
    "[operacao_sobre_os_items for item in lista_base if condicao]\n",
    "```"
   ]
  },
  {
   "cell_type": "code",
   "execution_count": 242,
   "id": "d808ca0b",
   "metadata": {},
   "outputs": [
    {
     "data": {
      "text/plain": [
       "[4, 16, 30]"
      ]
     },
     "execution_count": 242,
     "metadata": {},
     "output_type": "execute_result"
    }
   ],
   "source": [
    "numeros = [-4, 2, 8, -10, 0, 15, -9, -11]\n",
    "\n",
    "numeros_dobrados = [numero*2 for numero in numeros if numero>0]\n",
    "numeros_dobrados"
   ]
  },
  {
   "cell_type": "markdown",
   "id": "acd24be3",
   "metadata": {},
   "source": [
    "Caso você queira utilizar também o else como parte da estrutura condicional, a sintaxe muda um pouco:\n",
    "\n",
    "```python\n",
    "[valor_caso_if if condicao else valor_caso_else for item in lista_base]\n",
    "```"
   ]
  },
  {
   "cell_type": "code",
   "execution_count": 243,
   "id": "41930037",
   "metadata": {},
   "outputs": [
    {
     "data": {
      "text/plain": [
       "[-4, 4, 16, -10, 0, 30, -9, -11]"
      ]
     },
     "execution_count": 243,
     "metadata": {},
     "output_type": "execute_result"
    }
   ],
   "source": [
    "# também é possível definir o else.\n",
    "# mas aí a estrutura muda um pouco: primeiro as condições, depois o for\n",
    "\n",
    "numeros = [-4, 2, 8, -10, 0, 15, -9, -11]\n",
    "\n",
    "numeros_dobrados = [numero*2 if numero > 0 else numero for numero in numeros]\n",
    "numeros_dobrados"
   ]
  },
  {
   "cell_type": "code",
   "execution_count": 249,
   "id": "80ddfe6b",
   "metadata": {},
   "outputs": [
    {
     "data": {
      "text/plain": [
       "['araxa', 'arcos', 'araguari', 'abaete']"
      ]
     },
     "execution_count": 249,
     "metadata": {},
     "output_type": "execute_result"
    }
   ],
   "source": [
    "lista_cidades = ['formiga', \n",
    "                 'araxa', \n",
    "                 'arcos', \n",
    "                 'araguari', \n",
    "                 'lavras', \n",
    "                 'candeias',\n",
    "                 'abaete',\n",
    "                 'vicosa', \n",
    "                 'curvelo']\n",
    "\n",
    "cidades_a = []\n",
    "\n",
    "for cidade in lista_cidades:\n",
    "    if cidade[0]=='a':\n",
    "        cidades_a.append(cidade)\n",
    "cidades_a"
   ]
  },
  {
   "cell_type": "code",
   "execution_count": 250,
   "id": "fe1c6fac",
   "metadata": {},
   "outputs": [
    {
     "data": {
      "text/plain": [
       "['araxa', 'arcos', 'araguari', 'abaete']"
      ]
     },
     "execution_count": 250,
     "metadata": {},
     "output_type": "execute_result"
    }
   ],
   "source": [
    "lista_cidades = ['formiga', \n",
    "                 'araxa', \n",
    "                 'arcos', \n",
    "                 'araguari', \n",
    "                 'lavras', \n",
    "                 'candeias',\n",
    "                 'abaete',\n",
    "                 'vicosa', \n",
    "                 'curvelo']\n",
    "              #\\/a ser retornado\n",
    "cidades_a = [cidade for cidade in lista_cidades if cidade[0]=='a']\n",
    "cidades_a"
   ]
  },
  {
   "cell_type": "code",
   "execution_count": 254,
   "id": "19e3ae9d",
   "metadata": {},
   "outputs": [
    {
     "data": {
      "text/plain": [
       "['Araxa', 'Arcos', 'Araguari', 'Aguas De Lindoia', 'Abaete']"
      ]
     },
     "execution_count": 254,
     "metadata": {},
     "output_type": "execute_result"
    }
   ],
   "source": [
    "lista_cidades = ['formiga', \n",
    "                 'araxa', \n",
    "                 'arcos', \n",
    "                 'araguari',\n",
    "                 'aguas de lindoia',\n",
    "                 'lavras', \n",
    "                 'candeias',\n",
    "                 'abaete',\n",
    "                 'vicosa', \n",
    "                 'curvelo']\n",
    "\n",
    "cidades_a = [cidade.title() for cidade in lista_cidades if cidade[0]=='a']\n",
    "cidades_a"
   ]
  },
  {
   "cell_type": "code",
   "execution_count": 255,
   "id": "82ad4c17",
   "metadata": {},
   "outputs": [
    {
     "data": {
      "text/plain": [
       "['Araxa', 'Arcos', 'Araguari', 'Aguas de lindoia', 'Abaete']"
      ]
     },
     "execution_count": 255,
     "metadata": {},
     "output_type": "execute_result"
    }
   ],
   "source": [
    "lista_cidades = ['formiga', \n",
    "                 'araxa', \n",
    "                 'arcos', \n",
    "                 'araguari',\n",
    "                 'aguas de lindoia',\n",
    "                 'lavras', \n",
    "                 'candeias',\n",
    "                 'abaete',\n",
    "                 'vicosa', \n",
    "                 'curvelo']\n",
    "\n",
    "cidades_a = [cidade.capitalize() for cidade in lista_cidades if cidade[0]=='a']\n",
    "cidades_a"
   ]
  },
  {
   "cell_type": "code",
   "execution_count": 256,
   "id": "8636e1e7",
   "metadata": {},
   "outputs": [
    {
     "data": {
      "text/plain": [
       "['ARAXA', 'ARCOS', 'ARAGUARI', 'AGUAS DE LINDOIA', 'ABAETE']"
      ]
     },
     "execution_count": 256,
     "metadata": {},
     "output_type": "execute_result"
    }
   ],
   "source": [
    "lista_cidades = ['formiga', \n",
    "                 'araxa', \n",
    "                 'arcos', \n",
    "                 'araguari',\n",
    "                 'aguas de lindoia',\n",
    "                 'lavras', \n",
    "                 'candeias',\n",
    "                 'abaete',\n",
    "                 'vicosa', \n",
    "                 'curvelo']\n",
    "\n",
    "cidades_a = [cidade.upper() for cidade in lista_cidades if cidade[0]=='a']\n",
    "cidades_a"
   ]
  },
  {
   "cell_type": "code",
   "execution_count": 257,
   "id": "3a3fd2ed",
   "metadata": {},
   "outputs": [
    {
     "data": {
      "text/plain": [
       "['A', 'R', 'A', 'X', 'A']"
      ]
     },
     "execution_count": 257,
     "metadata": {},
     "output_type": "execute_result"
    }
   ],
   "source": [
    "list('ARAXA')"
   ]
  },
  {
   "cell_type": "markdown",
   "id": "4b21d3e5",
   "metadata": {},
   "source": [
    "**Exercício Rápido: Calcule a potência de 2 com expoente de 1 até a 10 e guarde em uma lista**"
   ]
  },
  {
   "cell_type": "code",
   "execution_count": 258,
   "id": "811717ca",
   "metadata": {},
   "outputs": [
    {
     "data": {
      "text/plain": [
       "[2, 4, 8, 16, 32, 64, 128, 256, 512, 1024]"
      ]
     },
     "execution_count": 258,
     "metadata": {},
     "output_type": "execute_result"
    }
   ],
   "source": [
    "pot_2 = [2**n for n in range(1,11)]\n",
    "pot_2"
   ]
  },
  {
   "cell_type": "markdown",
   "id": "123668c6",
   "metadata": {},
   "source": [
    "## Strings"
   ]
  },
  {
   "cell_type": "markdown",
   "id": "a338e7ee",
   "metadata": {},
   "source": [
    "Desde a primeira aula, temos trabalhado com strings, que, como vimos, representam **dados textuais**\n",
    "\n",
    "Vamos, agora, olhar pra strings um pouco mais a fundo, e aprender algumas funções para trabalharmos com strings"
   ]
  },
  {
   "cell_type": "markdown",
   "id": "7bfd56f5",
   "metadata": {},
   "source": [
    "Uma string nada mais é do que uma **coleção de caracteres**!\n",
    "\n",
    "Assim, podemos acessar caracteres específicos ou então um intervalo de caracteres de uma string, como se fosse uma lista!\n",
    "\n",
    "**OBS.: Para strings também, o índice começa em 0, e podemos usar índices negativos!**"
   ]
  },
  {
   "cell_type": "code",
   "execution_count": 259,
   "id": "cb79c296",
   "metadata": {},
   "outputs": [
    {
     "data": {
      "text/plain": [
       "str"
      ]
     },
     "execution_count": 259,
     "metadata": {},
     "output_type": "execute_result"
    }
   ],
   "source": [
    "palavra = 'pindamonhangaba'\n",
    "type(palavra)"
   ]
  },
  {
   "cell_type": "code",
   "execution_count": 260,
   "id": "bfae6efa",
   "metadata": {},
   "outputs": [
    {
     "data": {
      "text/plain": [
       "'b'"
      ]
     },
     "execution_count": 260,
     "metadata": {},
     "output_type": "execute_result"
    }
   ],
   "source": [
    "palavra[-2]"
   ]
  },
  {
   "cell_type": "code",
   "execution_count": 261,
   "id": "e8d3b412",
   "metadata": {},
   "outputs": [
    {
     "data": {
      "text/plain": [
       "'p'"
      ]
     },
     "execution_count": 261,
     "metadata": {},
     "output_type": "execute_result"
    }
   ],
   "source": [
    "palavra[0]"
   ]
  },
  {
   "cell_type": "code",
   "execution_count": 262,
   "id": "26045436",
   "metadata": {},
   "outputs": [
    {
     "data": {
      "text/plain": [
       "15"
      ]
     },
     "execution_count": 262,
     "metadata": {},
     "output_type": "execute_result"
    }
   ],
   "source": [
    "len(palavra)"
   ]
  },
  {
   "cell_type": "markdown",
   "id": "f6d05f5e",
   "metadata": {},
   "source": [
    "Podemos também percorrer cada caractere da string com o `for` -- strings são objetos **iteráveis**:"
   ]
  },
  {
   "cell_type": "code",
   "execution_count": 263,
   "id": "4023d6b9",
   "metadata": {},
   "outputs": [
    {
     "name": "stdout",
     "output_type": "stream",
     "text": [
      "p\n",
      "i\n",
      "n\n",
      "d\n",
      "a\n",
      "m\n",
      "o\n",
      "n\n",
      "h\n",
      "a\n",
      "n\n",
      "g\n",
      "a\n",
      "b\n",
      "a\n"
     ]
    }
   ],
   "source": [
    "for char in palavra:\n",
    "    print(char)"
   ]
  },
  {
   "cell_type": "markdown",
   "id": "5873ef1f",
   "metadata": {},
   "source": [
    "Apesar de se parecer com uma lista, a string não tem exatamente as propriedades de uma lista. Por exemplo, **não podemos alterar** caracteres individualmente:"
   ]
  },
  {
   "cell_type": "code",
   "execution_count": 265,
   "id": "e5f7c65c",
   "metadata": {},
   "outputs": [
    {
     "ename": "TypeError",
     "evalue": "'str' object does not support item assignment",
     "output_type": "error",
     "traceback": [
      "\u001b[1;31m---------------------------------------------------------------------------\u001b[0m",
      "\u001b[1;31mTypeError\u001b[0m                                 Traceback (most recent call last)",
      "\u001b[1;32m~\\AppData\\Local\\Temp/ipykernel_8820/2711434809.py\u001b[0m in \u001b[0;36m<module>\u001b[1;34m\u001b[0m\n\u001b[0;32m      1\u001b[0m \u001b[0mcidade\u001b[0m \u001b[1;33m=\u001b[0m \u001b[1;34m'formiga'\u001b[0m\u001b[1;33m\u001b[0m\u001b[1;33m\u001b[0m\u001b[0m\n\u001b[0;32m      2\u001b[0m \u001b[1;33m\u001b[0m\u001b[0m\n\u001b[1;32m----> 3\u001b[1;33m \u001b[0mcidade\u001b[0m\u001b[1;33m[\u001b[0m\u001b[1;36m3\u001b[0m\u001b[1;33m]\u001b[0m \u001b[1;33m=\u001b[0m \u001b[1;34m'e'\u001b[0m\u001b[1;33m\u001b[0m\u001b[1;33m\u001b[0m\u001b[0m\n\u001b[0m",
      "\u001b[1;31mTypeError\u001b[0m: 'str' object does not support item assignment"
     ]
    }
   ],
   "source": [
    "cidade = 'formiga'\n",
    "\n",
    "cidade[3] = 'e'"
   ]
  },
  {
   "cell_type": "markdown",
   "id": "f92e0ebd",
   "metadata": {},
   "source": [
    "Mas nós conseguimos **alterar caracteres (ou palavras)** com o método \"replace()\":"
   ]
  },
  {
   "cell_type": "code",
   "execution_count": 266,
   "id": "cf6265fe",
   "metadata": {},
   "outputs": [
    {
     "data": {
      "text/plain": [
       "'ebecete'"
      ]
     },
     "execution_count": 266,
     "metadata": {},
     "output_type": "execute_result"
    }
   ],
   "source": [
    "palavra_nova = 'abacate'\n",
    "\n",
    "palavra_nova.replace('a', 'e')"
   ]
  },
  {
   "cell_type": "markdown",
   "id": "ea78cf3f",
   "metadata": {},
   "source": [
    "Podemos **transformar uma string em uma lista de caracteres**, explicitamente, usando a função \"list()\""
   ]
  },
  {
   "cell_type": "code",
   "execution_count": 267,
   "id": "1e3bfefe",
   "metadata": {},
   "outputs": [],
   "source": [
    "lista_da_palavra = list(palavra)"
   ]
  },
  {
   "cell_type": "code",
   "execution_count": 268,
   "id": "ec0fb377",
   "metadata": {},
   "outputs": [
    {
     "data": {
      "text/plain": [
       "['p', 'i', 'n', 'd', 'a', 'm', 'o', 'n', 'h', 'a', 'n', 'g', 'a', 'b', 'a']"
      ]
     },
     "execution_count": 268,
     "metadata": {},
     "output_type": "execute_result"
    }
   ],
   "source": [
    "lista_da_palavra"
   ]
  },
  {
   "cell_type": "markdown",
   "id": "a68b9222",
   "metadata": {},
   "source": [
    "Agora sim, podemos alterar um elemento da lista:"
   ]
  },
  {
   "cell_type": "code",
   "execution_count": 269,
   "id": "71326509",
   "metadata": {},
   "outputs": [],
   "source": [
    "lista_da_palavra[4] = 'j'"
   ]
  },
  {
   "cell_type": "markdown",
   "id": "b5708df1",
   "metadata": {},
   "source": [
    "E, pra transformar a lista de volta pra string, usamos a função \"join()\":"
   ]
  },
  {
   "cell_type": "code",
   "execution_count": 270,
   "id": "82123e35",
   "metadata": {},
   "outputs": [
    {
     "data": {
      "text/plain": [
       "'pindjmonhangaba'"
      ]
     },
     "execution_count": 270,
     "metadata": {},
     "output_type": "execute_result"
    }
   ],
   "source": [
    "''.join(lista_da_palavra)"
   ]
  },
  {
   "cell_type": "code",
   "execution_count": 271,
   "id": "ba22be6a",
   "metadata": {},
   "outputs": [
    {
     "data": {
      "text/plain": [
       "'p*i*n*d*j*m*o*n*h*a*n*g*a*b*a'"
      ]
     },
     "execution_count": 271,
     "metadata": {},
     "output_type": "execute_result"
    }
   ],
   "source": [
    "'*'.join(lista_da_palavra)"
   ]
  },
  {
   "cell_type": "code",
   "execution_count": 272,
   "id": "87afc0fd",
   "metadata": {},
   "outputs": [
    {
     "data": {
      "text/plain": [
       "'p i n d j m o n h a n g a b a'"
      ]
     },
     "execution_count": 272,
     "metadata": {},
     "output_type": "execute_result"
    }
   ],
   "source": [
    "' '.join(lista_da_palavra)"
   ]
  },
  {
   "cell_type": "markdown",
   "id": "0279597c",
   "metadata": {},
   "source": [
    "Um exemplo do uso do .join() pra juntar os números de uma lista em um único numero"
   ]
  },
  {
   "cell_type": "code",
   "execution_count": 273,
   "id": "fa52ce89",
   "metadata": {},
   "outputs": [
    {
     "data": {
      "text/plain": [
       "12345"
      ]
     },
     "execution_count": 273,
     "metadata": {},
     "output_type": "execute_result"
    }
   ],
   "source": [
    "lista_numeros = ['1', '2', '3', '4', '5']\n",
    "\n",
    "int(''.join(lista_numeros))"
   ]
  },
  {
   "cell_type": "code",
   "execution_count": 274,
   "id": "12291b9b",
   "metadata": {},
   "outputs": [
    {
     "data": {
      "text/plain": [
       "123456"
      ]
     },
     "execution_count": 274,
     "metadata": {},
     "output_type": "execute_result"
    }
   ],
   "source": [
    "lista = [1, 2, 3, 4, 5, 6]\n",
    "lista2 = [str(x) for x in lista]\n",
    "lista3 = int(\"\".join(lista2))\n",
    "lista3"
   ]
  },
  {
   "cell_type": "markdown",
   "id": "32ea0313",
   "metadata": {},
   "source": [
    "Como já vimos, podemos fazer **operações com strings**:"
   ]
  },
  {
   "cell_type": "markdown",
   "id": "324503b1",
   "metadata": {},
   "source": [
    "Soma de strings: ao somar duas strings, elas são concatenadas:"
   ]
  },
  {
   "cell_type": "code",
   "execution_count": 275,
   "id": "764e500d",
   "metadata": {},
   "outputs": [
    {
     "data": {
      "text/plain": [
       "'em brasilia 19 horas'"
      ]
     },
     "execution_count": 275,
     "metadata": {},
     "output_type": "execute_result"
    }
   ],
   "source": [
    "'em ' + 'brasilia ' + '19 horas'"
   ]
  },
  {
   "cell_type": "markdown",
   "id": "9750ca34",
   "metadata": {},
   "source": [
    "Multiplicação de string por inteiro: ao multiplicar uma string por um número inteiro, a string é repetida:"
   ]
  },
  {
   "cell_type": "code",
   "execution_count": 276,
   "id": "164b2316",
   "metadata": {
    "run_control": {
     "marked": false
    }
   },
   "outputs": [
    {
     "data": {
      "text/plain": [
       "'oh no no no no no'"
      ]
     },
     "execution_count": 276,
     "metadata": {},
     "output_type": "execute_result"
    }
   ],
   "source": [
    "'oh'+' no' * 5"
   ]
  },
  {
   "cell_type": "markdown",
   "id": "36895eaf",
   "metadata": {},
   "source": [
    "### Funções de strings\n",
    "\n",
    "Como listas, strings também têm algumas funções específicas. Algumas delas são:"
   ]
  },
  {
   "cell_type": "markdown",
   "id": "ff71b22d",
   "metadata": {},
   "source": [
    ".upper(): transforma todos os caracteres em maiúscula"
   ]
  },
  {
   "cell_type": "code",
   "execution_count": 277,
   "id": "71c7a639",
   "metadata": {},
   "outputs": [
    {
     "data": {
      "text/plain": [
       "'FORMIGA'"
      ]
     },
     "execution_count": 277,
     "metadata": {},
     "output_type": "execute_result"
    }
   ],
   "source": [
    "'formiga'.upper()"
   ]
  },
  {
   "cell_type": "markdown",
   "id": "4542d36b",
   "metadata": {},
   "source": [
    ".lower(): trasnforma todos os caracteres em minúscula"
   ]
  },
  {
   "cell_type": "code",
   "execution_count": 278,
   "id": "cf82fbcf",
   "metadata": {},
   "outputs": [
    {
     "data": {
      "text/plain": [
       "'python'"
      ]
     },
     "execution_count": 278,
     "metadata": {},
     "output_type": "execute_result"
    }
   ],
   "source": [
    "'PYTHON'.lower()"
   ]
  },
  {
   "cell_type": "code",
   "execution_count": 279,
   "id": "772bb25d",
   "metadata": {},
   "outputs": [
    {
     "data": {
      "text/plain": [
       "'python'"
      ]
     },
     "execution_count": 279,
     "metadata": {},
     "output_type": "execute_result"
    }
   ],
   "source": [
    "'PyThOn'.lower()"
   ]
  },
  {
   "cell_type": "code",
   "execution_count": null,
   "id": "3ddfc145",
   "metadata": {},
   "outputs": [],
   "source": []
  },
  {
   "cell_type": "markdown",
   "id": "dcec60da",
   "metadata": {},
   "source": [
    ".title(): deixa a primeira letra de cada palavra em maiúscula"
   ]
  },
  {
   "cell_type": "code",
   "execution_count": 280,
   "id": "e6541aac",
   "metadata": {},
   "outputs": [
    {
     "data": {
      "text/plain": [
       "'São Jose Do Rio Preto'"
      ]
     },
     "execution_count": 280,
     "metadata": {},
     "output_type": "execute_result"
    }
   ],
   "source": [
    "'são jose do rio preto'.title()"
   ]
  },
  {
   "cell_type": "markdown",
   "id": "c4ebb0e1",
   "metadata": {},
   "source": [
    ".capitalize(): deixa a primeira letra da primeira palavra em maiúscula"
   ]
  },
  {
   "cell_type": "code",
   "execution_count": 281,
   "id": "e81a06ee",
   "metadata": {},
   "outputs": [
    {
     "data": {
      "text/plain": [
       "'De volta para o futuro'"
      ]
     },
     "execution_count": 281,
     "metadata": {},
     "output_type": "execute_result"
    }
   ],
   "source": [
    "'de volta para o futuro'.capitalize()"
   ]
  },
  {
   "cell_type": "markdown",
   "id": "5380731e",
   "metadata": {},
   "source": [
    "É possível quebrar uma string em determinado caractere, tendo como resultado uma **lista com os caracteres além da quebra**.\n",
    "\n",
    "- Para quebrar nos espaços, use a função \".split()\", sem argumento"
   ]
  },
  {
   "cell_type": "code",
   "execution_count": 282,
   "id": "88dd5db2",
   "metadata": {},
   "outputs": [
    {
     "data": {
      "text/plain": [
       "['laranja', 'banana', 'maca', 'melancia']"
      ]
     },
     "execution_count": 282,
     "metadata": {},
     "output_type": "execute_result"
    }
   ],
   "source": [
    "'laranja, banana, maca, melancia'.split(', ')"
   ]
  },
  {
   "cell_type": "code",
   "execution_count": 283,
   "id": "d3f14716",
   "metadata": {},
   "outputs": [
    {
     "data": {
      "text/plain": [
       "['laranja,', 'banana,', 'maca,', 'melancia']"
      ]
     },
     "execution_count": 283,
     "metadata": {},
     "output_type": "execute_result"
    }
   ],
   "source": [
    "'laranja, banana, maca, melancia'.split()"
   ]
  },
  {
   "cell_type": "code",
   "execution_count": 284,
   "id": "3dd6e0c5",
   "metadata": {},
   "outputs": [
    {
     "data": {
      "text/plain": [
       "['laranja', 'banana', 'maca', 'melancia']"
      ]
     },
     "execution_count": 284,
     "metadata": {},
     "output_type": "execute_result"
    }
   ],
   "source": [
    "'laranja banana maca melancia'.split()"
   ]
  },
  {
   "cell_type": "markdown",
   "id": "6d18d040",
   "metadata": {},
   "source": [
    "- Para quebrar em algum caracter, use o caractere como argumento:"
   ]
  },
  {
   "cell_type": "code",
   "execution_count": 285,
   "id": "2c46b050",
   "metadata": {},
   "outputs": [
    {
     "data": {
      "text/plain": [
       "['l', 'r', 'nj', ',b', 'n', 'n', ',m', 'c', ',mel', 'nci', '']"
      ]
     },
     "execution_count": 285,
     "metadata": {},
     "output_type": "execute_result"
    }
   ],
   "source": [
    "'laranja,banana,maca,melancia'.split('a')"
   ]
  },
  {
   "cell_type": "markdown",
   "id": "8e4c3f1a",
   "metadata": {},
   "source": [
    "__Tirar espaços que tão sobrando no fim e no início da string__\n",
    "\n",
    "Utilize a função strip()"
   ]
  },
  {
   "cell_type": "code",
   "execution_count": 286,
   "id": "2bf57b74",
   "metadata": {},
   "outputs": [
    {
     "data": {
      "text/plain": [
       "'Andrey'"
      ]
     },
     "execution_count": 286,
     "metadata": {},
     "output_type": "execute_result"
    }
   ],
   "source": [
    "'      Andrey      '.strip()"
   ]
  },
  {
   "cell_type": "code",
   "execution_count": 287,
   "id": "c2b18ce5",
   "metadata": {},
   "outputs": [
    {
     "data": {
      "text/plain": [
       "'And  rey'"
      ]
     },
     "execution_count": 287,
     "metadata": {},
     "output_type": "execute_result"
    }
   ],
   "source": [
    "'      And  rey      '.strip()"
   ]
  },
  {
   "cell_type": "code",
   "execution_count": 288,
   "id": "fa04d4a9",
   "metadata": {},
   "outputs": [
    {
     "data": {
      "text/plain": [
       "'Andrey'"
      ]
     },
     "execution_count": 288,
     "metadata": {},
     "output_type": "execute_result"
    }
   ],
   "source": [
    "'      And  rey      '.replace(' ', '')"
   ]
  },
  {
   "cell_type": "code",
   "execution_count": 289,
   "id": "89d6ee85",
   "metadata": {},
   "outputs": [
    {
     "data": {
      "text/plain": [
       "'      Andrey'"
      ]
     },
     "execution_count": 289,
     "metadata": {},
     "output_type": "execute_result"
    }
   ],
   "source": [
    "'      Andrey      '.rstrip()"
   ]
  },
  {
   "cell_type": "code",
   "execution_count": 290,
   "id": "8452a847",
   "metadata": {},
   "outputs": [
    {
     "data": {
      "text/plain": [
       "'Andrey      '"
      ]
     },
     "execution_count": 290,
     "metadata": {},
     "output_type": "execute_result"
    }
   ],
   "source": [
    "'      Andrey      '.lstrip()"
   ]
  },
  {
   "cell_type": "markdown",
   "id": "eebada0a",
   "metadata": {},
   "source": [
    "Outras funções interessantes...\n",
    "\n",
    "- isdigit()\n",
    "- isalpha()\n",
    "- isalnum()\n",
    "- isspace()\n",
    "- isupper()"
   ]
  },
  {
   "cell_type": "code",
   "execution_count": 291,
   "id": "9047c2df",
   "metadata": {},
   "outputs": [
    {
     "data": {
      "text/plain": [
       "True"
      ]
     },
     "execution_count": 291,
     "metadata": {},
     "output_type": "execute_result"
    }
   ],
   "source": [
    "'12345'.isdigit()"
   ]
  },
  {
   "cell_type": "code",
   "execution_count": 292,
   "id": "f6622158",
   "metadata": {},
   "outputs": [
    {
     "data": {
      "text/plain": [
       "False"
      ]
     },
     "execution_count": 292,
     "metadata": {},
     "output_type": "execute_result"
    }
   ],
   "source": [
    "'12345.5'.isdigit()"
   ]
  },
  {
   "cell_type": "code",
   "execution_count": 293,
   "id": "491f3d6c",
   "metadata": {},
   "outputs": [
    {
     "data": {
      "text/plain": [
       "True"
      ]
     },
     "execution_count": 293,
     "metadata": {},
     "output_type": "execute_result"
    }
   ],
   "source": [
    "'abacate'.isalpha()"
   ]
  },
  {
   "cell_type": "code",
   "execution_count": 294,
   "id": "27d25f24",
   "metadata": {},
   "outputs": [
    {
     "data": {
      "text/plain": [
       "False"
      ]
     },
     "execution_count": 294,
     "metadata": {},
     "output_type": "execute_result"
    }
   ],
   "source": [
    "'4abacate'.isalpha()"
   ]
  },
  {
   "cell_type": "code",
   "execution_count": 295,
   "id": "2df44d32",
   "metadata": {},
   "outputs": [
    {
     "data": {
      "text/plain": [
       "True"
      ]
     },
     "execution_count": 295,
     "metadata": {},
     "output_type": "execute_result"
    }
   ],
   "source": [
    "'4abacate'.isalnum()"
   ]
  },
  {
   "cell_type": "code",
   "execution_count": 296,
   "id": "5e294bdd",
   "metadata": {},
   "outputs": [
    {
     "data": {
      "text/plain": [
       "True"
      ]
     },
     "execution_count": 296,
     "metadata": {},
     "output_type": "execute_result"
    }
   ],
   "source": [
    "'     '.isspace()"
   ]
  },
  {
   "cell_type": "code",
   "execution_count": 297,
   "id": "94439887",
   "metadata": {},
   "outputs": [
    {
     "data": {
      "text/plain": [
       "False"
      ]
     },
     "execution_count": 297,
     "metadata": {},
     "output_type": "execute_result"
    }
   ],
   "source": [
    "'     KK'.isspace()"
   ]
  },
  {
   "cell_type": "code",
   "execution_count": 298,
   "id": "2dc9afa3",
   "metadata": {},
   "outputs": [
    {
     "data": {
      "text/plain": [
       "True"
      ]
     },
     "execution_count": 298,
     "metadata": {},
     "output_type": "execute_result"
    }
   ],
   "source": [
    "'PYTHON'.isupper()"
   ]
  },
  {
   "cell_type": "code",
   "execution_count": 299,
   "id": "8b696810",
   "metadata": {},
   "outputs": [
    {
     "data": {
      "text/plain": [
       "False"
      ]
     },
     "execution_count": 299,
     "metadata": {},
     "output_type": "execute_result"
    }
   ],
   "source": [
    "'Python'.isupper()"
   ]
  },
  {
   "cell_type": "code",
   "execution_count": 300,
   "id": "4031177a",
   "metadata": {},
   "outputs": [
    {
     "data": {
      "text/plain": [
       "True"
      ]
     },
     "execution_count": 300,
     "metadata": {},
     "output_type": "execute_result"
    }
   ],
   "source": [
    "'teste'.islower()"
   ]
  },
  {
   "cell_type": "markdown",
   "id": "7ac08a3f",
   "metadata": {},
   "source": [
    "### Formatação de strings\n",
    "\n",
    "Também podemos **formatar strings**. Isso pode ser super útil tanto ao receber dados do usuário (input) quando ao exbibir dados pro usuário (print)"
   ]
  },
  {
   "cell_type": "markdown",
   "id": "7e571f38",
   "metadata": {},
   "source": [
    "Um dos usos mais legal do format é para **exibir** strings formatadas.\n",
    "\n",
    "Imagine que você queira exibir uma data no formato dd/mm/aaaa.\n",
    "\n",
    "Em situações normais, dias e meses inferiores a 10 apareceriam com apenas 1 dígito (int não é representado com zeros à esquerda). Porém, podemos especificar no format que gostaríamos de representar um inteiro com 2 dígitos, preenchendo com zero dígitos em branco (à esquerda): \n",
    "\n",
    "```python\n",
    "\n",
    "dia = 1\n",
    "mes = 2\n",
    "ano = 2020\n",
    "data = f'{:02d}/{:02d}/{:04d}'\n",
    "print(data) # resultado: 01/02/2020\n",
    "```\n",
    "\n",
    "O símbolo 'd' indica que estamos representando números **inteiros** em base decimal (dígitos de 0 a 9). \n",
    "\n",
    "Os símbolos '2' e '4' indicam, respectivamente, 2 dígitos ou 4 dígitos. \n",
    "\n",
    "o símbolo '0' indica que se faltar dígitos, os espaços devem ser preenchidos com zero"
   ]
  },
  {
   "cell_type": "code",
   "execution_count": 301,
   "id": "9b9ad365",
   "metadata": {},
   "outputs": [
    {
     "name": "stdout",
     "output_type": "stream",
     "text": [
      "1/2/2021\n"
     ]
    }
   ],
   "source": [
    "dia = 1\n",
    "mes = 2\n",
    "ano = 2021\n",
    "print(f'{dia}/{mes}/{ano}')"
   ]
  },
  {
   "cell_type": "code",
   "execution_count": 302,
   "id": "f32108bc",
   "metadata": {},
   "outputs": [
    {
     "name": "stdout",
     "output_type": "stream",
     "text": [
      "01/02/20201\n"
     ]
    }
   ],
   "source": [
    "dia = 1\n",
    "mes = 2\n",
    "ano = 20201\n",
    "data = f'{dia:02d}/{mes:02d}/{ano:04d}'\n",
    "print(data) # resultado: 01/02/2020"
   ]
  },
  {
   "cell_type": "markdown",
   "id": "7a99e4f1",
   "metadata": {},
   "source": [
    "Imagina que você queira exibir algum valor monetário, por exemplo, o preço de alguma coisa.\n",
    "\n",
    "Utilizando float, pode ser que seu resultado tenha apenas uma casa decimal.\n",
    "\n",
    "Mas, se tratando de dinheito, sempre queremos mostrar duas casas decimais!\n",
    "\n",
    "Usaremos o format para representar com apenas 2 casas.\n",
    "\n",
    "```python\n",
    "preco = 1500.5\n",
    "\n",
    "print(preco) \n",
    "\n",
    "precoFinal = f'R$ {preco:.2f}'\n",
    "\n",
    "print(precoFinal)\n",
    "```\n",
    "\n",
    "Neste caso, o 'f' indica que o número é float. \n",
    "\n",
    "Já o '.2' indica que queremos 2 casas após o ponto decimal. \n",
    "\n",
    "Note que a função não apenas descarta as casas excedentes, e sim arredonda corretamente o número."
   ]
  },
  {
   "cell_type": "code",
   "execution_count": 303,
   "id": "655e1656",
   "metadata": {},
   "outputs": [
    {
     "name": "stdout",
     "output_type": "stream",
     "text": [
      "1500.5\n",
      "R$ 1500.50\n"
     ]
    }
   ],
   "source": [
    "preco = 1500.5\n",
    "\n",
    "print(preco) \n",
    "\n",
    "precoFinal = f'R$ {preco:.2f}'\n",
    "\n",
    "print(precoFinal)"
   ]
  },
  {
   "cell_type": "code",
   "execution_count": 304,
   "id": "7592b6fa",
   "metadata": {},
   "outputs": [
    {
     "name": "stdout",
     "output_type": "stream",
     "text": [
      "157.000\n"
     ]
    }
   ],
   "source": [
    "valor_quebrado = 156.9999999\n",
    "\n",
    "print(f'{valor_quebrado:.3f}')"
   ]
  },
  {
   "cell_type": "markdown",
   "id": "ca173e1e",
   "metadata": {},
   "source": [
    "### Exercício\n",
    "\n",
    "Cifra de César símples\n",
    "\n",
    "Quando falamos de segurança da informação, a criptografia vem logo à mente. Se trata da codificação de mensagens para impedir a leitura por receptores indesejados. A Cifra de César é um dos métodos mais simples e conhecidos da criptografia. Nela, uma letra da mensagem é substituida por outra que se encontra um número fixo de posições em relação ao alfabeto.\n",
    "\n",
    "Ex.: Se o número fixo (chave) é 3, a letra A seria trocada por D, B por E e assim por diante. \n",
    "\n",
    "Implemente, usando os conceitos de String em Python, a Cifra de César.\n",
    "\n",
    "*Exemplo 1, com shift 1*: \"Ola mundo\" -> 'Pmb!nvoep'\n",
    "\n",
    "*Exemplo 2, com shift 2*: \"Ola mundo\" -> 'Qnc\"owpfq'\n",
    "\n",
    "*Exemplo 3, com shift 1*: \"zebra\" -> '{fcsb'\n",
    "\n",
    "*Dicas*: use as funções chr() e ord() e o código ASCII."
   ]
  },
  {
   "cell_type": "code",
   "execution_count": 305,
   "id": "d73333ad",
   "metadata": {},
   "outputs": [
    {
     "name": "stdout",
     "output_type": "stream",
     "text": [
      "6\n"
     ]
    }
   ],
   "source": [
    "import random\n",
    "shift = random.randint(1,6)\n",
    "print(shift)"
   ]
  },
  {
   "cell_type": "code",
   "execution_count": 306,
   "id": "aed36be0",
   "metadata": {},
   "outputs": [
    {
     "name": "stdout",
     "output_type": "stream",
     "text": [
      "Digite a frase:\n",
      "formiga\n",
      "hqtokic\n"
     ]
    }
   ],
   "source": [
    "frase = input('Digite a frase:\\n')\n",
    "n = random.randint(1,3)\n",
    "crip = [chr(ord(x)+n) for x in frase]\n",
    "print(''.join(crip))"
   ]
  },
  {
   "cell_type": "code",
   "execution_count": null,
   "id": "73994a3f",
   "metadata": {},
   "outputs": [],
   "source": []
  }
 ],
 "metadata": {
  "kernelspec": {
   "display_name": "Python 3 (ipykernel)",
   "language": "python",
   "name": "python3"
  },
  "language_info": {
   "codemirror_mode": {
    "name": "ipython",
    "version": 3
   },
   "file_extension": ".py",
   "mimetype": "text/x-python",
   "name": "python",
   "nbconvert_exporter": "python",
   "pygments_lexer": "ipython3",
   "version": "3.9.5"
  },
  "toc": {
   "base_numbering": 1,
   "nav_menu": {},
   "number_sections": false,
   "sideBar": true,
   "skip_h1_title": false,
   "title_cell": "Table of Contents",
   "title_sidebar": "Contents",
   "toc_cell": false,
   "toc_position": {
    "height": "calc(100% - 180px)",
    "left": "10px",
    "top": "150px",
    "width": "254px"
   },
   "toc_section_display": true,
   "toc_window_display": false
  }
 },
 "nbformat": 4,
 "nbformat_minor": 5
}
