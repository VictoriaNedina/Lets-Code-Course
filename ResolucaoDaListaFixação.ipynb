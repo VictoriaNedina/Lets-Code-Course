{
 "cells": [
  {
   "cell_type": "markdown",
   "id": "falling-failure",
   "metadata": {},
   "source": [
    "1 - Crie um programa que cadastre informações de várias pessoas (nome, idade e cpf) e depois coloque em um dicionário. Depois remova todas as pessoas menores de 18 anos do dicionário e coloque em outro dicionário"
   ]
  },
  {
   "cell_type": "code",
   "execution_count": 1,
   "id": "early-excerpt",
   "metadata": {},
   "outputs": [
    {
     "name": "stdout",
     "output_type": "stream",
     "text": [
      "Cadastro de pessoas\n"
     ]
    },
    {
     "ename": "KeyboardInterrupt",
     "evalue": "Interrupted by user",
     "output_type": "error",
     "traceback": [
      "\u001b[1;31m---------------------------------------------------------------------------\u001b[0m",
      "\u001b[1;31mKeyboardInterrupt\u001b[0m                         Traceback (most recent call last)",
      "\u001b[1;32m~\\AppData\\Local\\Temp/ipykernel_22632/4064892980.py\u001b[0m in \u001b[0;36m<module>\u001b[1;34m\u001b[0m\n\u001b[0;32m     12\u001b[0m \u001b[1;33m\u001b[0m\u001b[0m\n\u001b[0;32m     13\u001b[0m     \u001b[1;31m# vou fornecer duas opções para o usuário, 0 para finalizar e 1 para cadastrar uma nova pessoa\u001b[0m\u001b[1;33m\u001b[0m\u001b[1;33m\u001b[0m\u001b[1;33m\u001b[0m\u001b[0m\n\u001b[1;32m---> 14\u001b[1;33m     \u001b[0mopcao\u001b[0m \u001b[1;33m=\u001b[0m \u001b[0mint\u001b[0m\u001b[1;33m(\u001b[0m\u001b[0minput\u001b[0m\u001b[1;33m(\u001b[0m\u001b[1;34m\"Digite '1' para cadastrar uma pessoa ou '0' para finalizar o programa: \"\u001b[0m\u001b[1;33m)\u001b[0m\u001b[1;33m)\u001b[0m\u001b[1;33m\u001b[0m\u001b[1;33m\u001b[0m\u001b[0m\n\u001b[0m\u001b[0;32m     15\u001b[0m \u001b[1;33m\u001b[0m\u001b[0m\n\u001b[0;32m     16\u001b[0m     \u001b[1;32mif\u001b[0m \u001b[0mopcao\u001b[0m \u001b[1;33m<\u001b[0m \u001b[1;36m1\u001b[0m\u001b[1;33m:\u001b[0m\u001b[1;33m\u001b[0m\u001b[1;33m\u001b[0m\u001b[0m\n",
      "\u001b[1;32mc:\\users\\andrey\\miniconda3\\lib\\site-packages\\ipykernel\\kernelbase.py\u001b[0m in \u001b[0;36mraw_input\u001b[1;34m(self, prompt)\u001b[0m\n\u001b[0;32m   1004\u001b[0m                 \u001b[1;34m\"raw_input was called, but this frontend does not support input requests.\"\u001b[0m\u001b[1;33m\u001b[0m\u001b[1;33m\u001b[0m\u001b[0m\n\u001b[0;32m   1005\u001b[0m             )\n\u001b[1;32m-> 1006\u001b[1;33m         return self._input_request(\n\u001b[0m\u001b[0;32m   1007\u001b[0m             \u001b[0mstr\u001b[0m\u001b[1;33m(\u001b[0m\u001b[0mprompt\u001b[0m\u001b[1;33m)\u001b[0m\u001b[1;33m,\u001b[0m\u001b[1;33m\u001b[0m\u001b[1;33m\u001b[0m\u001b[0m\n\u001b[0;32m   1008\u001b[0m             \u001b[0mself\u001b[0m\u001b[1;33m.\u001b[0m\u001b[0m_parent_ident\u001b[0m\u001b[1;33m[\u001b[0m\u001b[1;34m\"shell\"\u001b[0m\u001b[1;33m]\u001b[0m\u001b[1;33m,\u001b[0m\u001b[1;33m\u001b[0m\u001b[1;33m\u001b[0m\u001b[0m\n",
      "\u001b[1;32mc:\\users\\andrey\\miniconda3\\lib\\site-packages\\ipykernel\\kernelbase.py\u001b[0m in \u001b[0;36m_input_request\u001b[1;34m(self, prompt, ident, parent, password)\u001b[0m\n\u001b[0;32m   1049\u001b[0m             \u001b[1;32mexcept\u001b[0m \u001b[0mKeyboardInterrupt\u001b[0m\u001b[1;33m:\u001b[0m\u001b[1;33m\u001b[0m\u001b[1;33m\u001b[0m\u001b[0m\n\u001b[0;32m   1050\u001b[0m                 \u001b[1;31m# re-raise KeyboardInterrupt, to truncate traceback\u001b[0m\u001b[1;33m\u001b[0m\u001b[1;33m\u001b[0m\u001b[1;33m\u001b[0m\u001b[0m\n\u001b[1;32m-> 1051\u001b[1;33m                 \u001b[1;32mraise\u001b[0m \u001b[0mKeyboardInterrupt\u001b[0m\u001b[1;33m(\u001b[0m\u001b[1;34m\"Interrupted by user\"\u001b[0m\u001b[1;33m)\u001b[0m \u001b[1;32mfrom\u001b[0m \u001b[1;32mNone\u001b[0m\u001b[1;33m\u001b[0m\u001b[1;33m\u001b[0m\u001b[0m\n\u001b[0m\u001b[0;32m   1052\u001b[0m             \u001b[1;32mexcept\u001b[0m \u001b[0mException\u001b[0m\u001b[1;33m:\u001b[0m\u001b[1;33m\u001b[0m\u001b[1;33m\u001b[0m\u001b[0m\n\u001b[0;32m   1053\u001b[0m                 \u001b[0mself\u001b[0m\u001b[1;33m.\u001b[0m\u001b[0mlog\u001b[0m\u001b[1;33m.\u001b[0m\u001b[0mwarning\u001b[0m\u001b[1;33m(\u001b[0m\u001b[1;34m\"Invalid Message:\"\u001b[0m\u001b[1;33m,\u001b[0m \u001b[0mexc_info\u001b[0m\u001b[1;33m=\u001b[0m\u001b[1;32mTrue\u001b[0m\u001b[1;33m)\u001b[0m\u001b[1;33m\u001b[0m\u001b[1;33m\u001b[0m\u001b[0m\n",
      "\u001b[1;31mKeyboardInterrupt\u001b[0m: Interrupted by user"
     ]
    }
   ],
   "source": [
    "# Resposta parte 1 - Cadastro\n",
    "\n",
    "# Queremos um dicionário com vários registros\n",
    "# Portanto, iremos criar um dicionário de dicionários, onde os dicionários internos serão cada pessoa cadastrada\n",
    "\n",
    "pessoas = {}\n",
    "codigo_pessoa = 1 # vamos usar essa variável como chave para cada pessoa  cadastrada. ela será incrementada no while\n",
    "\n",
    "while True:\n",
    "    \n",
    "    print(\"Cadastro de pessoas\")\n",
    "    \n",
    "    # vou fornecer duas opções para o usuário, 0 para finalizar e 1 para cadastrar uma nova pessoa\n",
    "    opcao = int(input(\"Digite '1' para cadastrar uma pessoa ou '0' para finalizar o programa: \"))\n",
    "    \n",
    "    if opcao < 1:\n",
    "        break\n",
    "    elif opcao >1:\n",
    "        print(\"Opção inválida!\")\n",
    "    else:\n",
    "        pessoa = {}\n",
    "        cpf = input(\"Informe o CPF da pessoa: \")\n",
    "        idade = int(input(\"Informe a idade da pessoa: \"))\n",
    "        nome = input(\"Informe o nome da pessoa: \")\n",
    "        \n",
    "        # Todas as informações inseridas pelo usuário serão armazenadas em um dicionário\n",
    "        pessoa[\"cpf\"] = cpf\n",
    "        pessoa[\"idade\"] = idade\n",
    "        pessoa[\"nome\"] = nome\n",
    "        \n",
    "        # Após isso, usamos o 'codigo_pessoa' como chave do dicionário 'pessoas' e armazenamos o dicionário 'pessoa'\n",
    "        pessoas[codigo_pessoa] = pessoa\n",
    "        \n",
    "        # Incrementamos essa variável para que a próxima pessoa cadastrada tenho um código diferente\n",
    "        codigo_pessoa += 1\n",
    "        print(\"\\n\")\n",
    "\n",
    "# Mostramos as pessoas cadastradas\n",
    "print(\"Dicionário de pessoas cadastradas: \\n\")\n",
    "print(pessoas)"
   ]
  },
  {
   "cell_type": "code",
   "execution_count": 51,
   "id": "quiet-happening",
   "metadata": {},
   "outputs": [
    {
     "name": "stdout",
     "output_type": "stream",
     "text": [
      "Dicionário com menores de idade\n",
      "{1: {'cpf': '123123123', 'idade': 17, 'nome': 'carlos'}}\n",
      "Dicionário original após a remoção\n",
      "{2: {'cpf': '456456456', 'idade': 34, 'nome': 'joao'}}\n"
     ]
    }
   ],
   "source": [
    "# Resposta parte 2 - Pessoas menores de 18 anos\n",
    "\n",
    "menores_dic = {}\n",
    "chaves = list(pessoas.keys()) # colocamos as keys em  uma lista para iterar sobre elas\n",
    "\n",
    "for pessoa in chaves:\n",
    "    if pessoas[pessoa]['idade'] < 18:\n",
    "        menores_dic[pessoa] = pessoas[pessoa]\n",
    "        \n",
    "for pessoa in chaves:\n",
    "    if pessoas[pessoa]['idade'] < 18:\n",
    "        pessoas.pop(pessoa)\n",
    "\n",
    "# printa menores de idade\n",
    "print(\"Dicionário com menores de idade\")\n",
    "print(menores_dic)\n",
    "\n",
    "print(\"Dicionário original após a remoção\")\n",
    "print(pessoas)"
   ]
  },
  {
   "cell_type": "markdown",
   "id": "checked-contemporary",
   "metadata": {},
   "source": [
    "---"
   ]
  },
  {
   "cell_type": "markdown",
   "id": "heavy-evidence",
   "metadata": {},
   "source": [
    "2 - Considere um sistema onde os dados são armazenados em dicionários. Nesse sistema existe um dicionario  principal e o dicionário de backup. Cada vez que o dicionário principal atinge tamanho 5, ele imprime os dados na tela e apaga o seu conteúdo. Crie um programa que insira dados em um dicionário, realizando o back up a cada dado e excluindo os dados do dicionário principal quando ele atingir o tamanho 5"
   ]
  },
  {
   "cell_type": "code",
   "execution_count": 10,
   "id": "outside-benchmark",
   "metadata": {},
   "outputs": [
    {
     "name": "stdout",
     "output_type": "stream",
     "text": [
      "Digite 1 para cadastrar ou 0 para finalizar: 1\n",
      "Inserindo Dados\n",
      "\n",
      "\n",
      "Digite a informação que deseja inserir no dicionário: teste\n",
      "Digite 1 para cadastrar ou 0 para finalizar: 1\n",
      "Inserindo Dados\n",
      "\n",
      "\n",
      "Digite a informação que deseja inserir no dicionário: teste\n",
      "Digite 1 para cadastrar ou 0 para finalizar: 1\n",
      "Inserindo Dados\n",
      "\n",
      "\n",
      "Digite a informação que deseja inserir no dicionário: teste3\n",
      "Digite 1 para cadastrar ou 0 para finalizar: 1\n",
      "Inserindo Dados\n",
      "\n",
      "\n",
      "Digite a informação que deseja inserir no dicionário: teste4\n",
      "Digite 1 para cadastrar ou 0 para finalizar: 1\n",
      "Inserindo Dados\n",
      "\n",
      "\n",
      "Digite a informação que deseja inserir no dicionário: teste5\n",
      "{1: 'teste', 2: 'teste', 3: 'teste3', 4: 'teste4', 5: 'teste5'}\n",
      "Digite 1 para cadastrar ou 0 para finalizar: 0\n"
     ]
    }
   ],
   "source": [
    "# Resposta\n",
    "\n",
    "dic_principal = {}\n",
    "dic_backup = {}\n",
    "\n",
    "def remove_dados(dicionario):\n",
    "    '''\n",
    "    Função que recebe um dicionário como  parêmetro\n",
    "    remove seu conteúdo e retorna outro dicionário com o mesmo conteúdo\n",
    "    '''\n",
    "    \n",
    "    dic_bkp = dicionario.copy() # Função copy é utilizada para criarmos uma cópia do dicionário\n",
    "    \n",
    "    chaves = list(dicionario.keys())\n",
    "    for key in chaves:\n",
    "        dicionario.pop(key)\n",
    "    \n",
    "    return dic_bkp\n",
    "\n",
    "codigo_dado = 1 # Variável que será utilizada como chave\n",
    "while True:\n",
    "    \n",
    "    # Verificando tamanho do dicionário\n",
    "    if len(dic_principal)>=5:\n",
    "        print(dic_principal)\n",
    "        dic_backup.update(remove_dados(dic_principal)) #A função update é usada para 'atualizar' e inserir novos registros no dicionário\n",
    "     \n",
    "    opcao = int(input(\"Digite 1 para cadastrar ou 0 para finalizar: \"))\n",
    "    \n",
    "    if opcao < 1:\n",
    "        break\n",
    "    else:\n",
    "        print(\"Inserindo Dados\")\n",
    "        print(\"\\n\")\n",
    "        \n",
    "        dado = input(\"Digite a informação que deseja inserir no dicionário: \")\n",
    "        dic_principal[codigo_dado] = dado\n",
    "        \n",
    "        codigo_dado += 1"
   ]
  },
  {
   "cell_type": "code",
   "execution_count": 12,
   "id": "egyptian-publisher",
   "metadata": {},
   "outputs": [
    {
     "data": {
      "text/plain": [
       "{1: 'teste', 2: 'teste', 3: 'teste3', 4: 'teste4', 5: 'teste5'}"
      ]
     },
     "execution_count": 12,
     "metadata": {},
     "output_type": "execute_result"
    }
   ],
   "source": [
    "dic_backup"
   ]
  },
  {
   "cell_type": "markdown",
   "id": "authentic-pressing",
   "metadata": {},
   "source": [
    "---"
   ]
  },
  {
   "cell_type": "markdown",
   "id": "composed-glory",
   "metadata": {},
   "source": [
    "3 - Crie um dicionário vazio filmes = {}. Utilize o nome de um filme como chave. E, como valor, outro dicionário contendo o vilão e o ano em que o filme foi lançado. Preencha 5 filmes. Crie uma função que irá receber o dicionário e remover um determinado filme pelo nome. Lembre-se de fornecer duas opções para o usuário, opção 1 cadastrar um filme e opção 2 remover um filme."
   ]
  },
  {
   "cell_type": "code",
   "execution_count": 28,
   "id": "colored-completion",
   "metadata": {},
   "outputs": [
    {
     "name": "stdout",
     "output_type": "stream",
     "text": [
      "Escolha uma opção: 1 - Cadastrar ou 2 - remover1\n",
      "Nome do filme: filme 1\n",
      "Nome do vilão: vilao 1\n",
      "Ano de lançamento: 1999\n",
      "Escolha uma opção: 1 - Cadastrar ou 2 - remover1\n",
      "Nome do filme: filme 2\n",
      "Nome do vilão: vilao 2\n",
      "Ano de lançamento: 2000\n",
      "Escolha uma opção: 1 - Cadastrar ou 2 - remover1\n",
      "Nome do filme: filme 3\n",
      "Nome do vilão: vilao 3\n",
      "Ano de lançamento: 2004\n",
      "Escolha uma opção: 1 - Cadastrar ou 2 - remover1\n",
      "Nome do filme: filme 4\n",
      "Nome do vilão: vilao 4\n",
      "Ano de lançamento: 2009\n",
      "Escolha uma opção: 1 - Cadastrar ou 2 - remover2\n",
      "Digite o nome do filme que deseja removerfilme 4\n",
      "Escolha uma opção: 1 - Cadastrar ou 2 - remover1\n",
      "Nome do filme: filme 5\n",
      "Nome do vilão: vilao 5\n",
      "Ano de lançamento: 2010\n",
      "Escolha uma opção: 1 - Cadastrar ou 2 - remover1\n",
      "Nome do filme: filme 6\n",
      "Nome do vilão: vilao 6\n",
      "Ano de lançamento: 2021\n",
      "{'filme 1': {'vilao': 'vilao 1', 'ano': '1999'}, 'filme 2': {'vilao': 'vilao 2', 'ano': '2000'}, 'filme 3': {'vilao': 'vilao 3', 'ano': '2004'}, 'filme 5': {'vilao': 'vilao 5', 'ano': '2010'}, 'filme 6': {'vilao': 'vilao 6', 'ano': '2021'}}\n"
     ]
    }
   ],
   "source": [
    "# Resposta\n",
    "\n",
    "def remove_pela_chave(nome_filme, dicionario):\n",
    "    '''\n",
    "    Função que remove um filme passando o nome\n",
    "    '''\n",
    "    \n",
    "    dicionario.pop(nome_filme)\n",
    "\n",
    "dic_filmes = {}\n",
    "qt_filmes = 5\n",
    "\n",
    "while True:\n",
    "    \n",
    "    if len(dic_filmes) >= qt_filmes:\n",
    "        break\n",
    "    \n",
    "    opcao = int(input(\"Escolha uma opção: 1 - Cadastrar ou 2 - remover\"))\n",
    "    \n",
    "    if opcao != 1 and opcao != 2:\n",
    "        opcao = int(input(\"Opção inválida! Escolha uma opção: 1 - Cadastrar ou 2 - remover\"))\n",
    "    elif opcao == 2:\n",
    "        filme_remover = input(\"Digite o nome do filme que deseja remover\")\n",
    "        \n",
    "        while filme_remover not in dic_filmes:\n",
    "            filme_remover = input(\"Filme não existe! Digite o nome do filme que deseja remover\")\n",
    "        \n",
    "        remove_pela_chave(filme_remover, dic_filmes)\n",
    "        print(f\"Filme '{filme_remover} removido!'\")\n",
    "        \n",
    "    else:\n",
    "        filme = {}\n",
    "        \n",
    "        nome = input(\"Nome do filme: \")\n",
    "        vilao = input(\"Nome do vilão: \")\n",
    "        ano = input(\"Ano de lançamento: \")\n",
    "        \n",
    "        filme[\"vilao\"] = vilao\n",
    "        filme[\"ano\"] = ano\n",
    "        \n",
    "        dic_filmes[nome] = filme\n",
    "        \n",
    "print(dic_filmes)"
   ]
  },
  {
   "cell_type": "markdown",
   "id": "dying-spoke",
   "metadata": {},
   "source": [
    "---"
   ]
  },
  {
   "cell_type": "code",
   "execution_count": null,
   "id": "transsexual-michael",
   "metadata": {},
   "outputs": [],
   "source": []
  }
 ],
 "metadata": {
  "kernelspec": {
   "display_name": "Python 3 (ipykernel)",
   "language": "python",
   "name": "python3"
  },
  "language_info": {
   "codemirror_mode": {
    "name": "ipython",
    "version": 3
   },
   "file_extension": ".py",
   "mimetype": "text/x-python",
   "name": "python",
   "nbconvert_exporter": "python",
   "pygments_lexer": "ipython3",
   "version": "3.9.5"
  },
  "toc": {
   "base_numbering": 1,
   "nav_menu": {},
   "number_sections": false,
   "sideBar": true,
   "skip_h1_title": false,
   "title_cell": "Table of Contents",
   "title_sidebar": "Contents",
   "toc_cell": false,
   "toc_position": {},
   "toc_section_display": true,
   "toc_window_display": false
  }
 },
 "nbformat": 4,
 "nbformat_minor": 5
}
