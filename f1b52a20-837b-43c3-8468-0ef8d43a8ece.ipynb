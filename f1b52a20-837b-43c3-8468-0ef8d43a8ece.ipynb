{
 "cells": [
  {
   "cell_type": "markdown",
   "id": "da162da1",
   "metadata": {},
   "source": [
    "#  Dicionários e Funções\n",
    "\n",
    "![](https://miro.medium.com/max/700/0*eVYBGFGqyAzH8Osf)"
   ]
  },
  {
   "cell_type": "markdown",
   "id": "9df96e79",
   "metadata": {},
   "source": [
    "## [The Zen of Python](https://medium.com/internet-das-coisas/o-zen-do-phyton-235d6aab0b94)"
   ]
  },
  {
   "cell_type": "markdown",
   "id": "69b9d539",
   "metadata": {},
   "source": [
    "## Dicionários"
   ]
  },
  {
   "cell_type": "markdown",
   "id": "28edb5e6",
   "metadata": {},
   "source": [
    "Assim como as listas, os dicionários também são coleções de dados.\n",
    "\n",
    "No entanto, o dicionário possui dois elementos principais: **chave** e **valor**.\n",
    "\n",
    "- Chave é como um index que identifica um elemento\n",
    "- Valor que foi passado para armazenar, podendo ser qualquer tipo.\n",
    "\n",
    "Para definir um dicionário usamos as chaves **{}**."
   ]
  },
  {
   "cell_type": "code",
   "execution_count": 1,
   "id": "7bbe0c8e",
   "metadata": {},
   "outputs": [
    {
     "name": "stdout",
     "output_type": "stream",
     "text": [
      "{'nome': 'João'}\n"
     ]
    }
   ],
   "source": [
    "cliente = {\"nome\": \"João\"}\n",
    "print(cliente)"
   ]
  },
  {
   "cell_type": "code",
   "execution_count": 2,
   "id": "3a8b1c59",
   "metadata": {},
   "outputs": [
    {
     "name": "stdout",
     "output_type": "stream",
     "text": [
      "{'nome': 'João', 'salario': 3000, 'empregado': True}\n"
     ]
    }
   ],
   "source": [
    "cliente = {\"nome\": \"João\",\n",
    "          \"salario\": 3000,\n",
    "          \"empregado\": True}\n",
    "print(cliente)"
   ]
  },
  {
   "cell_type": "markdown",
   "id": "3a7bf214",
   "metadata": {},
   "source": [
    "Podemos usar índices para acessar os valores de um dicionário. Neste caso, passamos o nome da \"chave\"."
   ]
  },
  {
   "cell_type": "code",
   "execution_count": 3,
   "id": "e39ad01f",
   "metadata": {},
   "outputs": [
    {
     "data": {
      "text/plain": [
       "'João'"
      ]
     },
     "execution_count": 3,
     "metadata": {},
     "output_type": "execute_result"
    }
   ],
   "source": [
    "## Ele nos retorna o valor armazenado\n",
    "cliente[\"nome\"]"
   ]
  },
  {
   "cell_type": "markdown",
   "id": "3aa548e2",
   "metadata": {},
   "source": [
    "Podemos **simular o cadastro de vários clientes em um único dicionário**. No exemplo abaixo vamos criar um **dicionário de listas**."
   ]
  },
  {
   "cell_type": "code",
   "execution_count": 7,
   "id": "10344d59",
   "metadata": {},
   "outputs": [
    {
     "name": "stdout",
     "output_type": "stream",
     "text": [
      "Digite o nome do cliente 1: Carlos\n",
      "Digite o salário do cliente 1: 32000\n",
      "Informe o cargo do cliente 1: Analista de Dados\n",
      "Digite o nome do cliente 2: Pedro\n",
      "Digite o salário do cliente 2: 23000\n",
      "Informe o cargo do cliente 2: Desenvolvedor Web\n"
     ]
    }
   ],
   "source": [
    "clientes = {}\n",
    "lista_nome = []\n",
    "lista_salario = []\n",
    "lista_cargo = []\n",
    "\n",
    "numero_clientes = 2\n",
    "    \n",
    "for cliente in range(numero_clientes):\n",
    "    nome = input(f\"Digite o nome do cliente {cliente+1}: \")\n",
    "    salario = float(input(f\"Digite o salário do cliente {cliente+1}: \" ))\n",
    "    cargo = input(f\"Informe o cargo do cliente {cliente+1}: \")\n",
    "        \n",
    "    lista_nome.append(nome)\n",
    "    lista_salario.append(salario)\n",
    "    lista_cargo.append(cargo)\n",
    "        \n",
    "    \n",
    "clientes[\"nome\"] = lista_nome\n",
    "clientes[\"salario\"] = lista_salario\n",
    "clientes[\"cargo\"] = lista_cargo"
   ]
  },
  {
   "cell_type": "markdown",
   "id": "3a91c254",
   "metadata": {
    "run_control": {
     "marked": true
    }
   },
   "source": [
    "Outra maneira interessante é, **criar uma lista com vários dicionários** com dados dos clientes. Dessa maneira podemos dizer que temos uma lista de clientes. "
   ]
  },
  {
   "cell_type": "code",
   "execution_count": 8,
   "id": "2f5f9128",
   "metadata": {
    "run_control": {
     "marked": false
    }
   },
   "outputs": [
    {
     "name": "stdout",
     "output_type": "stream",
     "text": [
      "Digite o nome do cliente 1: Alexandre\n",
      "Digite o salário do cliente 1: 30000\n",
      "Informe o cargo do cliente 1: Cientista de Dados\n",
      "Digite o nome do cliente 2: Joao\n",
      "Digite o salário do cliente 2: 45000\n",
      "Informe o cargo do cliente 2: Fullstack Developer\n",
      "[{'nome': 'Alexandre', 'salarios': 30000.0, 'cargo': 'Cientista de Dados'}, {'nome': 'Joao', 'salarios': 45000.0, 'cargo': 'Fullstack Developer'}]\n"
     ]
    }
   ],
   "source": [
    "# Usamos dicionários e laços for\n",
    "\n",
    "lista_clientes = []\n",
    "lista_nome = []\n",
    "lista_salario = []\n",
    "lista_cargo = []\n",
    "\n",
    "numero_clientes = 2\n",
    "    \n",
    "for c in range(numero_clientes):\n",
    "    cliente = {}\n",
    "    \n",
    "    nome = input(f\"Digite o nome do cliente {c+1}: \")\n",
    "    salario = float(input(f\"Digite o salário do cliente {c+1}: \" ))\n",
    "    cargo = input(f\"Informe o cargo do cliente {c+1}: \")\n",
    "        \n",
    "    cliente['nome'] = nome\n",
    "    cliente['salarios'] = salario\n",
    "    cliente['cargo'] = cargo\n",
    "    \n",
    "    lista_clientes.append(cliente)\n",
    "    \n",
    "print(lista_clientes)"
   ]
  },
  {
   "cell_type": "code",
   "execution_count": 9,
   "id": "6fbb2114",
   "metadata": {},
   "outputs": [
    {
     "data": {
      "text/plain": [
       "{'nome': 'Alexandre', 'salarios': 30000.0, 'cargo': 'Cientista de Dados'}"
      ]
     },
     "execution_count": 9,
     "metadata": {},
     "output_type": "execute_result"
    }
   ],
   "source": [
    "lista_clientes[0]"
   ]
  },
  {
   "cell_type": "code",
   "execution_count": 10,
   "id": "7d865e34",
   "metadata": {},
   "outputs": [
    {
     "data": {
      "text/plain": [
       "'Cientista de Dados'"
      ]
     },
     "execution_count": 10,
     "metadata": {},
     "output_type": "execute_result"
    }
   ],
   "source": [
    "lista_clientes[0]['cargo']"
   ]
  },
  {
   "cell_type": "markdown",
   "id": "7d14a2a6",
   "metadata": {},
   "source": [
    "Podemos observar que os dicionários são mais intuitívos para os exemplos acima, já que possui o elemento identificador que é a chave.\n",
    "\n",
    "Essa maneira de registrar um cliente em cada dicionário é bastante utilizada principalmente quando estamos manipulando outros arquivos, como um CSV.\n",
    "\n",
    "---"
   ]
  },
  {
   "cell_type": "markdown",
   "id": "47b6dab0",
   "metadata": {},
   "source": [
    "Voltando no exemplo das **listas de dicionários**\n",
    "\n",
    "Para **adicionar uma nova chave** com valores podemos fazer algo como:"
   ]
  },
  {
   "cell_type": "code",
   "execution_count": 12,
   "id": "5ad7ad91",
   "metadata": {},
   "outputs": [],
   "source": [
    "# Usando a lista de dicionários\n",
    "lista_clientes[0]['filhos'] = False"
   ]
  },
  {
   "cell_type": "code",
   "execution_count": 13,
   "id": "a511c8d2",
   "metadata": {},
   "outputs": [
    {
     "data": {
      "text/plain": [
       "{'nome': 'Alexandre',\n",
       " 'salarios': 30000.0,\n",
       " 'cargo': 'Cientista de Dados',\n",
       " 'filhos': False}"
      ]
     },
     "execution_count": 13,
     "metadata": {},
     "output_type": "execute_result"
    }
   ],
   "source": [
    "lista_clientes[0]"
   ]
  },
  {
   "cell_type": "markdown",
   "id": "7a9fc449",
   "metadata": {},
   "source": [
    "**Usando o dicionário de listas**\n",
    "\n",
    "Nesse caso, cada valor de uma chave é uma lista"
   ]
  },
  {
   "cell_type": "code",
   "execution_count": 16,
   "id": "06dd3499",
   "metadata": {},
   "outputs": [],
   "source": [
    "# Usando o dicionário de listas\n",
    "# Nesse caso, cada valor de uma chave é uma lista\n",
    "clientes[\"filhos\"] = [0,1]"
   ]
  },
  {
   "cell_type": "markdown",
   "id": "72fc2284",
   "metadata": {},
   "source": [
    "Veja que agora temos a chave 'filhos'\n"
   ]
  },
  {
   "cell_type": "code",
   "execution_count": 17,
   "id": "339f03a2",
   "metadata": {},
   "outputs": [
    {
     "name": "stdout",
     "output_type": "stream",
     "text": [
      "{'nome': ['Carlos', 'Pedro'], 'salario': [32000.0, 23000.0], 'cargo': ['Analista de Dados', 'Desenvolvedor Web'], 'filhos': [0, 1]}\n"
     ]
    }
   ],
   "source": [
    "print(clientes)"
   ]
  },
  {
   "cell_type": "markdown",
   "id": "6c713e75",
   "metadata": {},
   "source": [
    "Ou seja, basta informar a nova \"chave\" e fazer um **atribuição**.\n",
    "\n",
    "Podemos **remover uma chave usando o pop**"
   ]
  },
  {
   "cell_type": "code",
   "execution_count": 18,
   "id": "95172785",
   "metadata": {},
   "outputs": [
    {
     "data": {
      "text/plain": [
       "False"
      ]
     },
     "execution_count": 18,
     "metadata": {},
     "output_type": "execute_result"
    }
   ],
   "source": [
    "# lista de dicionários\n",
    "lista_clientes[0].pop('filhos')"
   ]
  },
  {
   "cell_type": "code",
   "execution_count": 19,
   "id": "a1645358",
   "metadata": {},
   "outputs": [
    {
     "data": {
      "text/plain": [
       "{'nome': 'Alexandre', 'salarios': 30000.0, 'cargo': 'Cientista de Dados'}"
      ]
     },
     "execution_count": 19,
     "metadata": {},
     "output_type": "execute_result"
    }
   ],
   "source": [
    "lista_clientes[0]"
   ]
  },
  {
   "cell_type": "code",
   "execution_count": 20,
   "id": "287eba6f",
   "metadata": {},
   "outputs": [
    {
     "data": {
      "text/plain": [
       "[0, 1]"
      ]
     },
     "execution_count": 20,
     "metadata": {},
     "output_type": "execute_result"
    }
   ],
   "source": [
    "# dicionário de listas\n",
    "clientes.pop(\"filhos\")"
   ]
  },
  {
   "cell_type": "code",
   "execution_count": 21,
   "id": "d5425c7f",
   "metadata": {},
   "outputs": [
    {
     "name": "stdout",
     "output_type": "stream",
     "text": [
      "{'nome': ['Carlos', 'Pedro'], 'salario': [32000.0, 23000.0], 'cargo': ['Analista de Dados', 'Desenvolvedor Web']}\n"
     ]
    }
   ],
   "source": [
    "print(clientes)"
   ]
  },
  {
   "cell_type": "markdown",
   "id": "d0e89de9",
   "metadata": {},
   "source": [
    "E também alterar os valores individualmente. Como estamos usando listas, basta passar o índice"
   ]
  },
  {
   "cell_type": "code",
   "execution_count": 22,
   "id": "e98920e8",
   "metadata": {},
   "outputs": [
    {
     "data": {
      "text/plain": [
       "['Analista de Dados', 'Desenvolvedor Web']"
      ]
     },
     "execution_count": 22,
     "metadata": {},
     "output_type": "execute_result"
    }
   ],
   "source": [
    "clientes[\"cargo\"]"
   ]
  },
  {
   "cell_type": "code",
   "execution_count": 23,
   "id": "c40b1c6b",
   "metadata": {},
   "outputs": [],
   "source": [
    "clientes[\"cargo\"][0] = \"gerente de data science\""
   ]
  },
  {
   "cell_type": "code",
   "execution_count": 24,
   "id": "dd69baaf",
   "metadata": {},
   "outputs": [
    {
     "name": "stdout",
     "output_type": "stream",
     "text": [
      "{'nome': ['Carlos', 'Pedro'], 'salario': [32000.0, 23000.0], 'cargo': ['gerente de data science', 'Desenvolvedor Web']}\n"
     ]
    }
   ],
   "source": [
    "print(clientes)"
   ]
  },
  {
   "cell_type": "markdown",
   "id": "0e381383",
   "metadata": {},
   "source": [
    "Os dicionários **são estruturas iteráveis**. Podemos então usar o **for**. Com o for nós obtemos as chaves, mas a partir das chaves temos acesso aos valores."
   ]
  },
  {
   "cell_type": "code",
   "execution_count": 25,
   "id": "a3974d07",
   "metadata": {},
   "outputs": [
    {
     "name": "stdout",
     "output_type": "stream",
     "text": [
      "nome\n",
      "salario\n",
      "cargo\n"
     ]
    }
   ],
   "source": [
    "for elemento in clientes:\n",
    "    print(elemento)"
   ]
  },
  {
   "cell_type": "code",
   "execution_count": 26,
   "id": "18c44f48",
   "metadata": {},
   "outputs": [
    {
     "name": "stdout",
     "output_type": "stream",
     "text": [
      "['Carlos', 'Pedro']\n",
      "[32000.0, 23000.0]\n",
      "['gerente de data science', 'Desenvolvedor Web']\n"
     ]
    }
   ],
   "source": [
    "for elemento in clientes:\n",
    "    # Nesse exemplo usamos o for para percorrer o dicionário acessando suas chaves\n",
    "    # Depois, passamos dentro do print o próprio dicionário e a chave que está sendo armazenada no \"elemento\"\n",
    "    # durante a iteração\n",
    "    print(clientes[elemento])"
   ]
  },
  {
   "cell_type": "markdown",
   "id": "2f49ab06",
   "metadata": {},
   "source": [
    "Podemos ainda pegar os valores diretamente com a função values()"
   ]
  },
  {
   "cell_type": "code",
   "execution_count": 34,
   "id": "5e681cb7",
   "metadata": {},
   "outputs": [
    {
     "data": {
      "text/plain": [
       "dict_values([['Carlos', 'Pedro'], [32000.0, 23000.0], ['gerente de data science', 'Desenvolvedor Web']])"
      ]
     },
     "execution_count": 34,
     "metadata": {},
     "output_type": "execute_result"
    }
   ],
   "source": [
    "clientes.values()"
   ]
  },
  {
   "cell_type": "markdown",
   "id": "53d4d238",
   "metadata": {},
   "source": [
    "Vamos imaginar que queremos apenas os dados do Carlos. Usando **for** ficaria dessa maneira."
   ]
  },
  {
   "cell_type": "markdown",
   "id": "1ad6cf25",
   "metadata": {},
   "source": [
    "Usando o **values**, nosso for ficaria:"
   ]
  },
  {
   "cell_type": "code",
   "execution_count": 35,
   "id": "f4996450",
   "metadata": {},
   "outputs": [
    {
     "data": {
      "text/plain": [
       "['Carlos', 32000.0, 'gerente de data science']"
      ]
     },
     "execution_count": 35,
     "metadata": {},
     "output_type": "execute_result"
    }
   ],
   "source": [
    "dados_carlos = []\n",
    "\n",
    "for valor in clientes.values():\n",
    "    \n",
    "    # Passamos um segundo índice onde pegamos apenas o elemento que está\n",
    "    # no mesmo índice que o \"joao\".\n",
    "    dados_carlos.append(valor[clientes[\"nome\"].index(\"Carlos\")])\n",
    "\n",
    "dados_carlos"
   ]
  },
  {
   "cell_type": "markdown",
   "id": "0b927ace",
   "metadata": {},
   "source": [
    "Como já sabemos, podemos fazer isso com um linha de código utilizando compreensão de listas"
   ]
  },
  {
   "cell_type": "code",
   "execution_count": 36,
   "id": "fcfff81a",
   "metadata": {},
   "outputs": [],
   "source": [
    "dados_carlos = [valor[clientes[\"nome\"].index(\"Carlos\")] for valor in clientes.values()]"
   ]
  },
  {
   "cell_type": "code",
   "execution_count": 37,
   "id": "4ed3e3cd",
   "metadata": {},
   "outputs": [
    {
     "name": "stdout",
     "output_type": "stream",
     "text": [
      "['Carlos', 32000.0, 'gerente de data science']\n"
     ]
    }
   ],
   "source": [
    "print(dados_carlos)"
   ]
  },
  {
   "cell_type": "markdown",
   "id": "20c3f128",
   "metadata": {},
   "source": [
    "Acessando através das funções **keys()** e **values()**"
   ]
  },
  {
   "cell_type": "code",
   "execution_count": 38,
   "id": "210598fb",
   "metadata": {},
   "outputs": [
    {
     "name": "stdout",
     "output_type": "stream",
     "text": [
      "dict_keys(['nome', 'salario', 'cargo'])\n",
      "dict_values([['Carlos', 'Pedro'], [32000.0, 23000.0], ['gerente de data science', 'Desenvolvedor Web']])\n"
     ]
    }
   ],
   "source": [
    "print(clientes.keys())\n",
    "print(clientes.values())"
   ]
  },
  {
   "cell_type": "markdown",
   "id": "d316fb77",
   "metadata": {},
   "source": [
    "E por fim, podemos transformar essas saídas em listas"
   ]
  },
  {
   "cell_type": "code",
   "execution_count": 39,
   "id": "a986f6ef",
   "metadata": {},
   "outputs": [
    {
     "name": "stdout",
     "output_type": "stream",
     "text": [
      "[['Carlos', 'Pedro'], [32000.0, 23000.0], ['gerente de data science', 'Desenvolvedor Web']]\n"
     ]
    }
   ],
   "source": [
    "print(list(clientes.values()))"
   ]
  },
  {
   "cell_type": "markdown",
   "id": "26978838",
   "metadata": {},
   "source": [
    "Outro recurso que pode ser muito útil e devemos lembrar é que podemos verificar se uma certa chave existe"
   ]
  },
  {
   "cell_type": "code",
   "execution_count": 40,
   "id": "adc598d7",
   "metadata": {},
   "outputs": [],
   "source": [
    "dicionario_dolar = {\"dia_mes\": [1, 2, 3], \"dolar\": [4.56, 4.67, 5.00]}"
   ]
  },
  {
   "cell_type": "code",
   "execution_count": 41,
   "id": "071f4973",
   "metadata": {},
   "outputs": [
    {
     "data": {
      "text/plain": [
       "True"
      ]
     },
     "execution_count": 41,
     "metadata": {},
     "output_type": "execute_result"
    }
   ],
   "source": [
    "\"dia_mes\" in dicionario_dolar"
   ]
  },
  {
   "cell_type": "markdown",
   "id": "c6b149e5",
   "metadata": {},
   "source": [
    "### Exercício"
   ]
  },
  {
   "cell_type": "markdown",
   "id": "de81588f",
   "metadata": {},
   "source": [
    "Crie um programa que cadastre informações de várias pessoas (nome, idade e cpf) e depois coloque em um dicionário."
   ]
  },
  {
   "cell_type": "code",
   "execution_count": null,
   "id": "8ffd445a",
   "metadata": {},
   "outputs": [],
   "source": [
    "# Resposta parte 1 - Cadastro\n",
    "\n",
    "# Queremos um dicionário com vários registro\n",
    "# Portanto, iremos criar um dicionário de dicionários, onde os dicionários internos serão cada pessoa cadastrada\n",
    "\n",
    "pessoas = {}\n",
    "codigo_pessoa = 1 # vamos usar essa variável como chave para cada pessoa  cadastrada. ela será incrementada no while\n",
    "\n",
    "while True:\n",
    "    \n",
    "    print(\"Cadastro de pessoas\")\n",
    "    \n",
    "    # vou fornecer duas opções para o usuário, 0 para finalizar e 1 para cadastrar uma nova pessoa\n",
    "    opcao = int(input(\"Digite '1' para cadastrar uma pessoa ou '0' para finalizar o programa: \"))\n",
    "    \n",
    "    if opcao < 1:\n",
    "        break\n",
    "    elif opcao >1:\n",
    "        print(\"Opção inválida!\")\n",
    "    else:\n",
    "        pessoa = {}\n",
    "        cpf = input(\"Informe o CPF da pessoa: \")\n",
    "        idade = int(input(\"Informe a idade da pessoa: \"))\n",
    "        nome = input(\"Informe o nome da pessoa: \")\n",
    "        \n",
    "        # Todas as informações inseridas pelo usuário serão armazenadas em um dicionário\n",
    "        pessoa[\"cpf\"] = cpf\n",
    "        pessoa[\"idade\"] = idade\n",
    "        pessoa[\"nome\"] = nome\n",
    "        \n",
    "        # Após isso, usamos o 'codigo_pessoa' como chave do dicionário 'pessoas' e armazenamos o dicionário 'pessoa'\n",
    "        pessoas[codigo_pessoa] = pessoa\n",
    "        \n",
    "        # Incrementamos essa variável para que a próxima pessoa cadastrada tenho um código diferente\n",
    "        codigo_pessoa += 1\n",
    "        print(\"\\n\")\n",
    "\n",
    "# Mostramos as pessoas cadastradas\n",
    "print(\"Dicionário de pessoas cadastradas: \\n\")\n",
    "print(pessoas)"
   ]
  },
  {
   "cell_type": "markdown",
   "id": "07fde0b2",
   "metadata": {},
   "source": [
    "## Funções e Bibliotecas"
   ]
  },
  {
   "cell_type": "markdown",
   "id": "1069f11d",
   "metadata": {},
   "source": [
    "Ao longo das nossas aulas usamos várias funções. Uma observação importante a se fazer e que cada função executa uma determinada tarefa. Usamos o print() que nos mostra alguma mensagem, o max() que nos retorna o maior valor de uma lista. Esses são apenas alguns exemplos."
   ]
  },
  {
   "cell_type": "markdown",
   "id": "f8939fcf",
   "metadata": {
    "run_control": {
     "marked": true
    }
   },
   "source": [
    "As funções possuem uma sintaxe bem definida: nome da função seguido de parênteses >> **nome_funcao()**.\n",
    "- O nome da função simplesmente tenta descrever da maneira mais sucinta o que é executado pela mesma\n",
    "- Os parêntese são utilizados para inserirmos **argumentos**. Esses argumentos são valores utilizados dentro da função durante sua execução. No exemplo do print() o argumento é um texto (String), já no max() poderia ser uma lista."
   ]
  },
  {
   "cell_type": "code",
   "execution_count": 43,
   "id": "ebb09014",
   "metadata": {},
   "outputs": [
    {
     "name": "stdout",
     "output_type": "stream",
     "text": [
      "Texto como argumento\n"
     ]
    }
   ],
   "source": [
    "print(\"Texto como argumento\")"
   ]
  },
  {
   "cell_type": "code",
   "execution_count": 42,
   "id": "d52483cb",
   "metadata": {},
   "outputs": [
    {
     "data": {
      "text/plain": [
       "4"
      ]
     },
     "execution_count": 42,
     "metadata": {},
     "output_type": "execute_result"
    }
   ],
   "source": [
    "lista = [3, 4]\n",
    "max(lista)"
   ]
  },
  {
   "cell_type": "markdown",
   "id": "030c3c8d",
   "metadata": {},
   "source": [
    "Podemos então imaginar as funções como \"caixinhas\" que recebem uma entrada (argumento), realiza algum processamento e retorna algum valor. Isso é extremamente importante quando queremos dividir as tarefas em nossos scripts, deixando o código ainda mais organizado."
   ]
  },
  {
   "cell_type": "markdown",
   "id": "92302c81",
   "metadata": {},
   "source": [
    "<img src=\"imgs/func.PNG\" width=\"500\"/>"
   ]
  },
  {
   "cell_type": "markdown",
   "id": "2de38119",
   "metadata": {},
   "source": [
    "Agora vamos criar as nossas próprias funções!\n",
    "\n",
    "A estrutura de **definição de uma função** é dada por:\n",
    "\n",
    "```python\n",
    "def nome_da_funcao(argumentos):\n",
    "    \n",
    "    instrucoes\n",
    "    \n",
    "    return saida\n",
    "```\n",
    "\n",
    "Vamos ver o que cada parte do código acima segnifica:\n",
    "- **def** é a palavra reservada utilizada para **definir uma função**\n",
    "- Após o def, passamos o nome da função. Lembre-se de sempre usar um nome que descreva bem a sua função\n",
    "- Entre os parênteses () passamos os argumentes, isto é, os valores usados dentro da função\n",
    "- Dentro da função é onde escrevemos as instruções, o que a função vai realizar\n",
    "- O **return** é uma palavra reservada que indica o que será retornado pela função\n",
    "- **E NUNCA SE ESQUEÇA DA IDENTAÇÃO!**"
   ]
  },
  {
   "cell_type": "markdown",
   "id": "8581317b",
   "metadata": {},
   "source": [
    "Vamos fazer um exemplo"
   ]
  },
  {
   "cell_type": "code",
   "execution_count": 44,
   "id": "051ee6c4",
   "metadata": {},
   "outputs": [],
   "source": [
    "def soma_dois_numeros(num1, num2):\n",
    "    soma = num1+num2\n",
    "    return soma"
   ]
  },
  {
   "cell_type": "code",
   "execution_count": 45,
   "id": "86e0176f",
   "metadata": {},
   "outputs": [
    {
     "data": {
      "text/plain": [
       "6"
      ]
     },
     "execution_count": 45,
     "metadata": {},
     "output_type": "execute_result"
    }
   ],
   "source": [
    "soma_dois_numeros(3, 3)"
   ]
  },
  {
   "cell_type": "markdown",
   "id": "7a75f537",
   "metadata": {},
   "source": [
    "Como a função utiliza o **return**, podemos usar uma variável para receber esse valor retornado"
   ]
  },
  {
   "cell_type": "code",
   "execution_count": 46,
   "id": "ce33ffe5",
   "metadata": {},
   "outputs": [
    {
     "name": "stdout",
     "output_type": "stream",
     "text": [
      "7\n"
     ]
    }
   ],
   "source": [
    "resultado_soma = soma_dois_numeros(4, 3)\n",
    "print(resultado_soma)"
   ]
  },
  {
   "cell_type": "markdown",
   "id": "24112100",
   "metadata": {},
   "source": [
    "O mesmo não seria possível caso não fosse utilizado o return"
   ]
  },
  {
   "cell_type": "code",
   "execution_count": 47,
   "id": "167506f2",
   "metadata": {},
   "outputs": [],
   "source": [
    "def soma_dois_numeros(num1, num2):\n",
    "    soma = num1+num2"
   ]
  },
  {
   "cell_type": "code",
   "execution_count": 48,
   "id": "3e42bc23",
   "metadata": {},
   "outputs": [],
   "source": [
    "soma_dois_numeros(3, 3)"
   ]
  },
  {
   "cell_type": "code",
   "execution_count": 49,
   "id": "c2fe86b6",
   "metadata": {},
   "outputs": [
    {
     "name": "stdout",
     "output_type": "stream",
     "text": [
      "None\n"
     ]
    }
   ],
   "source": [
    "resultado_soma = soma_dois_numeros(4, 3)\n",
    "print(resultado_soma)"
   ]
  },
  {
   "cell_type": "markdown",
   "id": "5fd59ace",
   "metadata": {},
   "source": [
    "Veja que ele retorna um **None**\n",
    "\n",
    "Poderíamos fazer a função apenas realizar um print"
   ]
  },
  {
   "cell_type": "code",
   "execution_count": 50,
   "id": "3e956ecb",
   "metadata": {},
   "outputs": [],
   "source": [
    "def soma_dois_numeros(num1, num2):\n",
    "    soma = num1+num2\n",
    "    print(soma)"
   ]
  },
  {
   "cell_type": "code",
   "execution_count": 51,
   "id": "ecf9d5e5",
   "metadata": {},
   "outputs": [
    {
     "name": "stdout",
     "output_type": "stream",
     "text": [
      "7\n"
     ]
    }
   ],
   "source": [
    "soma_dois_numeros(4, 3)"
   ]
  },
  {
   "cell_type": "markdown",
   "id": "abbd4da3",
   "metadata": {},
   "source": [
    "Portanto, o **return é utilizado quando queremos que função DEVOLVA algum valor**"
   ]
  },
  {
   "cell_type": "markdown",
   "id": "46b538c9",
   "metadata": {},
   "source": [
    "Vamos fazer mais alguns exemplos"
   ]
  },
  {
   "cell_type": "code",
   "execution_count": 52,
   "id": "60effc97",
   "metadata": {},
   "outputs": [],
   "source": [
    "def cumprimenta_horario(nome, hora):\n",
    "    '''\n",
    "    Função que retorna uma String contendo a saudação\n",
    "    \n",
    "    Argumentos:\n",
    "    nome : String\n",
    "    hora : int\n",
    "    '''\n",
    "    \n",
    "    if hora < 12:\n",
    "        saida = \"Bom dia, \" + nome\n",
    "    elif hora < 19:\n",
    "        saida = \"Boa tarde, \" + nome\n",
    "    else:\n",
    "        saida = \"Boa noite, \" + nome\n",
    "    \n",
    "    return saida"
   ]
  },
  {
   "cell_type": "markdown",
   "id": "fe60ad67",
   "metadata": {},
   "source": [
    "Agora, chame sua função e aperte SHIFT+TAB. Você irá visualizar a descrição da sua função, juntamente com o comentário que foi colocado dentro dela.\n",
    "\n",
    "Esse tipo de descrição das funções é entendido como uma boa prática de programação, pois dessa forma outras pessoas conseguem entender a operação que foi escrita por você.\n",
    "\n",
    "Essa é uma das etapas de **documentação** das nossas aplicações."
   ]
  },
  {
   "cell_type": "code",
   "execution_count": 53,
   "id": "8d265dc2",
   "metadata": {},
   "outputs": [
    {
     "data": {
      "text/plain": [
       "'Boa noite, Andrey'"
      ]
     },
     "execution_count": 53,
     "metadata": {},
     "output_type": "execute_result"
    }
   ],
   "source": [
    "cumprimenta_horario(\"Andrey\", 19)"
   ]
  },
  {
   "cell_type": "markdown",
   "id": "c16fd754",
   "metadata": {},
   "source": [
    "---"
   ]
  },
  {
   "cell_type": "markdown",
   "id": "be5c15a4",
   "metadata": {},
   "source": [
    "Um exemplo para cadastrar clientes. **Desta vez sem passar parâmetros**."
   ]
  },
  {
   "cell_type": "code",
   "execution_count": 54,
   "id": "2dd89e9a",
   "metadata": {},
   "outputs": [],
   "source": [
    "def cadastra_clientes():\n",
    "    \n",
    "    lista_clientes = []\n",
    "    \n",
    "    cadastra = True\n",
    "    \n",
    "    while cadastra:\n",
    "        nome_cliente = input(\"Digite o nome do cliente ou 0 para sair: \")\n",
    "        \n",
    "        if nome_cliente != \"0\":\n",
    "            lista_clientes.append(nome_cliente)\n",
    "        else:\n",
    "            cadastra = False\n",
    "    \n",
    "    return lista_clientes"
   ]
  },
  {
   "cell_type": "markdown",
   "id": "67ba2ad3",
   "metadata": {},
   "source": [
    "Como ele retorna uma lista, vamos armazenar em uma variável"
   ]
  },
  {
   "cell_type": "code",
   "execution_count": 55,
   "id": "f3a9b526",
   "metadata": {},
   "outputs": [
    {
     "name": "stdout",
     "output_type": "stream",
     "text": [
      "Digite o nome do cliente ou 0 para sair: Fulano\n",
      "Digite o nome do cliente ou 0 para sair: Ciclano\n",
      "Digite o nome do cliente ou 0 para sair: Beltrano\n",
      "Digite o nome do cliente ou 0 para sair: 0\n"
     ]
    }
   ],
   "source": [
    "lista_clientes = cadastra_clientes()"
   ]
  },
  {
   "cell_type": "code",
   "execution_count": 56,
   "id": "1bfd7488",
   "metadata": {},
   "outputs": [
    {
     "name": "stdout",
     "output_type": "stream",
     "text": [
      "['Fulano', 'Ciclano', 'Beltrano']\n"
     ]
    }
   ],
   "source": [
    "print(lista_clientes)"
   ]
  },
  {
   "cell_type": "markdown",
   "id": "fae74359",
   "metadata": {},
   "source": [
    "Vamos agora fazer uma calculadora"
   ]
  },
  {
   "cell_type": "code",
   "execution_count": 57,
   "id": "27cf275b",
   "metadata": {},
   "outputs": [],
   "source": [
    "def calculadora(num1, num2):\n",
    "    '''\n",
    "    Recebe dois números e realiza algum calculo\n",
    "    '''\n",
    "    \n",
    "    operacao = input(\"Digite a operação (+,-,*,/): \")\n",
    "    \n",
    "    if operacao == \"+\":\n",
    "        \n",
    "        resultado = num1 + num2\n",
    "        \n",
    "    elif operacao == \"-\":\n",
    "        \n",
    "        resultado = num1 - num2\n",
    "    \n",
    "    elif operacao == \"*\":\n",
    "        \n",
    "        resultado = num1 * num2\n",
    "    \n",
    "    elif operacao == \"/\":\n",
    "        \n",
    "        resultado = num1 / num2\n",
    "    \n",
    "    else:\n",
    "        \n",
    "        resultado = \"Não entendi!\"\n",
    "    \n",
    "    return resultado"
   ]
  },
  {
   "cell_type": "code",
   "execution_count": 58,
   "id": "2284865c",
   "metadata": {},
   "outputs": [
    {
     "name": "stdout",
     "output_type": "stream",
     "text": [
      "Digite a operação (+,-,*,/): +\n"
     ]
    },
    {
     "data": {
      "text/plain": [
       "7"
      ]
     },
     "execution_count": 58,
     "metadata": {},
     "output_type": "execute_result"
    }
   ],
   "source": [
    "calculadora(3, 4)"
   ]
  },
  {
   "cell_type": "markdown",
   "id": "c03896d8",
   "metadata": {},
   "source": [
    "Podemos ainda **criar uma função para cada operação acima e chamar essas funções dentro da função calculadora**."
   ]
  },
  {
   "cell_type": "code",
   "execution_count": 59,
   "id": "01602ca8",
   "metadata": {},
   "outputs": [],
   "source": [
    "def soma(n1, n2):\n",
    "    \n",
    "    resultado = n1 + n2\n",
    "    \n",
    "    return resultado\n",
    "\n",
    "########################################\n",
    "    \n",
    "def subtracao(n1, n2):\n",
    "    \n",
    "    return n1 - n2\n",
    "\n",
    "########################################\n",
    "    \n",
    "def multiplicacao(n1, n2):\n",
    "    \n",
    "    return n1 * n2\n",
    "\n",
    "########################################\n",
    "    \n",
    "def divisao(n1, n2):\n",
    "    \n",
    "    return n1 / n2"
   ]
  },
  {
   "cell_type": "markdown",
   "id": "e202d3b9",
   "metadata": {},
   "source": [
    "Veja como a função calculadora agora ficaria\n",
    "\n",
    "Observe que não estamos usando a variável \"resultado\", estamos usando o return DENTRO DAS CONDIÇÃO. Essa é uma maneira mais direta de realizar a operação."
   ]
  },
  {
   "cell_type": "code",
   "execution_count": 78,
   "id": "39ba3322",
   "metadata": {},
   "outputs": [],
   "source": [
    "def calculadora(n1, n2, operacao):\n",
    "    \n",
    "    if operacao == \"+\":\n",
    "\n",
    "        return soma(n1, n2)\n",
    "\n",
    "    elif operacao == \"-\":\n",
    "\n",
    "        return subtracao(n1, n2)\n",
    "\n",
    "    elif operacao == \"*\":\n",
    "\n",
    "        return multiplicacao(n1, n2)\n",
    "\n",
    "    elif operacao == \"/\":\n",
    "\n",
    "        return divisao(n1, n2)\n",
    "\n",
    "    else: \n",
    "\n",
    "        return \"Não entendi!\""
   ]
  },
  {
   "cell_type": "code",
   "execution_count": 79,
   "id": "82548c38",
   "metadata": {},
   "outputs": [
    {
     "data": {
      "text/plain": [
       "5"
      ]
     },
     "execution_count": 79,
     "metadata": {},
     "output_type": "execute_result"
    }
   ],
   "source": [
    "calculadora(2, 3, '+')"
   ]
  },
  {
   "cell_type": "markdown",
   "id": "73994afb",
   "metadata": {},
   "source": [
    "Também é possível utilizar a função calculadora para definir uma função que calcula a média entre dois números:"
   ]
  },
  {
   "cell_type": "code",
   "execution_count": 80,
   "id": "9d629391",
   "metadata": {},
   "outputs": [],
   "source": [
    "def media(num1, num2):\n",
    "    \n",
    "    return calculadora(num1, num2, \"+\")/2"
   ]
  },
  {
   "cell_type": "code",
   "execution_count": 81,
   "id": "61336a24",
   "metadata": {},
   "outputs": [
    {
     "data": {
      "text/plain": [
       "8.5"
      ]
     },
     "execution_count": 81,
     "metadata": {},
     "output_type": "execute_result"
    }
   ],
   "source": [
    "media(7, 10)"
   ]
  },
  {
   "cell_type": "markdown",
   "id": "022d68d9",
   "metadata": {},
   "source": [
    "Mas podemos ir além: **chamar a mesma função dentro dela mesma!**\n",
    "\n",
    "Por exemplo, pra calcular potências!"
   ]
  },
  {
   "cell_type": "code",
   "execution_count": 82,
   "id": "b6d0f89d",
   "metadata": {},
   "outputs": [],
   "source": [
    "def potencia(base, expoente):\n",
    "    \n",
    "    if expoente > 0:\n",
    "        \n",
    "        return base * potencia(base, expoente-1)\n",
    "    \n",
    "    elif expoente == 0:\n",
    "        \n",
    "        return 1"
   ]
  },
  {
   "cell_type": "code",
   "execution_count": 83,
   "id": "94d80fa7",
   "metadata": {},
   "outputs": [
    {
     "data": {
      "text/plain": [
       "8"
      ]
     },
     "execution_count": 83,
     "metadata": {},
     "output_type": "execute_result"
    }
   ],
   "source": [
    "potencia(2, 3)"
   ]
  },
  {
   "cell_type": "markdown",
   "id": "242deea0",
   "metadata": {},
   "source": [
    "Podemos entender a recursividade ao analisar o que que a função retorna a cada vez que ela é chamada:\n",
    "\n",
    "- potencia(2, 3)\n",
    "- 2 * potencia(2, 2)\n",
    "- 2 * (2 * potencia(2, 1))\n",
    "- 2 * (2 * (2 * potencia(2, 0)))\n",
    "- 2 * (2 * (2 * 1))\n",
    "\n",
    "Assim, o resultado final é:\n",
    "\n",
    "2 * 2 * 2 * 1 = 8"
   ]
  },
  {
   "cell_type": "markdown",
   "id": "fd58fedc",
   "metadata": {},
   "source": [
    "Existem problemas que são naturalmente recursivos, como, por exemplo, fatorial:\n",
    "\n",
    "5! = 5\\*4! = 5\\*4\\*3! = 5\\*4\\*3\\*2! = 5\\*4\\*3\\*2\\*1!"
   ]
  },
  {
   "cell_type": "code",
   "execution_count": 85,
   "id": "aa4f5c81",
   "metadata": {},
   "outputs": [],
   "source": [
    "def fatorial(n):\n",
    "    if n >= 1:  \n",
    "        return n * fatorial(n-1)\n",
    "    elif n == 0:\n",
    "        return 1"
   ]
  },
  {
   "cell_type": "code",
   "execution_count": 86,
   "id": "4d4c88b2",
   "metadata": {},
   "outputs": [
    {
     "data": {
      "text/plain": [
       "120"
      ]
     },
     "execution_count": 86,
     "metadata": {},
     "output_type": "execute_result"
    }
   ],
   "source": [
    "fatorial(5)"
   ]
  },
  {
   "cell_type": "markdown",
   "id": "91fc80ad",
   "metadata": {},
   "source": [
    "Visualizando o return de cada execução da função:\n",
    "\n",
    "- fatorial(4)\n",
    "- 4 * fatorial(3)\n",
    "- 4 * (3 * fatorial(2))\n",
    "- 4 * (3 * (2 * fatorial(1)))\n",
    "- 4 * (3 * (2 * 1))\n",
    "\n",
    "Assim, o resultado final é:\n",
    "\n",
    "4 * 3 * 2 * 1"
   ]
  },
  {
   "cell_type": "markdown",
   "id": "b5b35a31",
   "metadata": {},
   "source": [
    "Apesar de **elegantes**, funções recursivas são **pouco eficientes** (pois demandam mais memória), e de leitura mais difícil"
   ]
  },
  {
   "cell_type": "markdown",
   "id": "a6dde723",
   "metadata": {},
   "source": [
    "---"
   ]
  },
  {
   "cell_type": "markdown",
   "id": "60d04d99",
   "metadata": {},
   "source": [
    "Por fim fique atento nas seguintes situação:\n",
    "- A função não recebe parâmetros e você passa algum parâmetro\n",
    "- A função rece um ou mais parâmetros e a você não passa parâmetros"
   ]
  },
  {
   "cell_type": "code",
   "execution_count": 62,
   "id": "189b1c79",
   "metadata": {},
   "outputs": [],
   "source": [
    "def mostra_resultado():\n",
    "    print(\"Resultado\")"
   ]
  },
  {
   "cell_type": "code",
   "execution_count": 63,
   "id": "b615a9a8",
   "metadata": {},
   "outputs": [
    {
     "ename": "TypeError",
     "evalue": "mostra_resultado() takes 0 positional arguments but 1 was given",
     "output_type": "error",
     "traceback": [
      "\u001b[1;31m---------------------------------------------------------------------------\u001b[0m",
      "\u001b[1;31mTypeError\u001b[0m                                 Traceback (most recent call last)",
      "\u001b[1;32m~\\AppData\\Local\\Temp/ipykernel_22664/1779337338.py\u001b[0m in \u001b[0;36m<module>\u001b[1;34m\u001b[0m\n\u001b[1;32m----> 1\u001b[1;33m \u001b[0mmostra_resultado\u001b[0m\u001b[1;33m(\u001b[0m\u001b[1;34m\"42\"\u001b[0m\u001b[1;33m)\u001b[0m\u001b[1;33m\u001b[0m\u001b[1;33m\u001b[0m\u001b[0m\n\u001b[0m",
      "\u001b[1;31mTypeError\u001b[0m: mostra_resultado() takes 0 positional arguments but 1 was given"
     ]
    }
   ],
   "source": [
    "mostra_resultado(\"42\")"
   ]
  },
  {
   "cell_type": "code",
   "execution_count": 64,
   "id": "7d0fcb16",
   "metadata": {},
   "outputs": [],
   "source": [
    "def mostra_resultado(resultado):\n",
    "    print(\"Resultado: \", resultado)"
   ]
  },
  {
   "cell_type": "code",
   "execution_count": 65,
   "id": "ce0024a6",
   "metadata": {},
   "outputs": [
    {
     "ename": "TypeError",
     "evalue": "mostra_resultado() missing 1 required positional argument: 'resultado'",
     "output_type": "error",
     "traceback": [
      "\u001b[1;31m---------------------------------------------------------------------------\u001b[0m",
      "\u001b[1;31mTypeError\u001b[0m                                 Traceback (most recent call last)",
      "\u001b[1;32m~\\AppData\\Local\\Temp/ipykernel_22664/3284918237.py\u001b[0m in \u001b[0;36m<module>\u001b[1;34m\u001b[0m\n\u001b[1;32m----> 1\u001b[1;33m \u001b[0mmostra_resultado\u001b[0m\u001b[1;33m(\u001b[0m\u001b[1;33m)\u001b[0m\u001b[1;33m\u001b[0m\u001b[1;33m\u001b[0m\u001b[0m\n\u001b[0m",
      "\u001b[1;31mTypeError\u001b[0m: mostra_resultado() missing 1 required positional argument: 'resultado'"
     ]
    }
   ],
   "source": [
    "mostra_resultado()"
   ]
  },
  {
   "cell_type": "markdown",
   "id": "bccecf1a",
   "metadata": {},
   "source": [
    "No python temos um recurso onde passamos **\\*args** como parâmetro e a função pode receber uma série de parâmetros sem definí-los explicitamente"
   ]
  },
  {
   "cell_type": "code",
   "execution_count": 66,
   "id": "ff396ce3",
   "metadata": {},
   "outputs": [],
   "source": [
    "def mostra_resultados(*args):\n",
    "    print(\"Resultados: \", args)"
   ]
  },
  {
   "cell_type": "code",
   "execution_count": 67,
   "id": "d7a678c8",
   "metadata": {},
   "outputs": [
    {
     "name": "stdout",
     "output_type": "stream",
     "text": [
      "Resultados:  ('42', 56, True)\n"
     ]
    }
   ],
   "source": [
    "mostra_resultados(\"42\", 56, True)"
   ]
  },
  {
   "cell_type": "code",
   "execution_count": 69,
   "id": "cf5a2675",
   "metadata": {},
   "outputs": [],
   "source": [
    "def somatorio(*args):\n",
    "    print(sum(args))"
   ]
  },
  {
   "cell_type": "code",
   "execution_count": 70,
   "id": "fe27f5d0",
   "metadata": {},
   "outputs": [
    {
     "name": "stdout",
     "output_type": "stream",
     "text": [
      "15\n"
     ]
    }
   ],
   "source": [
    "somatorio(1,2,3,4,5)"
   ]
  },
  {
   "cell_type": "markdown",
   "id": "69e48eea",
   "metadata": {},
   "source": [
    "### Exercício"
   ]
  },
  {
   "cell_type": "markdown",
   "id": "d587d7d3",
   "metadata": {},
   "source": [
    "Faça um programa que fique pedindo uma resposta do usuário, \n",
    "entre 1, 2 e 3. Se o usuário digitar 1, o programa deve cadastrar um novo usuário\n",
    "e guardar esse cadastro num dicionário cuja chave será o CPF da pessoa. \n",
    "Quando o usuário digitar 2, o programa deve imprimir os usuários cadastrados; \n",
    "e se o usuário digitar 3, o programa deve fechar.\n"
   ]
  },
  {
   "cell_type": "code",
   "execution_count": null,
   "id": "ec9c1a27",
   "metadata": {},
   "outputs": [],
   "source": [
    "def cadastra_pessoa(nome, idade, email): #função do exercício 5\n",
    "    return { \"nome\": nome, \"idade\": idade, \"email\": email }\n",
    "\n",
    "usuarios = {}\n",
    "entrada = 0 # Começa a variável num valor que entra no loop\n",
    "while entrada != 3:\n",
    "    print()\n",
    "    print(\"As opções são:\")\n",
    "    print(\"1 - Cadastrar novo usuário\")\n",
    "    print(\"2 - Mostrar usuários cadastrados\")\n",
    "    print(\"3 - Fechar programa\")\n",
    "    entrada = int(input(\"Escolha uma opção: \"))\n",
    "    print()\n",
    "    if entrada == 1:\n",
    "        print(\"Cadastro de usuário\")\n",
    "        CPF = input(\"CPF: \")\n",
    "        nome = input(\"Nome: \")\n",
    "        idade = int(input(\"Idade: \"))\n",
    "        email = input(\"Email: \")\n",
    "        usuarios[CPF] = cadastraPessoa(nome, idade, email) \n",
    "        print(\"Usuário Cadastrado\")\n",
    "\n",
    "    elif entrada == 2:\n",
    "        if len(usuarios) == 0:\n",
    "            print(\"Não há usuários cadastrados\")\n",
    "        else:\n",
    "            print(\"Lista de usuários cadastrados\")\n",
    "            print(type(usuarios))\n",
    "            for i in usuarios.items():\n",
    "                print(i)"
   ]
  },
  {
   "cell_type": "code",
   "execution_count": null,
   "id": "b6cd7389",
   "metadata": {},
   "outputs": [],
   "source": []
  },
  {
   "cell_type": "markdown",
   "id": "b2d80db3",
   "metadata": {},
   "source": [
    "## Bibliotecas"
   ]
  },
  {
   "cell_type": "markdown",
   "id": "e480b93f",
   "metadata": {},
   "source": [
    "Tivemos acesso a vários funções ao longo do módulo. Algumas delas como input(), len(), max() e várias outras. Essas funções são chamadas de built-in funciton, isso significa que elas já estão implementadas dentro do python. No entanto algumas podem ser acessa externamente, como é o caso da random().\n",
    "\n",
    "Para isso devemos usar a palavra reservada **import** para importar essas funções"
   ]
  },
  {
   "cell_type": "code",
   "execution_count": 72,
   "id": "297809dc",
   "metadata": {},
   "outputs": [],
   "source": [
    "import random"
   ]
  },
  {
   "cell_type": "code",
   "execution_count": 73,
   "id": "7eb35253",
   "metadata": {},
   "outputs": [
    {
     "data": {
      "text/plain": [
       "3"
      ]
     },
     "execution_count": 73,
     "metadata": {},
     "output_type": "execute_result"
    }
   ],
   "source": [
    "random.randint(1, 10)"
   ]
  },
  {
   "cell_type": "markdown",
   "id": "ea343ad8",
   "metadata": {},
   "source": [
    "Veja que usamos a função randint. O que seria então o random? **O random é uma bilbioteca (ou módulo). Ela possui a implementação de várias funções relacionadas a geração de números aleatórios. Podemos imaginar a random como um arquivo .py onde essas funções estão escritas**.\n",
    "\n",
    "Perceberam agora outra vantagem de se utilizar funções? Podemos isolar nossas funções em diferentes arquivos de maneira que nossas aplicações fiquem modularizadas. Isso traz maior organização, fácil compreensão e escalabilidade para nossas aplicações."
   ]
  },
  {
   "cell_type": "markdown",
   "id": "6db74758",
   "metadata": {},
   "source": [
    "Outra maneira de importar bibliotecas seria como:\n",
    "\n",
    "```python\n",
    "import nome_da_biblioteca as apelido_da_biblioteca\n",
    "```"
   ]
  },
  {
   "cell_type": "code",
   "execution_count": 74,
   "id": "1c41e081",
   "metadata": {},
   "outputs": [],
   "source": [
    "# EXEMPLO USANDO O datetime\n",
    "import datetime as dt"
   ]
  },
  {
   "cell_type": "markdown",
   "id": "31da27a8",
   "metadata": {},
   "source": [
    "Nesse caso estamos atribuindo um \"apelido\" para a biblioteca ou função importada, para que em nosso código fique mais fácil de chamar"
   ]
  },
  {
   "cell_type": "code",
   "execution_count": 87,
   "id": "aa287143",
   "metadata": {},
   "outputs": [
    {
     "data": {
      "text/plain": [
       "datetime.datetime(2021, 10, 26, 17, 32, 44, 312133)"
      ]
     },
     "execution_count": 87,
     "metadata": {},
     "output_type": "execute_result"
    }
   ],
   "source": [
    "# A função today retorna um formato padrão da lib datetime com a data e horas exatas\n",
    "dt.datetime.today()"
   ]
  },
  {
   "cell_type": "code",
   "execution_count": 88,
   "id": "b0f7cd13",
   "metadata": {},
   "outputs": [
    {
     "data": {
      "text/plain": [
       "26"
      ]
     },
     "execution_count": 88,
     "metadata": {},
     "output_type": "execute_result"
    }
   ],
   "source": [
    "# Pegando o dia\n",
    "dt.datetime.today().day"
   ]
  },
  {
   "cell_type": "code",
   "execution_count": 89,
   "id": "991a54f0",
   "metadata": {},
   "outputs": [
    {
     "data": {
      "text/plain": [
       "10"
      ]
     },
     "execution_count": 89,
     "metadata": {},
     "output_type": "execute_result"
    }
   ],
   "source": [
    "# Pegando o mês\n",
    "dt.datetime.today().month"
   ]
  },
  {
   "cell_type": "code",
   "execution_count": 90,
   "id": "d675ec6c",
   "metadata": {},
   "outputs": [
    {
     "data": {
      "text/plain": [
       "2021"
      ]
     },
     "execution_count": 90,
     "metadata": {},
     "output_type": "execute_result"
    }
   ],
   "source": [
    "# Pegando o ano\n",
    "dt.datetime.today().year"
   ]
  },
  {
   "cell_type": "code",
   "execution_count": 91,
   "id": "3d30832e",
   "metadata": {},
   "outputs": [
    {
     "name": "stdout",
     "output_type": "stream",
     "text": [
      "26/10/2021\n"
     ]
    }
   ],
   "source": [
    "# Formatando data\n",
    "hoje = dt.datetime.today()\n",
    "\n",
    "data_formatada = f\"{hoje.day}/{hoje.month}/{hoje.year}\"\n",
    "\n",
    "print(data_formatada)"
   ]
  },
  {
   "cell_type": "markdown",
   "id": "634b0ed5",
   "metadata": {},
   "source": [
    "Algumas bibliotecas precisam ser instaladas antes de serem um utilizadas em nossas aplicações. Para instalar essas bibliotecas, usamos o gerenciador de módulos do python chamado **pip**.\n",
    "\n",
    "Basta abrirmos o **terminal** e digitar \n",
    "\n",
    "```pip install nome_da_biblioteca```\n",
    "\n",
    "ou\n",
    "\n",
    "```conda install nome_da_biblioteca```\n",
    "\n",
    "\n",
    "Se quisermos uma versão específica,\n",
    "\n",
    "```pip install nume_da_biblioteca==numero_da_versao```"
   ]
  },
  {
   "cell_type": "markdown",
   "id": "bc5c1f4f",
   "metadata": {},
   "source": [
    "Um ótimo site para referência de bibliotecas em Python: https://pypi.org/"
   ]
  }
 ],
 "metadata": {
  "kernelspec": {
   "display_name": "Python 3 (ipykernel)",
   "language": "python",
   "name": "python3"
  },
  "language_info": {
   "codemirror_mode": {
    "name": "ipython",
    "version": 3
   },
   "file_extension": ".py",
   "mimetype": "text/x-python",
   "name": "python",
   "nbconvert_exporter": "python",
   "pygments_lexer": "ipython3",
   "version": "3.9.5"
  },
  "toc": {
   "base_numbering": 1,
   "nav_menu": {},
   "number_sections": false,
   "sideBar": true,
   "skip_h1_title": false,
   "title_cell": "Table of Contents",
   "title_sidebar": "Contents",
   "toc_cell": false,
   "toc_position": {
    "height": "calc(100% - 180px)",
    "left": "10px",
    "top": "150px",
    "width": "349.091px"
   },
   "toc_section_display": true,
   "toc_window_display": false
  }
 },
 "nbformat": 4,
 "nbformat_minor": 5
}
